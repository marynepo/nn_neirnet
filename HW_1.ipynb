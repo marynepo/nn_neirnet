{
  "nbformat": 4,
  "nbformat_minor": 0,
  "metadata": {
    "kernelspec": {
      "display_name": "Python 3",
      "language": "python",
      "name": "python3"
    },
    "language_info": {
      "codemirror_mode": {
        "name": "ipython",
        "version": 3
      },
      "file_extension": ".py",
      "mimetype": "text/x-python",
      "name": "python",
      "nbconvert_exporter": "python",
      "pygments_lexer": "ipython3",
      "version": "3.7.4"
    },
    "colab": {
      "name": "HW_1.ipynb",
      "provenance": [],
      "collapsed_sections": [],
      "toc_visible": true
    }
  },
  "cells": [
    {
      "cell_type": "markdown",
      "metadata": {
        "id": "aZePbr3SeRUR"
      },
      "source": [
        "# ДЗ 1\n",
        "## Классический МЛ в NLP, вспомнить все!"
      ]
    },
    {
      "cell_type": "markdown",
      "metadata": {
        "id": "5eY0D-nveRUY"
      },
      "source": [
        "В этом ДЗ будем работать с датасетом Men_Women_Shoes_Reviews ttps://www.kaggle.com/daishinkan002/men-women-shoes-reviews \n",
        " \n",
        "\n",
        "### **Задание 1**. \n",
        "Предсказать цену по описанию товара (для каждого товара)\n",
        "### **Задание 2.** \n",
        "Предсказать оценку товара пользователем по его отзыву (для каждого отзыва)\n",
        "\n",
        "## *Что нужно сделать в каждом задании:* \n",
        "1) проанализировать данные (все, на что хватит вашей фантазии, хороший анализ включает в себя графики и статистические инструменты анализа, можно приходить с вопросами \"какой инструмент поможет мне проверить такую-то гипотезу/хочу посмотреть вот это вот, как это сделать\", предварительно не стесняйтесь гуглить) **1 балл**\n",
        "\n",
        "2) подготовить данные (стемминг, лемматизация, убрать мусор и стоп-слова, нормализовать... все, что покажется вам разумным относительно данных, но вы должны кратко (комментарием к этому блоку кода в тетрадке) объяснить почему вы сделали именно такой препроцессинг. Хороший препроцессинг - разумный, в данном случае чем больше тем не всегда лучше) **1 балла**\n",
        "\n",
        "3) векторизовать тексты (контекстуальные эммбединги пока что не берем, только BoW и TF-IDF) **0.5 балл**\n",
        "\n",
        "4) сделать гридсерч по нескольким моделям (у нас 2 задания, классификация и регрессия), подобрать гиперпараметры, выбрать лучшую модель, рассказать, почему, на ваш взгляд,лучший результат показал лучший алгоритм **1 балл**\n",
        "\n",
        "5) оценить и проанализировать качество лучших решений для каждой задачи (рассказать с чем ваша модель справляется хорошо, а где у нее \"слабые места\", можно ли как-то улучшить ваши результаты. Хороший анализ сопровождается графиками) **1,5 балла** \n",
        "\n",
        "Максимальная сумма баллов при выполнении 5 пунктов в 2 заданиях - 10\n",
        "\n",
        "В тетрадке с первого занятия много дополнительной информации, которая может вам помочь, но все равно не стесняйтесь приходить с вопросами в чат курса. "
      ]
    },
    {
      "cell_type": "markdown",
      "metadata": {
        "id": "CjqnSvnO4RLg"
      },
      "source": [
        "# Загрузка и обработка данных"
      ]
    },
    {
      "cell_type": "code",
      "metadata": {
        "colab": {
          "base_uri": "https://localhost:8080/"
        },
        "id": "kyqifAgTeRUe",
        "outputId": "ff821d33-33d8-4e27-aea5-a48b37652194"
      },
      "source": [
        "import pandas as pd\n",
        "import numpy as np\n",
        "from sklearn.feature_extraction.text import CountVectorizer, TfidfVectorizer\n",
        "from sklearn.metrics import *\n",
        "from sklearn.linear_model import Ridge, SGDRegressor\n",
        "from sklearn.naive_bayes import MultinomialNB\n",
        "from sklearn.model_selection import train_test_split\n",
        "import seaborn as sns\n",
        "import matplotlib.pyplot as plt\n",
        "import re\n",
        "import nltk\n",
        "from nltk.stem import PorterStemmer\n",
        "from nltk.tokenize import word_tokenize\n",
        "from nltk.corpus import stopwords\n",
        "from spacy.lang.en.stop_words import STOP_WORDS\n",
        "import spacy\n",
        "from sklearn.ensemble import RandomForestClassifier\n",
        "from sklearn.svm import SVR, LinearSVC\n",
        "from sklearn.model_selection import GridSearchCV\n",
        "from scipy.sparse import hstack\n",
        "%matplotlib inline\n",
        "\n",
        "nlp = spacy.load('en')\n",
        "nltk.download(['stopwords', 'punkt'])\n",
        "ps = PorterStemmer()\n",
        "sw = stopwords.words('english')"
      ],
      "execution_count": 1,
      "outputs": [
        {
          "output_type": "stream",
          "name": "stdout",
          "text": [
            "[nltk_data] Downloading package stopwords to /root/nltk_data...\n",
            "[nltk_data]   Unzipping corpora/stopwords.zip.\n",
            "[nltk_data] Downloading package punkt to /root/nltk_data...\n",
            "[nltk_data]   Unzipping tokenizers/punkt.zip.\n"
          ]
        }
      ]
    },
    {
      "cell_type": "code",
      "metadata": {
        "id": "oxu8aYwgeRUf"
      },
      "source": [
        "db = pd.read_csv('Shoes_Data.csv')"
      ],
      "execution_count": 2,
      "outputs": []
    },
    {
      "cell_type": "code",
      "metadata": {
        "id": "BxgmabUN2_WV"
      },
      "source": [
        "db['price'] = [float(i[1:]) for i in db['price']]\n",
        "db['rating'] = [float(re.search('[\\d\\.]+', i).group(0)) for i in db['rating']]\n",
        "db['total_reviews'] = [int(re.search('[\\d\\.]+', i).group(0)) for i in db['total_reviews']]"
      ],
      "execution_count": 3,
      "outputs": []
    },
    {
      "cell_type": "markdown",
      "metadata": {
        "id": "-hGtjTrQGje9"
      },
      "source": [
        "#Регрессия\n",
        "\n",
        "## Статистика\n",
        "\n",
        "1. Достаточно много выбросов, средняя цена где-то 1,5к."
      ]
    },
    {
      "cell_type": "code",
      "metadata": {
        "colab": {
          "base_uri": "https://localhost:8080/",
          "height": 265
        },
        "id": "2sW0h6VY1uyG",
        "outputId": "5e75c1e1-93c6-401d-d0ff-e13e80bec73a"
      },
      "source": [
        "ax = sns.boxplot(data=db['price'])"
      ],
      "execution_count": null,
      "outputs": [
        {
          "output_type": "display_data",
          "data": {
            "image/png": "[encoded data removed]",
            "text/plain": [
              "<Figure size 432x288 with 1 Axes>"
            ]
          },
          "metadata": {
            "needs_background": "light"
          }
        }
      ]
    },
    {
      "cell_type": "markdown",
      "metadata": {
        "id": "ueijSd-pCfgT"
      },
      "source": [
        "2. Посмотрим, как влияет пол владельца на цену.\n",
        "\n",
        "Можно заметить, что у женщин больше средний диапазон цен на обувь и средняя цена выше, однако у мужчин относительно много выбросов с очень высокими ценами. Так же стоит отметить, что мужской обуви в принципе в 2 раза больше, чем женской. Поскольку различия, на мой взгляд, достаточно большие, то стоит учитывать этот признак."
      ]
    },
    {
      "cell_type": "code",
      "metadata": {
        "colab": {
          "base_uri": "https://localhost:8080/",
          "height": 279
        },
        "id": "Dfmd5rYs196K",
        "outputId": "4c417642-1996-410b-8d27-e76e2d6c2dfc"
      },
      "source": [
        "ax = sns.boxplot(x='Shoe Type', y='price', data=db)"
      ],
      "execution_count": null,
      "outputs": [
        {
          "output_type": "display_data",
          "data": {
            "image/png": "[encoded data removed]",
            "text/plain": [
              "<Figure size 432x288 with 1 Axes>"
            ]
          },
          "metadata": {
            "needs_background": "light"
          }
        }
      ]
    },
    {
      "cell_type": "code",
      "metadata": {
        "colab": {
          "base_uri": "https://localhost:8080/"
        },
        "id": "yRezoeamDlB8",
        "outputId": "a596e8da-a623-4f60-d773-a2664a2c4b95"
      },
      "source": [
        "print(db['Shoe Type'][db['Shoe Type'] == 'Men'].count())\n",
        "print(db['Shoe Type'][db['Shoe Type'] == 'Women'].count())"
      ],
      "execution_count": null,
      "outputs": [
        {
          "output_type": "stream",
          "name": "stdout",
          "text": [
            "856\n",
            "374\n"
          ]
        }
      ]
    },
    {
      "cell_type": "markdown",
      "metadata": {
        "id": "jHx4oj7_HdW_"
      },
      "source": [
        "3. Также можно посмотреть, как цена зависит от среднего рейтинга. У мужчин чуть более ровная зависимость: чем больше рейтинг, тем больше цена. У женщин все чуть сложнее, возможно, это из-за того, что женской обуви в принципе меньше. Этот признак также можно взять для обучения."
      ]
    },
    {
      "cell_type": "code",
      "metadata": {
        "colab": {
          "base_uri": "https://localhost:8080/",
          "height": 281
        },
        "id": "lxUb2g_LeRUo",
        "outputId": "89e83f19-a6af-4a93-f667-69fd4847314e"
      },
      "source": [
        "ax = sns.lineplot(data=db, x='rating', y = 'price', hue='Shoe Type')"
      ],
      "execution_count": null,
      "outputs": [
        {
          "output_type": "display_data",
          "data": {
            "image/png": "[encoded data removed]",
            "text/plain": [
              "<Figure size 432x288 with 1 Axes>"
            ]
          },
          "metadata": {
            "needs_background": "light"
          }
        }
      ]
    },
    {
      "cell_type": "code",
      "metadata": {
        "colab": {
          "base_uri": "https://localhost:8080/"
        },
        "id": "lP1JeEFq6knj",
        "outputId": "3cc1fa0f-996b-4f90-c689-a54ef92ffe25"
      },
      "source": [
        "db['Shoe Type'][db['Shoe Type'] == 'Men'] = 0.0\n",
        "db['Shoe Type'][db['Shoe Type'] == 'Women'] = 1.0\n",
        "db['len_descs'] = [len(desc.split()) for desc in db['product_description']]"
      ],
      "execution_count": 4,
      "outputs": [
        {
          "output_type": "stream",
          "name": "stderr",
          "text": [
            "/usr/local/lib/python3.7/dist-packages/ipykernel_launcher.py:1: SettingWithCopyWarning: \n",
            "A value is trying to be set on a copy of a slice from a DataFrame\n",
            "\n",
            "See the caveats in the documentation: https://pandas.pydata.org/pandas-docs/stable/user_guide/indexing.html#returning-a-view-versus-a-copy\n",
            "  \"\"\"Entry point for launching an IPython kernel.\n",
            "/usr/local/lib/python3.7/dist-packages/ipykernel_launcher.py:2: SettingWithCopyWarning: \n",
            "A value is trying to be set on a copy of a slice from a DataFrame\n",
            "\n",
            "See the caveats in the documentation: https://pandas.pydata.org/pandas-docs/stable/user_guide/indexing.html#returning-a-view-versus-a-copy\n",
            "  \n"
          ]
        }
      ]
    },
    {
      "cell_type": "markdown",
      "metadata": {
        "id": "bEGpGOuWI2Tt"
      },
      "source": [
        "4. Посмотрим на корреляцию. Для мужчин можно увидеть, что есть небольшая корреляция между ценой и рейтингом, у женщин же наибольшая корреляция между ценой и количеством отзывов."
      ]
    },
    {
      "cell_type": "code",
      "metadata": {
        "colab": {
          "base_uri": "https://localhost:8080/",
          "height": 173
        },
        "id": "xkSRGb7deRUo",
        "outputId": "5c462f20-1121-4ef9-fb34-750b93e89414"
      },
      "source": [
        "db[db['Shoe Type'] == 0.0].corr()"
      ],
      "execution_count": null,
      "outputs": [
        {
          "output_type": "execute_result",
          "data": {
            "text/html": [
              "<div>\n",
              "<style scoped>\n",
              "    .dataframe tbody tr th:only-of-type {\n",
              "        vertical-align: middle;\n",
              "    }\n",
              "\n",
              "    .dataframe tbody tr th {\n",
              "        vertical-align: top;\n",
              "    }\n",
              "\n",
              "    .dataframe thead th {\n",
              "        text-align: right;\n",
              "    }\n",
              "</style>\n",
              "<table border=\"1\" class=\"dataframe\">\n",
              "  <thead>\n",
              "    <tr style=\"text-align: right;\">\n",
              "      <th></th>\n",
              "      <th>price</th>\n",
              "      <th>rating</th>\n",
              "      <th>total_reviews</th>\n",
              "      <th>len_descs</th>\n",
              "    </tr>\n",
              "  </thead>\n",
              "  <tbody>\n",
              "    <tr>\n",
              "      <th>price</th>\n",
              "      <td>1.000000</td>\n",
              "      <td>0.303264</td>\n",
              "      <td>-0.143885</td>\n",
              "      <td>0.190974</td>\n",
              "    </tr>\n",
              "    <tr>\n",
              "      <th>rating</th>\n",
              "      <td>0.303264</td>\n",
              "      <td>1.000000</td>\n",
              "      <td>0.059785</td>\n",
              "      <td>0.075601</td>\n",
              "    </tr>\n",
              "    <tr>\n",
              "      <th>total_reviews</th>\n",
              "      <td>-0.143885</td>\n",
              "      <td>0.059785</td>\n",
              "      <td>1.000000</td>\n",
              "      <td>0.033492</td>\n",
              "    </tr>\n",
              "    <tr>\n",
              "      <th>len_descs</th>\n",
              "      <td>0.190974</td>\n",
              "      <td>0.075601</td>\n",
              "      <td>0.033492</td>\n",
              "      <td>1.000000</td>\n",
              "    </tr>\n",
              "  </tbody>\n",
              "</table>\n",
              "</div>"
            ],
            "text/plain": [
              "                  price    rating  total_reviews  len_descs\n",
              "price          1.000000  0.303264      -0.143885   0.190974\n",
              "rating         0.303264  1.000000       0.059785   0.075601\n",
              "total_reviews -0.143885  0.059785       1.000000   0.033492\n",
              "len_descs      0.190974  0.075601       0.033492   1.000000"
            ]
          },
          "metadata": {},
          "execution_count": 12
        }
      ]
    },
    {
      "cell_type": "code",
      "metadata": {
        "colab": {
          "base_uri": "https://localhost:8080/",
          "height": 173
        },
        "id": "ojYle96NItY-",
        "outputId": "3ddb3cb2-eb70-4881-9214-ac4d184d8577"
      },
      "source": [
        "db[db['Shoe Type'] == 1.0].corr()"
      ],
      "execution_count": null,
      "outputs": [
        {
          "output_type": "execute_result",
          "data": {
            "text/html": [
              "<div>\n",
              "<style scoped>\n",
              "    .dataframe tbody tr th:only-of-type {\n",
              "        vertical-align: middle;\n",
              "    }\n",
              "\n",
              "    .dataframe tbody tr th {\n",
              "        vertical-align: top;\n",
              "    }\n",
              "\n",
              "    .dataframe thead th {\n",
              "        text-align: right;\n",
              "    }\n",
              "</style>\n",
              "<table border=\"1\" class=\"dataframe\">\n",
              "  <thead>\n",
              "    <tr style=\"text-align: right;\">\n",
              "      <th></th>\n",
              "      <th>price</th>\n",
              "      <th>rating</th>\n",
              "      <th>total_reviews</th>\n",
              "      <th>len_descs</th>\n",
              "    </tr>\n",
              "  </thead>\n",
              "  <tbody>\n",
              "    <tr>\n",
              "      <th>price</th>\n",
              "      <td>1.000000</td>\n",
              "      <td>0.097977</td>\n",
              "      <td>0.178466</td>\n",
              "      <td>0.055357</td>\n",
              "    </tr>\n",
              "    <tr>\n",
              "      <th>rating</th>\n",
              "      <td>0.097977</td>\n",
              "      <td>1.000000</td>\n",
              "      <td>0.128121</td>\n",
              "      <td>0.003074</td>\n",
              "    </tr>\n",
              "    <tr>\n",
              "      <th>total_reviews</th>\n",
              "      <td>0.178466</td>\n",
              "      <td>0.128121</td>\n",
              "      <td>1.000000</td>\n",
              "      <td>-0.024974</td>\n",
              "    </tr>\n",
              "    <tr>\n",
              "      <th>len_descs</th>\n",
              "      <td>0.055357</td>\n",
              "      <td>0.003074</td>\n",
              "      <td>-0.024974</td>\n",
              "      <td>1.000000</td>\n",
              "    </tr>\n",
              "  </tbody>\n",
              "</table>\n",
              "</div>"
            ],
            "text/plain": [
              "                  price    rating  total_reviews  len_descs\n",
              "price          1.000000  0.097977       0.178466   0.055357\n",
              "rating         0.097977  1.000000       0.128121   0.003074\n",
              "total_reviews  0.178466  0.128121       1.000000  -0.024974\n",
              "len_descs      0.055357  0.003074      -0.024974   1.000000"
            ]
          },
          "metadata": {},
          "execution_count": 13
        }
      ]
    },
    {
      "cell_type": "markdown",
      "metadata": {
        "id": "eCK2eYLv_3Yv"
      },
      "source": [
        "## Предобработка текстов (для обоих заданий одинаковая)\n",
        "\n",
        "Препроцессинг: \n",
        "\n",
        "1) Лемматизация \n",
        "\n",
        "Не стеминг, поскольку он менее точный, а данных не так много, поэтому разница в скорости здесь не критична.\n",
        "\n",
        "2) Очистка от пунктуации, кроме ! и ? (кажется, они могут нести какую-то эмоциональную окраску, поэтому решила их оставить), и стоп-слов (в данном случае нам они не дадут необходим0й информации). Числа решила оставить, поскольку они здесь могут давать информацию (например, цена может быть прописана в описании или какая-нибудь комплектация. Если говорить об отзывах, то также люди нередко прописывают свою оценку)"
      ]
    },
    {
      "cell_type": "code",
      "metadata": {
        "id": "_0EjTWl7Btnt"
      },
      "source": [
        "def lemma_preprocess_text(text):\n",
        "  text = [token.lemma_ for token in nlp(text) if (not token.is_punct or str(token) in ['!', '?']) and not token.is_stop]\n",
        "  return ' '.join(text)\n",
        "\n",
        "descs = [lemma_preprocess_text(text) for text in db['product_description']]"
      ],
      "execution_count": 226,
      "outputs": []
    },
    {
      "cell_type": "markdown",
      "metadata": {
        "id": "_CPw_sxL5sQe"
      },
      "source": [
        "## Обучение и предсказание\n",
        "\n",
        "Модели: ридж, svr и sdg. Ридж и SVR хорошо работают с выбросами, поэтому взяла его. Лассо и Эластикнет работали медленно, поэтому от них отказалась и решила еще посмотреть на sdgregressor. Тфидф работает лучше, чем каунтвекторайзер, поэтому использовала его."
      ]
    },
    {
      "cell_type": "code",
      "metadata": {
        "id": "SFZRJGjwM2zY"
      },
      "source": [
        "cv = CountVectorizer(max_features=1000, min_df=5, max_df=0.4, ngram_range=(1,2))\n",
        "tfidf = TfidfVectorizer(max_features=2000, min_df=5,analyzer='word', ngram_range=(1,2), max_df=0.5)\n",
        "\n",
        "def vectorize(vect, texts):\n",
        "  texts = vect.fit_transform(texts)\n",
        "  return texts\n",
        "\n",
        "count_text = vectorize(cv, descs)\n",
        "tfidf_text = vectorize(tfidf, descs)\n",
        "features = hstack([tfidf_text, np.expand_dims(db['Shoe Type'].to_numpy(dtype=np.float64), axis=1),\n",
        "                   np.expand_dims(db['rating'].to_numpy(dtype=np.float64), axis=1)])"
      ],
      "execution_count": 227,
      "outputs": []
    },
    {
      "cell_type": "code",
      "metadata": {
        "colab": {
          "base_uri": "https://localhost:8080/"
        },
        "id": "OsALiLMRD4jo",
        "outputId": "fa37b964-2cb0-4277-8761-5ac8782b7a9a"
      },
      "source": [
        "mae = make_scorer(mean_absolute_error,greater_is_better=False)\n",
        "X_train, X_test, y_train, y_test = train_test_split(features, db['price'].to_numpy(), random_state=42, stratify=db['Shoe Type'])\n",
        "mod_params = {'Ridge': [Ridge(random_state=42), {'alpha': [0.001, 0.01, 0.1, 0.5, 1]}],\n",
        "              'SVR': [SVR(kernel='linear'), {'C': [500, 1000, 2000, 3000, 4000, 5000]}],\n",
        "              'SGDRegressor':[SGDRegressor(random_state=42, max_iter=10000), {'loss': ['squared_loss', 'huber', 'epsilon_insensitive', 'squared_epsilon_insensitive'],\n",
        "                                                              'penalty': ['l1', 'l2', 'elasticnet'],\n",
        "                                                              'alpha': [0.001, 0.01, 0.1, 0.5, 1],\n",
        "                                                              }]}\n",
        "for model, params in mod_params.items():\n",
        "  grid_search = GridSearchCV(params[0], param_grid=params[1], scoring=mae, n_jobs=-1, refit=True)\n",
        "  grid_search.fit(X_train, y_train)\n",
        "  print('{} best train score: {}'.format(model, grid_search.best_score_))\n",
        "  print('{} best parameters: {}'.format(model, grid_search.best_params_))\n",
        "  print('{} test score: {}'.format(model, grid_search.score(X_test, y_test)))"
      ],
      "execution_count": 240,
      "outputs": [
        {
          "output_type": "stream",
          "name": "stdout",
          "text": [
            "Ridge best train score: -646.5556324249139\n",
            "Ridge best parameters: {'alpha': 0.1}\n",
            "Ridge test score: -640.0985714143562\n",
            "SVR best train score: -602.9896005320301\n",
            "SVR best parameters: {'C': 3000}\n",
            "SVR test score: -607.7697497203176\n",
            "SGDRegressor best train score: -800.912034522763\n",
            "SGDRegressor best parameters: {'alpha': 0.001, 'loss': 'squared_epsilon_insensitive', 'penalty': 'l1'}\n",
            "SGDRegressor test score: -729.4153489871427\n"
          ]
        }
      ]
    },
    {
      "cell_type": "markdown",
      "metadata": {
        "id": "kwwYM4RiWczV"
      },
      "source": [
        "Лучше всего работает svr, это неудивительно, учитывая его работу с выбросами. На 2 месте - ридж, он тоже неплохо работает с выбросами. А вот хуже всего - sgd, потому что он наиболее чувствителен к выбросам"
      ]
    },
    {
      "cell_type": "code",
      "metadata": {
        "id": "qvaTdyJ0Meke"
      },
      "source": [
        "model = SVR(kernel='linear', C=3000)\n",
        "model.fit(X_train, y_train)\n",
        "y_pred = model.predict(X_test)\n",
        "importance = model.coef_"
      ],
      "execution_count": 241,
      "outputs": []
    },
    {
      "cell_type": "markdown",
      "metadata": {
        "id": "HHUYMIwu0ow3"
      },
      "source": [
        "Еще можно посмотреть на r2, оно около 0.5, не так уж и плохо для регрессии"
      ]
    },
    {
      "cell_type": "code",
      "metadata": {
        "colab": {
          "base_uri": "https://localhost:8080/"
        },
        "id": "nZZRNIXzvy9n",
        "outputId": "1ac067e3-d500-4768-a4d0-08ef8f5b7866"
      },
      "source": [
        "r2_score(y_pred, y_test)"
      ],
      "execution_count": 242,
      "outputs": [
        {
          "output_type": "execute_result",
          "data": {
            "text/plain": [
              "0.5205270210638128"
            ]
          },
          "metadata": {},
          "execution_count": 242
        }
      ]
    },
    {
      "cell_type": "markdown",
      "metadata": {
        "id": "IFz_Ng_Y05o7"
      },
      "source": [
        "##Визуализация результатов\n",
        "Средний диапазон примерно одинаков (чуть меньше на тесте, вероятно, это влияние выбросов), однако в тесте слишком много выбросов с большими ценами. Наша же модель эти выбросы находит хуже (возможно, это можно считать в некоторой степени за плюс, она не переобучилась)"
      ]
    },
    {
      "cell_type": "code",
      "metadata": {
        "id": "6aZfV2eQ04IU",
        "colab": {
          "base_uri": "https://localhost:8080/",
          "height": 283
        },
        "outputId": "f4e4e1c1-5047-4a95-d293-5ee0e115b61f"
      },
      "source": [
        "y_df = pd.DataFrame()\n",
        "y_df['pred'] = y_pred\n",
        "y_df['test'] = y_test\n",
        "sns.boxplot(data=y_df)"
      ],
      "execution_count": 243,
      "outputs": [
        {
          "output_type": "execute_result",
          "data": {
            "text/plain": [
              "<matplotlib.axes._subplots.AxesSubplot at 0x7f471b3da6d0>"
            ]
          },
          "metadata": {},
          "execution_count": 243
        },
        {
          "output_type": "display_data",
          "data": {
            "image/png": "[encoded data removed]",
            "text/plain": [
              "<Figure size 432x288 with 1 Axes>"
            ]
          },
          "metadata": {
            "needs_background": "light"
          }
        }
      ]
    },
    {
      "cell_type": "markdown",
      "metadata": {
        "id": "Z-uxSpV2n2AY"
      },
      "source": [
        "Посмотрим на важные признаки. Веса у важных признаков получились достаточно большие. В топ-10 признаков входят достаточно специфичные для темы обуви слова - фирмы(найк, адидас, конверс), например. У меня немного выбиваются из картины grip и react, но может я просто не знаю особенностей английских описаний обуви."
      ]
    },
    {
      "cell_type": "code",
      "metadata": {
        "id": "0X4cfbySciAg"
      },
      "source": [
        "importance = importance.toarray()[0]"
      ],
      "execution_count": 254,
      "outputs": []
    },
    {
      "cell_type": "code",
      "metadata": {
        "colab": {
          "base_uri": "https://localhost:8080/",
          "height": 282
        },
        "id": "_LieTJvMRPXT",
        "outputId": "38627f1d-567f-4a6d-db63-fa6f359ef78f"
      },
      "source": [
        "plt.bar([x for x in range(len(importance))], importance)"
      ],
      "execution_count": 257,
      "outputs": [
        {
          "output_type": "execute_result",
          "data": {
            "text/plain": [
              "<BarContainer object of 2002 artists>"
            ]
          },
          "metadata": {},
          "execution_count": 257
        },
        {
          "output_type": "display_data",
          "data": {
            "image/png": "[encoded data removed]",
            "text/plain": [
              "<Figure size 432x288 with 1 Axes>"
            ]
          },
          "metadata": {
            "needs_background": "light"
          }
        }
      ]
    },
    {
      "cell_type": "code",
      "metadata": {
        "id": "7HBffzVDiaaX"
      },
      "source": [
        "feats = tfidf.vocabulary_\n",
        "feats['GENDER'] = 2000\n",
        "feats['RATING'] = 2001"
      ],
      "execution_count": 258,
      "outputs": []
    },
    {
      "cell_type": "code",
      "metadata": {
        "colab": {
          "base_uri": "https://localhost:8080/"
        },
        "id": "Pwe62_TCINtF",
        "outputId": "47fd4fd5-56b2-4b69-9a0a-205324bfffbc"
      },
      "source": [
        "voc = sorted(feats, key=lambda x: feats[x])\n",
        "absim = [abs(x) for x in importance]\n",
        "order = np.argsort(absim)[::-1]\n",
        "top = []\n",
        "for i in order:\n",
        "    top.append((voc[i], importance[i]))\n",
        "print(top[:10])"
      ],
      "execution_count": 261,
      "outputs": [
        {
          "output_type": "stream",
          "name": "stdout",
          "text": [
            "[('nike', 5566.732706629223), ('converse', 3409.2702135279815), ('adidas', 3327.5762540916558), ('badminton', 3259.232409901722), ('midsole cushion', 2766.5354937362226), ('react', 2704.896786636772), ('game', 2692.9285772642875), ('responsive', 2676.601309196452), ('quality material', 2667.6277832507376), ('grip', -2555.0043579757257)]\n"
          ]
        }
      ]
    },
    {
      "cell_type": "markdown",
      "metadata": {
        "id": "HOumhXzBrEyn"
      },
      "source": [
        "Рейтинг и пол оказались не очень важными признаками"
      ]
    },
    {
      "cell_type": "code",
      "metadata": {
        "colab": {
          "base_uri": "https://localhost:8080/"
        },
        "id": "HZLR93bbqLhf",
        "outputId": "2d95a164-0b21-4d53-d277-245a09170316"
      },
      "source": [
        "importance[2000:]"
      ],
      "execution_count": 259,
      "outputs": [
        {
          "output_type": "execute_result",
          "data": {
            "text/plain": [
              "array([282.06414517,  71.12404036])"
            ]
          },
          "metadata": {},
          "execution_count": 259
        }
      ]
    },
    {
      "cell_type": "markdown",
      "metadata": {
        "id": "wtk-cE8l_maX"
      },
      "source": [
        "# Классификация\n",
        "\n",
        "## Преобразование к удобному формату"
      ]
    },
    {
      "cell_type": "code",
      "metadata": {
        "id": "1aLH6MCAAIKX"
      },
      "source": [
        "reviews = [revs.split('||') for revs in db['reviews']]\n",
        "rev_rating = []\n",
        "for rats in db['reviews_rating']:\n",
        "  rev_rating.append([float(re.search('[\\d\\.]+', i).group(0)) for i in rats.split('||')])"
      ],
      "execution_count": 262,
      "outputs": []
    },
    {
      "cell_type": "code",
      "metadata": {
        "id": "IO4hn2VK4e7L"
      },
      "source": [
        "ids = []\n",
        "rews =[]\n",
        "rats = []\n",
        "for i, revs in enumerate(reviews):\n",
        "  for j, rev in enumerate(revs):\n",
        "    ids.append(i)\n",
        "    rews.append(rev)\n",
        "    rats.append(rev_rating[i][j])\n",
        "rev_df = pd.DataFrame({'id': ids, 'review': rews, 'rev_rating': rats})"
      ],
      "execution_count": 263,
      "outputs": []
    },
    {
      "cell_type": "code",
      "metadata": {
        "id": "ANPFJlzBGNPN"
      },
      "source": [
        "db['id'] = range(len(db['title']))"
      ],
      "execution_count": 264,
      "outputs": []
    },
    {
      "cell_type": "code",
      "metadata": {
        "id": "79NeiXbtGidN"
      },
      "source": [
        "full_df = rev_df.merge(db, on='id')"
      ],
      "execution_count": 265,
      "outputs": []
    },
    {
      "cell_type": "code",
      "metadata": {
        "id": "tlKwABfkJE9I"
      },
      "source": [
        "full_df['len_rev'] = [len(rev.split()) for rev in full_df['review']]"
      ],
      "execution_count": 266,
      "outputs": []
    },
    {
      "cell_type": "markdown",
      "metadata": {
        "id": "45yg-wNRImy3"
      },
      "source": [
        "##Статистика\n",
        "\n",
        "А здесь уже очень большая разница между мужчинами и женщинами, женщины намного реже ставят низкие оценки. Кроме того, выбросов в этих данных уже не так много"
      ]
    },
    {
      "cell_type": "code",
      "metadata": {
        "id": "FO4tcALQ483m",
        "colab": {
          "base_uri": "https://localhost:8080/",
          "height": 279
        },
        "outputId": "30523417-40e5-4589-84d4-a1f629044466"
      },
      "source": [
        "ax = sns.boxplot(x='Shoe Type', y='rev_rating', data=full_df)"
      ],
      "execution_count": 267,
      "outputs": [
        {
          "output_type": "display_data",
          "data": {
            "image/png": "[encoded data removed]",
            "text/plain": [
              "<Figure size 432x288 with 1 Axes>"
            ]
          },
          "metadata": {
            "needs_background": "light"
          }
        }
      ]
    },
    {
      "cell_type": "markdown",
      "metadata": {
        "id": "_ftYnf8RKZS1"
      },
      "source": [
        "С ценой закономерности не наблюдается"
      ]
    },
    {
      "cell_type": "code",
      "metadata": {
        "colab": {
          "base_uri": "https://localhost:8080/",
          "height": 279
        },
        "id": "cpEecQjkJaf6",
        "outputId": "00076967-1efb-479a-f79c-672ef1029d52"
      },
      "source": [
        "ax = sns.lineplot(data=full_df, x='price', y = 'rev_rating', hue='Shoe Type')"
      ],
      "execution_count": 268,
      "outputs": [
        {
          "output_type": "display_data",
          "data": {
            "image/png": "[encoded data removed]",
            "text/plain": [
              "<Figure size 432x288 with 1 Axes>"
            ]
          },
          "metadata": {
            "needs_background": "light"
          }
        }
      ]
    },
    {
      "cell_type": "markdown",
      "metadata": {
        "id": "D3sNstQyLmq7"
      },
      "source": [
        "Ни у мужчин, ни у женщин нет никаких сильно коррелирующих с оценкой признаков, поэтому кроме пола и самих отзывов другие признаки брать не будем"
      ]
    },
    {
      "cell_type": "code",
      "metadata": {
        "colab": {
          "base_uri": "https://localhost:8080/",
          "height": 266
        },
        "id": "K_izrgnTKxeY",
        "outputId": "afeb3c4d-277e-4cd2-bc71-d2b3f60f65d7"
      },
      "source": [
        "full_df[full_df['Shoe Type'] == 0.0].corr()"
      ],
      "execution_count": 128,
      "outputs": [
        {
          "output_type": "execute_result",
          "data": {
            "text/html": [
              "<div>\n",
              "<style scoped>\n",
              "    .dataframe tbody tr th:only-of-type {\n",
              "        vertical-align: middle;\n",
              "    }\n",
              "\n",
              "    .dataframe tbody tr th {\n",
              "        vertical-align: top;\n",
              "    }\n",
              "\n",
              "    .dataframe thead th {\n",
              "        text-align: right;\n",
              "    }\n",
              "</style>\n",
              "<table border=\"1\" class=\"dataframe\">\n",
              "  <thead>\n",
              "    <tr style=\"text-align: right;\">\n",
              "      <th></th>\n",
              "      <th>id</th>\n",
              "      <th>rev_rating</th>\n",
              "      <th>price</th>\n",
              "      <th>rating</th>\n",
              "      <th>total_reviews</th>\n",
              "      <th>len_descs</th>\n",
              "      <th>len_rev</th>\n",
              "    </tr>\n",
              "  </thead>\n",
              "  <tbody>\n",
              "    <tr>\n",
              "      <th>id</th>\n",
              "      <td>1.000000</td>\n",
              "      <td>0.056578</td>\n",
              "      <td>0.837966</td>\n",
              "      <td>0.441880</td>\n",
              "      <td>-0.166275</td>\n",
              "      <td>0.137544</td>\n",
              "      <td>-0.059676</td>\n",
              "    </tr>\n",
              "    <tr>\n",
              "      <th>rev_rating</th>\n",
              "      <td>0.056578</td>\n",
              "      <td>1.000000</td>\n",
              "      <td>0.060053</td>\n",
              "      <td>0.237955</td>\n",
              "      <td>0.014776</td>\n",
              "      <td>0.007076</td>\n",
              "      <td>-0.140487</td>\n",
              "    </tr>\n",
              "    <tr>\n",
              "      <th>price</th>\n",
              "      <td>0.837966</td>\n",
              "      <td>0.060053</td>\n",
              "      <td>1.000000</td>\n",
              "      <td>0.393598</td>\n",
              "      <td>-0.151926</td>\n",
              "      <td>0.226405</td>\n",
              "      <td>-0.069313</td>\n",
              "    </tr>\n",
              "    <tr>\n",
              "      <th>rating</th>\n",
              "      <td>0.441880</td>\n",
              "      <td>0.237955</td>\n",
              "      <td>0.393598</td>\n",
              "      <td>1.000000</td>\n",
              "      <td>0.060029</td>\n",
              "      <td>0.112273</td>\n",
              "      <td>-0.028281</td>\n",
              "    </tr>\n",
              "    <tr>\n",
              "      <th>total_reviews</th>\n",
              "      <td>-0.166275</td>\n",
              "      <td>0.014776</td>\n",
              "      <td>-0.151926</td>\n",
              "      <td>0.060029</td>\n",
              "      <td>1.000000</td>\n",
              "      <td>0.034634</td>\n",
              "      <td>0.120944</td>\n",
              "    </tr>\n",
              "    <tr>\n",
              "      <th>len_descs</th>\n",
              "      <td>0.137544</td>\n",
              "      <td>0.007076</td>\n",
              "      <td>0.226405</td>\n",
              "      <td>0.112273</td>\n",
              "      <td>0.034634</td>\n",
              "      <td>1.000000</td>\n",
              "      <td>-0.031301</td>\n",
              "    </tr>\n",
              "    <tr>\n",
              "      <th>len_rev</th>\n",
              "      <td>-0.059676</td>\n",
              "      <td>-0.140487</td>\n",
              "      <td>-0.069313</td>\n",
              "      <td>-0.028281</td>\n",
              "      <td>0.120944</td>\n",
              "      <td>-0.031301</td>\n",
              "      <td>1.000000</td>\n",
              "    </tr>\n",
              "  </tbody>\n",
              "</table>\n",
              "</div>"
            ],
            "text/plain": [
              "                     id  rev_rating  ...  len_descs   len_rev\n",
              "id             1.000000    0.056578  ...   0.137544 -0.059676\n",
              "rev_rating     0.056578    1.000000  ...   0.007076 -0.140487\n",
              "price          0.837966    0.060053  ...   0.226405 -0.069313\n",
              "rating         0.441880    0.237955  ...   0.112273 -0.028281\n",
              "total_reviews -0.166275    0.014776  ...   0.034634  0.120944\n",
              "len_descs      0.137544    0.007076  ...   1.000000 -0.031301\n",
              "len_rev       -0.059676   -0.140487  ...  -0.031301  1.000000\n",
              "\n",
              "[7 rows x 7 columns]"
            ]
          },
          "metadata": {},
          "execution_count": 128
        }
      ]
    },
    {
      "cell_type": "code",
      "metadata": {
        "colab": {
          "base_uri": "https://localhost:8080/",
          "height": 266
        },
        "id": "vM_eyeETLC9X",
        "outputId": "7f3d786b-3af3-4a00-9511-fbe1100f9f2f"
      },
      "source": [
        "full_df[full_df['Shoe Type'] == 1.0].corr()"
      ],
      "execution_count": 129,
      "outputs": [
        {
          "output_type": "execute_result",
          "data": {
            "text/html": [
              "<div>\n",
              "<style scoped>\n",
              "    .dataframe tbody tr th:only-of-type {\n",
              "        vertical-align: middle;\n",
              "    }\n",
              "\n",
              "    .dataframe tbody tr th {\n",
              "        vertical-align: top;\n",
              "    }\n",
              "\n",
              "    .dataframe thead th {\n",
              "        text-align: right;\n",
              "    }\n",
              "</style>\n",
              "<table border=\"1\" class=\"dataframe\">\n",
              "  <thead>\n",
              "    <tr style=\"text-align: right;\">\n",
              "      <th></th>\n",
              "      <th>id</th>\n",
              "      <th>rev_rating</th>\n",
              "      <th>price</th>\n",
              "      <th>rating</th>\n",
              "      <th>total_reviews</th>\n",
              "      <th>len_descs</th>\n",
              "      <th>len_rev</th>\n",
              "    </tr>\n",
              "  </thead>\n",
              "  <tbody>\n",
              "    <tr>\n",
              "      <th>id</th>\n",
              "      <td>1.000000</td>\n",
              "      <td>0.085719</td>\n",
              "      <td>0.917187</td>\n",
              "      <td>0.405477</td>\n",
              "      <td>0.156291</td>\n",
              "      <td>0.098546</td>\n",
              "      <td>-0.155219</td>\n",
              "    </tr>\n",
              "    <tr>\n",
              "      <th>rev_rating</th>\n",
              "      <td>0.085719</td>\n",
              "      <td>1.000000</td>\n",
              "      <td>0.084670</td>\n",
              "      <td>0.267607</td>\n",
              "      <td>0.051285</td>\n",
              "      <td>0.032808</td>\n",
              "      <td>-0.179284</td>\n",
              "    </tr>\n",
              "    <tr>\n",
              "      <th>price</th>\n",
              "      <td>0.917187</td>\n",
              "      <td>0.084670</td>\n",
              "      <td>1.000000</td>\n",
              "      <td>0.402347</td>\n",
              "      <td>0.203738</td>\n",
              "      <td>0.050038</td>\n",
              "      <td>-0.158966</td>\n",
              "    </tr>\n",
              "    <tr>\n",
              "      <th>rating</th>\n",
              "      <td>0.405477</td>\n",
              "      <td>0.267607</td>\n",
              "      <td>0.402347</td>\n",
              "      <td>1.000000</td>\n",
              "      <td>0.184504</td>\n",
              "      <td>0.044757</td>\n",
              "      <td>-0.103069</td>\n",
              "    </tr>\n",
              "    <tr>\n",
              "      <th>total_reviews</th>\n",
              "      <td>0.156291</td>\n",
              "      <td>0.051285</td>\n",
              "      <td>0.203738</td>\n",
              "      <td>0.184504</td>\n",
              "      <td>1.000000</td>\n",
              "      <td>-0.027894</td>\n",
              "      <td>-0.018755</td>\n",
              "    </tr>\n",
              "    <tr>\n",
              "      <th>len_descs</th>\n",
              "      <td>0.098546</td>\n",
              "      <td>0.032808</td>\n",
              "      <td>0.050038</td>\n",
              "      <td>0.044757</td>\n",
              "      <td>-0.027894</td>\n",
              "      <td>1.000000</td>\n",
              "      <td>0.005732</td>\n",
              "    </tr>\n",
              "    <tr>\n",
              "      <th>len_rev</th>\n",
              "      <td>-0.155219</td>\n",
              "      <td>-0.179284</td>\n",
              "      <td>-0.158966</td>\n",
              "      <td>-0.103069</td>\n",
              "      <td>-0.018755</td>\n",
              "      <td>0.005732</td>\n",
              "      <td>1.000000</td>\n",
              "    </tr>\n",
              "  </tbody>\n",
              "</table>\n",
              "</div>"
            ],
            "text/plain": [
              "                     id  rev_rating  ...  len_descs   len_rev\n",
              "id             1.000000    0.085719  ...   0.098546 -0.155219\n",
              "rev_rating     0.085719    1.000000  ...   0.032808 -0.179284\n",
              "price          0.917187    0.084670  ...   0.050038 -0.158966\n",
              "rating         0.405477    0.267607  ...   0.044757 -0.103069\n",
              "total_reviews  0.156291    0.051285  ...  -0.027894 -0.018755\n",
              "len_descs      0.098546    0.032808  ...   1.000000  0.005732\n",
              "len_rev       -0.155219   -0.179284  ...   0.005732  1.000000\n",
              "\n",
              "[7 rows x 7 columns]"
            ]
          },
          "metadata": {},
          "execution_count": 129
        }
      ]
    },
    {
      "cell_type": "code",
      "metadata": {
        "colab": {
          "base_uri": "https://localhost:8080/",
          "height": 266
        },
        "id": "nUCszjBFLeg3",
        "outputId": "b9a898af-a115-4ba8-a3cd-466bdaa69b84"
      },
      "source": [
        "full_df.corr()"
      ],
      "execution_count": 130,
      "outputs": [
        {
          "output_type": "execute_result",
          "data": {
            "text/html": [
              "<div>\n",
              "<style scoped>\n",
              "    .dataframe tbody tr th:only-of-type {\n",
              "        vertical-align: middle;\n",
              "    }\n",
              "\n",
              "    .dataframe tbody tr th {\n",
              "        vertical-align: top;\n",
              "    }\n",
              "\n",
              "    .dataframe thead th {\n",
              "        text-align: right;\n",
              "    }\n",
              "</style>\n",
              "<table border=\"1\" class=\"dataframe\">\n",
              "  <thead>\n",
              "    <tr style=\"text-align: right;\">\n",
              "      <th></th>\n",
              "      <th>id</th>\n",
              "      <th>rev_rating</th>\n",
              "      <th>price</th>\n",
              "      <th>rating</th>\n",
              "      <th>total_reviews</th>\n",
              "      <th>len_descs</th>\n",
              "      <th>len_rev</th>\n",
              "    </tr>\n",
              "  </thead>\n",
              "  <tbody>\n",
              "    <tr>\n",
              "      <th>id</th>\n",
              "      <td>1.000000</td>\n",
              "      <td>0.138722</td>\n",
              "      <td>0.607608</td>\n",
              "      <td>0.411751</td>\n",
              "      <td>-0.078213</td>\n",
              "      <td>0.180392</td>\n",
              "      <td>-0.150013</td>\n",
              "    </tr>\n",
              "    <tr>\n",
              "      <th>rev_rating</th>\n",
              "      <td>0.138722</td>\n",
              "      <td>1.000000</td>\n",
              "      <td>0.091442</td>\n",
              "      <td>0.264831</td>\n",
              "      <td>0.022083</td>\n",
              "      <td>0.031336</td>\n",
              "      <td>-0.164040</td>\n",
              "    </tr>\n",
              "    <tr>\n",
              "      <th>price</th>\n",
              "      <td>0.607608</td>\n",
              "      <td>0.091442</td>\n",
              "      <td>1.000000</td>\n",
              "      <td>0.418997</td>\n",
              "      <td>-0.015105</td>\n",
              "      <td>0.174146</td>\n",
              "      <td>-0.121311</td>\n",
              "    </tr>\n",
              "    <tr>\n",
              "      <th>rating</th>\n",
              "      <td>0.411751</td>\n",
              "      <td>0.264831</td>\n",
              "      <td>0.418997</td>\n",
              "      <td>1.000000</td>\n",
              "      <td>0.093233</td>\n",
              "      <td>0.115307</td>\n",
              "      <td>-0.075491</td>\n",
              "    </tr>\n",
              "    <tr>\n",
              "      <th>total_reviews</th>\n",
              "      <td>-0.078213</td>\n",
              "      <td>0.022083</td>\n",
              "      <td>-0.015105</td>\n",
              "      <td>0.093233</td>\n",
              "      <td>1.000000</td>\n",
              "      <td>0.012589</td>\n",
              "      <td>0.086448</td>\n",
              "    </tr>\n",
              "    <tr>\n",
              "      <th>len_descs</th>\n",
              "      <td>0.180392</td>\n",
              "      <td>0.031336</td>\n",
              "      <td>0.174146</td>\n",
              "      <td>0.115307</td>\n",
              "      <td>0.012589</td>\n",
              "      <td>1.000000</td>\n",
              "      <td>-0.038527</td>\n",
              "    </tr>\n",
              "    <tr>\n",
              "      <th>len_rev</th>\n",
              "      <td>-0.150013</td>\n",
              "      <td>-0.164040</td>\n",
              "      <td>-0.121311</td>\n",
              "      <td>-0.075491</td>\n",
              "      <td>0.086448</td>\n",
              "      <td>-0.038527</td>\n",
              "      <td>1.000000</td>\n",
              "    </tr>\n",
              "  </tbody>\n",
              "</table>\n",
              "</div>"
            ],
            "text/plain": [
              "                     id  rev_rating  ...  len_descs   len_rev\n",
              "id             1.000000    0.138722  ...   0.180392 -0.150013\n",
              "rev_rating     0.138722    1.000000  ...   0.031336 -0.164040\n",
              "price          0.607608    0.091442  ...   0.174146 -0.121311\n",
              "rating         0.411751    0.264831  ...   0.115307 -0.075491\n",
              "total_reviews -0.078213    0.022083  ...   0.012589  0.086448\n",
              "len_descs      0.180392    0.031336  ...   1.000000 -0.038527\n",
              "len_rev       -0.150013   -0.164040  ...  -0.038527  1.000000\n",
              "\n",
              "[7 rows x 7 columns]"
            ]
          },
          "metadata": {},
          "execution_count": 130
        }
      ]
    },
    {
      "cell_type": "code",
      "metadata": {
        "colab": {
          "base_uri": "https://localhost:8080/",
          "height": 280
        },
        "id": "pnmSIOPQJ4sA",
        "outputId": "43887122-a283-4f4e-a173-0cf16e233f41"
      },
      "source": [
        "ax = sns.lineplot(data=full_df, x='len_rev', y = 'rev_rating', hue='Shoe Type')"
      ],
      "execution_count": 131,
      "outputs": [
        {
          "output_type": "display_data",
          "data": {
            "image/png": "[encoded data removed]",
            "text/plain": [
              "<Figure size 432x288 with 1 Axes>"
            ]
          },
          "metadata": {
            "needs_background": "light"
          }
        }
      ]
    },
    {
      "cell_type": "markdown",
      "metadata": {
        "id": "_xskS-NOCEHT"
      },
      "source": [
        "Датасет очень несбалансированный, слишком много высоких оценок."
      ]
    },
    {
      "cell_type": "code",
      "metadata": {
        "colab": {
          "base_uri": "https://localhost:8080/"
        },
        "id": "1u3XDYetByoV",
        "outputId": "06c8c51d-9364-4b2e-aa80-da55ccb43fa6"
      },
      "source": [
        "full_df['rev_rating'].value_counts()"
      ],
      "execution_count": 193,
      "outputs": [
        {
          "output_type": "execute_result",
          "data": {
            "text/plain": [
              "5.0    4944\n",
              "4.0    1853\n",
              "1.0    1749\n",
              "3.0     863\n",
              "2.0     549\n",
              "Name: rev_rating, dtype: int64"
            ]
          },
          "metadata": {},
          "execution_count": 193
        }
      ]
    },
    {
      "cell_type": "markdown",
      "metadata": {
        "id": "CM3NYAVzL8lf"
      },
      "source": [
        "##Предобработка данных"
      ]
    },
    {
      "cell_type": "code",
      "metadata": {
        "id": "xG_4eH-nMY2A"
      },
      "source": [
        "reviews = [lemma_preprocess_text(text) for text in full_df['review']]"
      ],
      "execution_count": 269,
      "outputs": []
    },
    {
      "cell_type": "markdown",
      "metadata": {
        "id": "TF1TuXhrM58O"
      },
      "source": [
        "## Обучение и предсказание"
      ]
    },
    {
      "cell_type": "code",
      "metadata": {
        "id": "VFjKODh2NHYH"
      },
      "source": [
        "cv = CountVectorizer(max_features=2000, min_df=3, max_df=0.7, ngram_range=(1,2))\n",
        "tfidf = TfidfVectorizer(max_features=2000, min_df=3,analyzer='word', ngram_range=(1,3), max_df=0.7)\n",
        "\n",
        "def vectorize(vect, texts):\n",
        "  texts = vect.fit_transform(texts)\n",
        "  return texts\n",
        "\n",
        "count_text = vectorize(cv, reviews)\n",
        "tfidf_text = vectorize(tfidf, reviews)\n",
        "features = hstack([tfidf_text, np.expand_dims(full_df['Shoe Type'].to_numpy(dtype=np.float64), axis=1)])"
      ],
      "execution_count": 270,
      "outputs": []
    },
    {
      "cell_type": "markdown",
      "metadata": {
        "id": "JDOnJ27Wf7Dx"
      },
      "source": [
        "Для классификации я взяла MultinomialNB (т.к. он неплохо работает с текстами), а также LinearSVC и RandomForest, которые в принципе хороши для классификации, ипокольку данных не так много, ждать приходится не так долго."
      ]
    },
    {
      "cell_type": "code",
      "metadata": {
        "colab": {
          "base_uri": "https://localhost:8080/"
        },
        "id": "g8v4Cu_k0-cM",
        "outputId": "81bf844a-26e0-4526-d874-453ef3ce75d7"
      },
      "source": [
        "X_train, X_test, y_train, y_test = train_test_split(features, full_df['rev_rating'].to_numpy(), random_state=42, stratify=full_df['rev_rating'])\n",
        "mod_params = {'LinearSVC': [LinearSVC(random_state=42, class_weight='balanced'), {'penalty': ['l1', 'l2'], 'C': [1, 2, 3],\n",
        "                                                         'loss': ['hinge', 'squared_hinge'], 'multi_class': ['ovr', 'crammer_singer']}],\n",
        "              'MultinomialNB': [MultinomialNB(), {'alpha': [0, 0.001, 0.01, 0.1, 0.5, 1, 10, 100, 500]}],\n",
        "              'RandomForestClassifier': [RandomForestClassifier(random_state=42), {'n_estimators': [50, 100, 150, 200], 'criterion': ['gini', 'entropy'],\n",
        "                                                                                   'max_depth': [None, 100, 200, 500, 1000]}]\n",
        "              }\n",
        "for model, params in mod_params.items():\n",
        "  grid_search = GridSearchCV(params[0], param_grid=params[1], scoring='balanced_accuracy', n_jobs=-1, refit=True)\n",
        "  grid_search.fit(X_train, y_train)\n",
        "  print('{} best train score: {}'.format(model, grid_search.best_score_))\n",
        "  print('{} best parameters: {}'.format(model, grid_search.best_params_))\n",
        "  print('{} test score: {}'.format(model, grid_search.score(X_test, y_test)))"
      ],
      "execution_count": 278,
      "outputs": [
        {
          "output_type": "stream",
          "name": "stdout",
          "text": [
            "LinearSVC best train score: 0.4566196088014108\n",
            "LinearSVC best parameters: {'C': 1, 'loss': 'squared_hinge', 'multi_class': 'ovr', 'penalty': 'l2'}\n",
            "LinearSVC test score: 0.4452287836066683\n",
            "MultinomialNB best train score: 0.4330287859720829\n",
            "MultinomialNB best parameters: {'alpha': 0.01}\n",
            "MultinomialNB test score: 0.4193062875406984\n",
            "RandomForestClassifier best train score: 0.4411086424722286\n",
            "RandomForestClassifier best parameters: {'criterion': 'gini', 'max_depth': None, 'n_estimators': 50}\n",
            "RandomForestClassifier test score: 0.4331677359215444\n"
          ]
        }
      ]
    },
    {
      "cell_type": "markdown",
      "metadata": {
        "id": "4dAbzeZX32Cb"
      },
      "source": [
        "Все модели дают примерно одинаковый результат, лучшей оказалась LinearSVC."
      ]
    },
    {
      "cell_type": "code",
      "metadata": {
        "id": "wmyLkiUnMYXl"
      },
      "source": [
        "model = LinearSVC(loss='squared_hinge', multi_class='ovr', penalty='l2', random_state=42, class_weight='balanced')\n",
        "model.fit(X_train, y_train)\n",
        "predicted = model.predict(X_test)"
      ],
      "execution_count": 279,
      "outputs": []
    },
    {
      "cell_type": "markdown",
      "metadata": {
        "id": "i7SoizCKBamh"
      },
      "source": [
        "Качество получилось не очень хорошим. Это может быть из-за того, что у нас очень несбалансированный датасет."
      ]
    },
    {
      "cell_type": "code",
      "metadata": {
        "colab": {
          "base_uri": "https://localhost:8080/"
        },
        "id": "rvcFjBUlzl0r",
        "outputId": "185e4fb3-877d-4a70-a3c8-1e5464a590b6"
      },
      "source": [
        "acc = accuracy_score(predicted, y_test)\n",
        "micro_f1 = f1_score(predicted, y_test, average = 'micro')\n",
        "micro_p = precision_score(predicted, y_test, average = 'micro')\n",
        "micro_r = recall_score(predicted, y_test, average = 'micro')\n",
        "macro_f1 = f1_score(predicted, y_test, average = 'macro')\n",
        "macro_p = precision_score(predicted, y_test, average = 'macro')\n",
        "macro_r = recall_score(predicted, y_test, average = 'macro')\n",
        "print('acc={0:1.4f}'.format(acc))\n",
        "print('micro F1={0:1.4f}, micro P={1:1.4f}, micro R={2:1.4f}'.format(micro_f1, micro_p, micro_r))\n",
        "print('macro F1={0:1.4f}, macro P={1:1.4f}, macro R={2:1.4f}\\n'.format(macro_f1, macro_p, macro_r))"
      ],
      "execution_count": 280,
      "outputs": [
        {
          "output_type": "stream",
          "name": "stdout",
          "text": [
            "acc=0.5859\n",
            "micro F1=0.5859, micro P=0.5859, micro R=0.5859\n",
            "macro F1=0.4518, macro P=0.4452, macro R=0.4623\n",
            "\n"
          ]
        }
      ]
    },
    {
      "cell_type": "markdown",
      "metadata": {
        "id": "NGmIUM632sHn"
      },
      "source": [
        "## Визуализация\n",
        "\n",
        "Относительно хорошо предсказывается оценки 1 и 5, вероятно потому, что, во-первых, это крайние оценки и отзывы к ним, наверное, наиболее эмоцианально окрашены. Кроме того, оценка 5 в нашем датасете самая распространенная, а вот, например, 2 и 3 очень мало, и они предсказываются плохо. 4 часто путается с 5, в принципе, это тоже объяснимо, поскольку отзывы в обоих случаях обычно достаточно положительные и похожие. Для улучшения работы моделей стоит как-то попытаться побороться с несбалансированным датасетом. Можно, например, выкинуть какое-то количество положительных отзывов."
      ]
    },
    {
      "cell_type": "code",
      "metadata": {
        "colab": {
          "base_uri": "https://localhost:8080/",
          "height": 282
        },
        "id": "5b-VXw1R0iGp",
        "outputId": "a30dbcdb-3d03-44a5-a427-dae2fc9b9fb9"
      },
      "source": [
        "sns.heatmap(data=confusion_matrix(y_test, predicted), annot=True, fmt=\"d\", cbar=False)"
      ],
      "execution_count": 281,
      "outputs": [
        {
          "output_type": "execute_result",
          "data": {
            "text/plain": [
              "<matplotlib.axes._subplots.AxesSubplot at 0x7f47107fb1d0>"
            ]
          },
          "metadata": {},
          "execution_count": 281
        },
        {
          "output_type": "display_data",
          "data": {
            "image/png": "[encoded data removed]",
            "text/plain": [
              "<Figure size 432x288 with 1 Axes>"
            ]
          },
          "metadata": {
            "needs_background": "light"
          }
        }
      ]
    },
    {
      "cell_type": "markdown",
      "metadata": {
        "id": "nZBChJTMQDCX"
      },
      "source": [
        "Самые важные признаки для каждого класса очень показательны, везде явно видна позитивная/негативная окраска."
      ]
    },
    {
      "cell_type": "code",
      "metadata": {
        "id": "9FCsgeLaImzT"
      },
      "source": [
        "importance = model.coef_"
      ],
      "execution_count": 282,
      "outputs": []
    },
    {
      "cell_type": "code",
      "metadata": {
        "id": "NkSHJdVCI4aG"
      },
      "source": [
        "feats = tfidf.vocabulary_\n",
        "feats['GENDER'] = len(feats)"
      ],
      "execution_count": 283,
      "outputs": []
    },
    {
      "cell_type": "code",
      "metadata": {
        "colab": {
          "base_uri": "https://localhost:8080/"
        },
        "id": "voMN266fJBnE",
        "outputId": "99b3919b-5477-4159-d92f-33283f2dda62"
      },
      "source": [
        "voc = sorted(feats, key=lambda x: feats[x])\n",
        "for class_im in importance:\n",
        "  print(class_im[feats['GENDER']])\n",
        "  absim = [abs(x) for x in class_im]\n",
        "  order = np.argsort(absim)[::-1]\n",
        "  top = []\n",
        "  for i in order:\n",
        "      top.append((voc[i], class_im[i]))\n",
        "  print(top[:10])"
      ],
      "execution_count": 284,
      "outputs": [
        {
          "output_type": "stream",
          "name": "stdout",
          "text": [
            "-0.11427063232398613\n",
            "[('waste', 2.207139711076623), ('refund', 2.0475847556264912), ('plastic', 1.8030890597107976), ('good shoe', -1.7968046699077576), ('duplicate', 1.7449920605998588), ('worst', 1.7376206238576883), ('not buy', 1.7045063167213144), ('leg', 1.6475357381416857), ('properly', 1.6170965969504794), ('bed', 1.6074618623178838)]\n",
            "-0.0609360082113108\n",
            "[('shoe tight', 2.4274687936132016), ('reject product', 2.1157980104057503), ('ok ok product', 2.0959061623923554), ('size buy', 2.0622570769502904), ('usual', 2.0562203022105723), ('genuine leather', 2.048121495456967), ('shoe get', -2.034993362856766), ('wrong colour', 2.012057637625961), ('sole soft', 1.9429251813159703), ('product amazon', 1.8937478172043707)]\n",
            "-0.02968939492300817\n",
            "[('waise', 2.3035158272821263), ('skechers', 2.1039163863349697), ('ok bad', 2.097821463748279), ('cost high', 2.0668378835253507), ('nearly', 1.9261970296352868), ('bad grip', 1.9259895896165642), ('nice looking', 1.855169770731901), ('small fit', 1.7989347096430168), ('small expect', 1.787607267585433), ('feel comfortable', 1.742419751602615)]\n",
            "-0.059073156507279456\n",
            "[('leather shoe', 2.1377284719405187), ('pretty comfortable', 1.8036558431792002), ('good pair', 1.764744455838259), ('prize', 1.6442135549412256), ('correct size', 1.641616228304601), ('rain', 1.6029772733664138), ('comfy great', 1.5963023708895716), ('decent shoe', 1.5802121689339026), ('fine product', 1.5367620083475595), ('shoe material', 1.5105302549852035)]\n",
            "0.17538260440210904\n",
            "[('highly recommend', 1.5339925576107432), ('good product price', 1.386492071640575), ('think buy', 1.3211859367025631), ('duplicate', -1.3040962122108084), ('review year', 1.2934933255296428), ('fit great', -1.2755161837141633), ('large usual', 1.2517516261284762), ('size large usual', 1.2517516261284762), ('osm', 1.2214793321688484), ('trendy', 1.2120648537047392)]\n"
          ]
        }
      ]
    }
  ]
}