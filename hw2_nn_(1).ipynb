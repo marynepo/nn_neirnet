{
  "nbformat": 4,
  "nbformat_minor": 0,
  "metadata": {
    "colab": {
      "name": "hw2_nn (1).ipynb",
      "provenance": []
    },
    "kernelspec": {
      "name": "python3",
      "display_name": "Python 3"
    },
    "language_info": {
      "name": "python"
    },
    "accelerator": "GPU"
  },
  "cells": [
    {
      "cell_type": "markdown",
      "metadata": {
        "id": "0GW1AdLKQQzs"
      },
      "source": [
        "# Домашнее задание"
      ]
    },
    {
      "cell_type": "code",
      "metadata": {
        "id": "nGgow_ccFOtd",
        "colab": {
          "base_uri": "https://localhost:8080/"
        },
        "outputId": "611b0066-f759-48b6-c0dc-df3c3cdbb7bf"
      },
      "source": [
        "!wget https://www.dropbox.com/s/r6u59ljhhjdg6j0/negative.csv\n",
        "!wget https://www.dropbox.com/s/fnpq3z4bcnoktiv/positive.csv "
      ],
      "execution_count": 2,
      "outputs": [
        {
          "output_type": "stream",
          "name": "stdout",
          "text": [
            "--2021-11-26 18:32:43--  https://www.dropbox.com/s/r6u59ljhhjdg6j0/negative.csv\n",
            "Resolving www.dropbox.com (www.dropbox.com)... 162.125.3.18, 2620:100:6031:18::a27d:5112\n",
            "Connecting to www.dropbox.com (www.dropbox.com)|162.125.3.18|:443... connected.\n",
            "HTTP request sent, awaiting response... 301 Moved Permanently\n",
            "Location: /s/raw/r6u59ljhhjdg6j0/negative.csv [following]\n",
            "--2021-11-26 18:32:43--  https://www.dropbox.com/s/raw/r6u59ljhhjdg6j0/negative.csv\n",
            "Reusing existing connection to www.dropbox.com:443.\n",
            "HTTP request sent, awaiting response... 404 Not Found\n",
            "2021-11-26 18:32:43 ERROR 404: Not Found.\n",
            "\n",
            "--2021-11-26 18:32:43--  https://www.dropbox.com/s/fnpq3z4bcnoktiv/positive.csv\n",
            "Resolving www.dropbox.com (www.dropbox.com)... 162.125.3.18, 2620:100:6031:18::a27d:5112\n",
            "Connecting to www.dropbox.com (www.dropbox.com)|162.125.3.18|:443... connected.\n",
            "HTTP request sent, awaiting response... 301 Moved Permanently\n",
            "Location: /s/raw/fnpq3z4bcnoktiv/positive.csv [following]\n",
            "--2021-11-26 18:32:43--  https://www.dropbox.com/s/raw/fnpq3z4bcnoktiv/positive.csv\n",
            "Reusing existing connection to www.dropbox.com:443.\n",
            "HTTP request sent, awaiting response... 404 Not Found\n",
            "2021-11-26 18:32:43 ERROR 404: Not Found.\n",
            "\n"
          ]
        }
      ]
    },
    {
      "cell_type": "code",
      "metadata": {
        "id": "JEVljqCqFyDj",
        "colab": {
          "base_uri": "https://localhost:8080/"
        },
        "outputId": "ceef2774-f12b-476a-caab-8cf7e3940ec9"
      },
      "source": [
        "!pip install torchmetrics\n",
        "!pip install ipdb"
      ],
      "execution_count": 1,
      "outputs": [
        {
          "output_type": "stream",
          "name": "stdout",
          "text": [
            "Requirement already satisfied: torchmetrics in /usr/local/lib/python3.7/dist-packages (0.6.0)\n",
            "Requirement already satisfied: numpy>=1.17.2 in /usr/local/lib/python3.7/dist-packages (from torchmetrics) (1.19.5)\n",
            "Requirement already satisfied: torch>=1.3.1 in /usr/local/lib/python3.7/dist-packages (from torchmetrics) (1.10.0+cu111)\n",
            "Requirement already satisfied: packaging in /usr/local/lib/python3.7/dist-packages (from torchmetrics) (21.3)\n",
            "Requirement already satisfied: typing-extensions in /usr/local/lib/python3.7/dist-packages (from torch>=1.3.1->torchmetrics) (3.10.0.2)\n",
            "Requirement already satisfied: pyparsing!=3.0.5,>=2.0.2 in /usr/local/lib/python3.7/dist-packages (from packaging->torchmetrics) (3.0.6)\n",
            "Requirement already satisfied: ipdb in /usr/local/lib/python3.7/dist-packages (0.13.9)\n",
            "Requirement already satisfied: decorator in /usr/local/lib/python3.7/dist-packages (from ipdb) (4.4.2)\n",
            "Requirement already satisfied: toml>=0.10.2 in /usr/local/lib/python3.7/dist-packages (from ipdb) (0.10.2)\n",
            "Requirement already satisfied: setuptools in /usr/local/lib/python3.7/dist-packages (from ipdb) (57.4.0)\n",
            "Requirement already satisfied: ipython>=7.17.0 in /usr/local/lib/python3.7/dist-packages (from ipdb) (7.29.0)\n",
            "Requirement already satisfied: matplotlib-inline in /usr/local/lib/python3.7/dist-packages (from ipython>=7.17.0->ipdb) (0.1.3)\n",
            "Requirement already satisfied: jedi>=0.16 in /usr/local/lib/python3.7/dist-packages (from ipython>=7.17.0->ipdb) (0.18.1)\n",
            "Requirement already satisfied: traitlets>=4.2 in /usr/local/lib/python3.7/dist-packages (from ipython>=7.17.0->ipdb) (5.1.1)\n",
            "Requirement already satisfied: pickleshare in /usr/local/lib/python3.7/dist-packages (from ipython>=7.17.0->ipdb) (0.7.5)\n",
            "Requirement already satisfied: pygments in /usr/local/lib/python3.7/dist-packages (from ipython>=7.17.0->ipdb) (2.6.1)\n",
            "Requirement already satisfied: pexpect>4.3 in /usr/local/lib/python3.7/dist-packages (from ipython>=7.17.0->ipdb) (4.8.0)\n",
            "Requirement already satisfied: prompt-toolkit!=3.0.0,!=3.0.1,<3.1.0,>=2.0.0 in /usr/local/lib/python3.7/dist-packages (from ipython>=7.17.0->ipdb) (3.0.22)\n",
            "Requirement already satisfied: backcall in /usr/local/lib/python3.7/dist-packages (from ipython>=7.17.0->ipdb) (0.2.0)\n",
            "Requirement already satisfied: parso<0.9.0,>=0.8.0 in /usr/local/lib/python3.7/dist-packages (from jedi>=0.16->ipython>=7.17.0->ipdb) (0.8.2)\n",
            "Requirement already satisfied: ptyprocess>=0.5 in /usr/local/lib/python3.7/dist-packages (from pexpect>4.3->ipython>=7.17.0->ipdb) (0.7.0)\n",
            "Requirement already satisfied: wcwidth in /usr/local/lib/python3.7/dist-packages (from prompt-toolkit!=3.0.0,!=3.0.1,<3.1.0,>=2.0.0->ipython>=7.17.0->ipdb) (0.2.5)\n"
          ]
        }
      ]
    },
    {
      "cell_type": "code",
      "metadata": {
        "colab": {
          "base_uri": "https://localhost:8080/"
        },
        "id": "1M1JZhNKD1j1",
        "outputId": "b5cbaeb6-5ea5-44a9-a88c-bd3efacb4ff5"
      },
      "source": [
        "!pip install pymystem3"
      ],
      "execution_count": 2,
      "outputs": [
        {
          "output_type": "stream",
          "name": "stdout",
          "text": [
            "Requirement already satisfied: pymystem3 in /usr/local/lib/python3.7/dist-packages (0.2.0)\n",
            "Requirement already satisfied: requests in /usr/local/lib/python3.7/dist-packages (from pymystem3) (2.23.0)\n",
            "Requirement already satisfied: idna<3,>=2.5 in /usr/local/lib/python3.7/dist-packages (from requests->pymystem3) (2.10)\n",
            "Requirement already satisfied: certifi>=2017.4.17 in /usr/local/lib/python3.7/dist-packages (from requests->pymystem3) (2021.10.8)\n",
            "Requirement already satisfied: chardet<4,>=3.0.2 in /usr/local/lib/python3.7/dist-packages (from requests->pymystem3) (3.0.4)\n",
            "Requirement already satisfied: urllib3!=1.25.0,!=1.25.1,<1.26,>=1.21.1 in /usr/local/lib/python3.7/dist-packages (from requests->pymystem3) (1.24.3)\n"
          ]
        }
      ]
    },
    {
      "cell_type": "code",
      "metadata": {
        "id": "QGpeCvnRFp-N",
        "colab": {
          "base_uri": "https://localhost:8080/"
        },
        "outputId": "953a2f83-13ef-491d-d6ab-ac163904f8fd"
      },
      "source": [
        "import pandas as pd\n",
        "import numpy as np\n",
        "from string import punctuation\n",
        "from collections import Counter\n",
        "\n",
        "from sklearn.model_selection import train_test_split\n",
        "from sklearn.utils import shuffle\n",
        "import torch\n",
        "import torch.nn as nn\n",
        "import torch.nn.functional as F\n",
        "from torch.utils.data import Dataset, DataLoader, RandomSampler, SequentialSampler\n",
        "from torch.nn.utils.rnn import pad_sequence\n",
        "import torch.optim as optim\n",
        "from torchmetrics import F1\n",
        "from torchmetrics.functional import f1, recall\n",
        "import ipdb\n",
        "import nltk\n",
        "from nltk import word_tokenize\n",
        "from string import punctuation\n",
        "import re\n",
        "import gensim\n",
        "import matplotlib as plt\n",
        "from pymystem3 import Mystem\n",
        "nltk.download('punkt')"
      ],
      "execution_count": 3,
      "outputs": [
        {
          "output_type": "stream",
          "name": "stdout",
          "text": [
            "[nltk_data] Downloading package punkt to /root/nltk_data...\n",
            "[nltk_data]   Unzipping tokenizers/punkt.zip.\n"
          ]
        },
        {
          "output_type": "execute_result",
          "data": {
            "text/plain": [
              "True"
            ]
          },
          "metadata": {},
          "execution_count": 3
        }
      ]
    },
    {
      "cell_type": "code",
      "metadata": {
        "colab": {
          "base_uri": "https://localhost:8080/"
        },
        "id": "0dJbtCPCBRF4",
        "outputId": "8827e500-9aa0-40e7-8b1b-589f6e2b0bec"
      },
      "source": [
        "torch.cuda.manual_seed_all(42)\n",
        "torch.manual_seed(42)"
      ],
      "execution_count": 4,
      "outputs": [
        {
          "output_type": "execute_result",
          "data": {
            "text/plain": [
              "<torch._C.Generator at 0x7fe585182250>"
            ]
          },
          "metadata": {},
          "execution_count": 4
        }
      ]
    },
    {
      "cell_type": "markdown",
      "metadata": {
        "id": "gNfDbOxvQYFP"
      },
      "source": [
        "## Подготовка данных"
      ]
    },
    {
      "cell_type": "code",
      "metadata": {
        "id": "yb4f_VLzGGQ1"
      },
      "source": [
        "pos_tweets = pd.read_csv('positive.csv', encoding='utf-8', sep=';', header=None,  names=[0,1,2,'text','tone',5,6,7,8,9,10,11])\n",
        "neg_tweets = pd.read_csv('negative.csv', encoding='utf-8', sep=';', header=None, names=[0,1,2,'text','tone',5,6,7,8,9,10,11] )\n",
        "neg_tweets['tone'] = 0\n",
        "all_tweets_data = pos_tweets.append(neg_tweets)\n",
        "tweets_data = shuffle(all_tweets_data[['text','tone']])"
      ],
      "execution_count": 7,
      "outputs": []
    },
    {
      "cell_type": "code",
      "metadata": {
        "id": "HTPI4CnFHYk2"
      },
      "source": [
        "def preprocess_text(text):\n",
        "    text = text.lower().replace(\"ё\", \"е\")\n",
        "    text = re.sub('((www\\.[^\\s]+)|(https?://[^\\s]+))', 'URL', text)\n",
        "    text = re.sub('@[^\\s]+', 'USER', text)\n",
        "    text = re.sub('[^a-zA-Zа-яА-Я1-9]+', ' ', text)\n",
        "    text = re.sub(' +', ' ', text)\n",
        "    return text.strip()\n",
        "\n",
        "tweets_data['prep_text'] = [preprocess_text(text) for text in tweets_data['text']]\n",
        "train_data, val_data = train_test_split(tweets_data, test_size=0.2) "
      ],
      "execution_count": 8,
      "outputs": []
    },
    {
      "cell_type": "code",
      "metadata": {
        "colab": {
          "base_uri": "https://localhost:8080/"
        },
        "id": "dRGRCUJWI2Lh",
        "outputId": "790473fe-a651-490e-c7f9-e90fb1469028"
      },
      "source": [
        "word_vocab = Counter()\n",
        "for text in tweets_data['prep_text']:\n",
        "    word_vocab.update(word_tokenize(text))\n",
        "print('всего уникальных символов:', len(word_vocab))\n",
        "\n",
        "filtered_word_vocab = set()\n",
        "\n",
        "for word in word_vocab:\n",
        "    if word_vocab[word] > 2:\n",
        "        filtered_word_vocab.add(word)\n",
        "print('уникальных символов, втретившихся больше 5 раз:', len(filtered_word_vocab))\n",
        "\n",
        "word2id = {'PAD':0}\n",
        "\n",
        "for word in filtered_word_vocab:\n",
        "    word2id[word] = len(word2id)\n",
        "\n",
        "id2word = {i:word for word, i in word2id.items()}"
      ],
      "execution_count": 9,
      "outputs": [
        {
          "output_type": "stream",
          "name": "stdout",
          "text": [
            "всего уникальных символов: 180371\n",
            "уникальных символов, втретившихся больше 5 раз: 52157\n"
          ]
        }
      ]
    },
    {
      "cell_type": "code",
      "metadata": {
        "colab": {
          "base_uri": "https://localhost:8080/"
        },
        "id": "Sn-78QnEHpY2",
        "outputId": "8e9386fc-6720-4032-c54a-807ef6a300c3"
      },
      "source": [
        "sym_vocab = Counter()\n",
        "for symbol in tweets_data['prep_text']:\n",
        "    sym_vocab.update(list(symbol))\n",
        "print('всего уникальных символов:', len(sym_vocab))\n",
        "\n",
        "filtered_sym_vocab = set()\n",
        "\n",
        "for symbol in sym_vocab:\n",
        "    if sym_vocab[symbol] > 5:\n",
        "        filtered_sym_vocab.add(symbol)\n",
        "print('уникальных символов, втретившихся больше 5 раз:', len(filtered_sym_vocab))\n",
        "\n",
        "symbol2id = {'PAD':0}\n",
        "\n",
        "for symbol in filtered_sym_vocab:\n",
        "    symbol2id[symbol] = len(symbol2id)\n",
        "\n",
        "id2symbol = {i:symbol for symbol, i in symbol2id.items()}"
      ],
      "execution_count": 10,
      "outputs": [
        {
          "output_type": "stream",
          "name": "stdout",
          "text": [
            "всего уникальных символов: 73\n",
            "уникальных символов, втретившихся больше 5 раз: 73\n"
          ]
        }
      ]
    },
    {
      "cell_type": "markdown",
      "metadata": {
        "id": "19iZZuw8QgeT"
      },
      "source": [
        "## Создание датасета"
      ]
    },
    {
      "cell_type": "code",
      "metadata": {
        "id": "6z5rZiweHCnA"
      },
      "source": [
        "DEVICE = torch.device('cuda') if torch.cuda.is_available() else torch.device('cpu')"
      ],
      "execution_count": 11,
      "outputs": []
    },
    {
      "cell_type": "code",
      "metadata": {
        "id": "Ll4tlX8cLOXc"
      },
      "source": [
        "class TweetsDataset(Dataset):\n",
        "\n",
        "    def __init__(self, dataset, word2id, DEVICE):\n",
        "        self.dataset = dataset['prep_text'].values\n",
        "        self.word2id = word2id\n",
        "        self.length = dataset.shape[0]\n",
        "        self.target = dataset['tone'].values\n",
        "        self.device = DEVICE\n",
        "\n",
        "    def __len__(self):\n",
        "        return self.length\n",
        "\n",
        "    def __getitem__(self, index): \n",
        "        words = word_tokenize(self.dataset[index])\n",
        "        ids = torch.LongTensor([self.word2id[word] for word in words if word in self.word2id])\n",
        "        y = [self.target[index]]\n",
        "        return ids, y\n",
        "\n",
        "    def collate_fn(self, batch):\n",
        "      ids, y = list(zip(*batch))\n",
        "      padded_ids = pad_sequence(ids, batch_first=True).to(self.device)\n",
        "      y = torch.Tensor(y).to(self.device)\n",
        "      return padded_ids, y"
      ],
      "execution_count": 53,
      "outputs": []
    },
    {
      "cell_type": "code",
      "metadata": {
        "id": "tRe_F-fOLyAg"
      },
      "source": [
        "train_dataset = TweetsDataset(train_data, word2id, DEVICE)\n",
        "train_sampler = RandomSampler(train_dataset)\n",
        "train_iterator = DataLoader(train_dataset, collate_fn = train_dataset.collate_fn, sampler=train_sampler, batch_size=1024)\n",
        "val_dataset = TweetsDataset(val_data, word2id, DEVICE)\n",
        "val_sampler = SequentialSampler(val_dataset)\n",
        "val_iterator = DataLoader(val_dataset, collate_fn = val_dataset.collate_fn, sampler=val_sampler, batch_size=1024)"
      ],
      "execution_count": 54,
      "outputs": []
    },
    {
      "cell_type": "markdown",
      "metadata": {
        "id": "j0jotQTzQpE6"
      },
      "source": [
        "## Создание модели"
      ]
    },
    {
      "cell_type": "code",
      "metadata": {
        "id": "dy0U6djtMgb7"
      },
      "source": [
        "class CNN(nn.Module):\n",
        "    \n",
        "    def __init__(self, vocab_size, embedding_dim):\n",
        "        super().__init__()\n",
        "        self.embedding = nn.Embedding(vocab_size, embedding_dim)\n",
        "        self.bigrams = nn.Conv1d(in_channels=embedding_dim, out_channels=100, kernel_size=2, padding='same')\n",
        "        self.trigrams = nn.Conv1d(in_channels=embedding_dim, out_channels=100, kernel_size=3, padding='same')\n",
        "        self.grams = nn.Conv1d(in_channels=200, out_channels=80, kernel_size=2, padding='same')\n",
        "        self.pooling = nn.MaxPool1d(kernel_size=2, stride=2)\n",
        "        self.relu = nn.ReLU()\n",
        "        self.hidden = nn.Linear(in_features=80, out_features=1)\n",
        "        self.out = nn.Sigmoid()\n",
        "\n",
        "    def forward(self, word):\n",
        "        embedded = self.embedding(word)\n",
        "        embedded = embedded.transpose(1,2)\n",
        "        feature_map_bigrams = self.pooling(self.relu(self.bigrams(embedded)))\n",
        "        feature_map_trigrams = self.pooling(self.relu(self.trigrams(embedded)))\n",
        "        concat = torch.cat((feature_map_bigrams, feature_map_trigrams), 1)\n",
        "        feature_map_grams = self.pooling(self.relu(self.grams(concat)))\n",
        "        pooling3 = feature_map_grams.max(2)[0]\n",
        "        logits = self.hidden(pooling3) \n",
        "        logits = self.out(logits)      \n",
        "        return logits"
      ],
      "execution_count": 55,
      "outputs": []
    },
    {
      "cell_type": "code",
      "metadata": {
        "id": "8SzonQXjNDQh"
      },
      "source": [
        "def train(model, iterator, optimizer, criterion):\n",
        "    epoch_loss = 0\n",
        "\n",
        "    model.train()\n",
        "\n",
        "    for i, (texts, ys) in enumerate(iterator):\n",
        "        optimizer.zero_grad()\n",
        "        preds = model(texts)\n",
        "        loss = criterion(preds, ys)\n",
        "        loss.backward()\n",
        "        optimizer.step()\n",
        "        epoch_loss += loss.item()\n",
        "        if not (i + 1) % int(len(iterator)/5):\n",
        "            print(f'Train loss: {epoch_loss/i}')      \n",
        "    return  epoch_loss / len(iterator)\n",
        "\n",
        "def evaluate(model, iterator, criterion):\n",
        "    epoch_loss = 0\n",
        "    epoch_metric = 0\n",
        "    model.eval() \n",
        "    with torch.no_grad():\n",
        "        for i, (texts, ys) in enumerate(iterator):   \n",
        "            preds = model(texts)\n",
        "            loss = criterion(preds, ys)\n",
        "            epoch_loss += loss.item()\n",
        "            batch_metric = f1(preds.round().long(), ys.long(), ignore_index=0)\n",
        "            epoch_metric += batch_metric\n",
        "\n",
        "            if not (i + 1) % int(len(iterator)/5):\n",
        "              print(f'Val loss: {epoch_loss/i}, Val f1: {epoch_metric/i}')\n",
        "        \n",
        "    return epoch_metric / len(iterator), epoch_loss / len(iterator)\n",
        "\n",
        "\n",
        "def predict(model, iterator):\n",
        "    model.eval()\n",
        "    fp = []\n",
        "    fn = []\n",
        "    tp = [] \n",
        "    tn = []\n",
        "    with torch.no_grad():\n",
        "        for i, (texts, ys) in tqdm(enumerate(iterator)):   \n",
        "            preds = model(texts)  # делаем предсказания на тесте \n",
        "            for pred, gold, text in zip(preds, ys, texts):\n",
        "              text = ' '.join([id2word[int(word)] for word in text if word !=0])\n",
        "              if round(pred.item()) > gold:\n",
        "                fp.append(text)\n",
        "              elif round(pred.item()) < gold:\n",
        "                fn.append(text)\n",
        "              elif round(pred.item()) == gold == 1:\n",
        "                tp.append(text)\n",
        "              elif round(pred.item()) == gold == 0:\n",
        "                tn.append(text)\n",
        "    pr = len(tp) / (len(tp) + len(fp))\n",
        "    rc = len(tp) / (len(tp) + len(fn))\n",
        "    f1sc = 2*pr*rc / (pr + rc) \n",
        "    return fp, fn, tp, tn, {'precision': pr, 'recall': rc, 'f1-score': f1sc}"
      ],
      "execution_count": 57,
      "outputs": []
    },
    {
      "cell_type": "markdown",
      "metadata": {
        "id": "7YmhQXPaQu__"
      },
      "source": [
        "## Обучение и предсказание"
      ]
    },
    {
      "cell_type": "code",
      "metadata": {
        "id": "ZV1sJXaiNMJy"
      },
      "source": [
        "model = CNN(len(word2id), 10)\n",
        "optimizer = optim.Adam(model.parameters(), lr=0.0005)\n",
        "criterion = nn.BCELoss()  \n",
        "\n",
        "model = model.to(DEVICE)\n",
        "criterion = criterion.to(DEVICE)"
      ],
      "execution_count": null,
      "outputs": []
    },
    {
      "cell_type": "code",
      "metadata": {
        "colab": {
          "base_uri": "https://localhost:8080/"
        },
        "id": "RBIPig3bNxWu",
        "outputId": "c54e4306-625c-4f06-e93a-4b54b3347d4c"
      },
      "source": [
        "losses = []\n",
        "losses_eval = []\n",
        "f1s = []\n",
        "f1s_eval = []\n",
        "\n",
        "for i in range(20):\n",
        "    print(f'\\nstarting Epoch {i}')\n",
        "    print('Training...')\n",
        "    epoch_loss = train(model, train_iterator, optimizer, criterion)\n",
        "    losses.append(epoch_loss)\n",
        "    print('\\nEvaluating on train...')\n",
        "    f1_on_train,_ = evaluate(model, train_iterator, criterion)\n",
        "    f1s.append(f1_on_train)\n",
        "    print('\\nEvaluating on test...')\n",
        "    f1_on_test, epoch_loss_on_test = evaluate(model, val_iterator, criterion)\n",
        "    losses_eval.append(epoch_loss_on_test)\n",
        "    f1s_eval.append(f1_on_test)"
      ],
      "execution_count": null,
      "outputs": [
        {
          "output_type": "stream",
          "name": "stdout",
          "text": [
            "\n",
            "starting Epoch 0\n",
            "Training...\n",
            "Train loss: 0.70350383309757\n",
            "Train loss: 0.685306992219842\n",
            "Train loss: 0.6756421356247022\n",
            "Train loss: 0.6683213749377848\n",
            "Train loss: 0.663205516064304\n",
            "\n",
            "Evaluating on train...\n",
            "Val loss: 0.651031930656994, Val f1: 0.6876914501190186\n",
            "Val loss: 0.642157092474509, Val f1: 0.6772367358207703\n",
            "Val loss: 0.6395699582420863, Val f1: 0.6728603839874268\n",
            "Val loss: 0.6380118251704484, Val f1: 0.6713840961456299\n",
            "Val loss: 0.6369009000816565, Val f1: 0.6709521412849426\n",
            "\n",
            "Evaluating on test...\n",
            "Val loss: 0.722320444881916, Val f1: 0.726077675819397\n",
            "Val loss: 0.6790135011953466, Val f1: 0.6896206736564636\n",
            "Val loss: 0.6636272577139047, Val f1: 0.6835275292396545\n",
            "Val loss: 0.6577770965439933, Val f1: 0.6771033406257629\n",
            "Val loss: 0.6530844582752748, Val f1: 0.6748011112213135\n",
            "\n",
            "starting Epoch 1\n",
            "Training...\n",
            "Train loss: 0.6472050021676456\n",
            "Train loss: 0.633809052515721\n",
            "Train loss: 0.6282867588675939\n",
            "Train loss: 0.6244648399112893\n",
            "Train loss: 0.6204811444227722\n",
            "\n",
            "Evaluating on train...\n",
            "Val loss: 0.6185533351757947, Val f1: 0.7106002569198608\n",
            "Val loss: 0.6102985774261364, Val f1: 0.6973809003829956\n",
            "Val loss: 0.6082323732284399, Val f1: 0.6936109066009521\n",
            "Val loss: 0.6064376350787046, Val f1: 0.6926735043525696\n",
            "Val loss: 0.6056705494036619, Val f1: 0.6914719343185425\n",
            "\n",
            "Evaluating on test...\n",
            "Val loss: 0.6919738873839378, Val f1: 0.745853066444397\n",
            "Val loss: 0.6504143792040208, Val f1: 0.7082011699676514\n",
            "Val loss: 0.6360146976434268, Val f1: 0.7002927660942078\n",
            "Val loss: 0.6308277913502285, Val f1: 0.6934750080108643\n",
            "Val loss: 0.6265974315730009, Val f1: 0.6901447176933289\n",
            "\n",
            "starting Epoch 2\n",
            "Training...\n",
            "Train loss: 0.6140497098950779\n",
            "Train loss: 0.6030336264250935\n",
            "Train loss: 0.5983737924924264\n",
            "Train loss: 0.5962385145022715\n",
            "Train loss: 0.5943095988925846\n",
            "\n",
            "Evaluating on train...\n",
            "Val loss: 0.5962286819429958, Val f1: 0.7059395909309387\n",
            "Val loss: 0.5871616187302963, Val f1: 0.6958975791931152\n",
            "Val loss: 0.5832236999502549, Val f1: 0.6930587291717529\n",
            "Val loss: 0.5812482409340014, Val f1: 0.6919438242912292\n",
            "Val loss: 0.580073009962323, Val f1: 0.6910272836685181\n",
            "\n",
            "Evaluating on test...\n",
            "Val loss: 0.6663812473416328, Val f1: 0.743943452835083\n",
            "Val loss: 0.6265027242548326, Val f1: 0.7055363655090332\n",
            "Val loss: 0.6130671799182892, Val f1: 0.6961386203765869\n",
            "Val loss: 0.6086914079529898, Val f1: 0.6900848150253296\n",
            "Val loss: 0.6047816588120027, Val f1: 0.6866698861122131\n",
            "\n",
            "starting Epoch 3\n",
            "Training...\n",
            "Train loss: 0.5959441959857941\n",
            "Train loss: 0.5865022591922594\n",
            "Train loss: 0.5796322530278792\n",
            "Train loss: 0.577307599053966\n",
            "Train loss: 0.575279468777536\n",
            "\n",
            "Evaluating on train...\n",
            "Val loss: 0.5778268663322225, Val f1: 0.6960974931716919\n",
            "Val loss: 0.5676812685054281, Val f1: 0.6892662644386292\n",
            "Val loss: 0.5651752845599101, Val f1: 0.6842895746231079\n",
            "Val loss: 0.5645726464635177, Val f1: 0.6816691756248474\n",
            "Val loss: 0.5630607570724926, Val f1: 0.681740939617157\n",
            "\n",
            "Evaluating on test...\n",
            "Val loss: 0.6501471251249313, Val f1: 0.7356476187705994\n",
            "Val loss: 0.6124678674866172, Val f1: 0.6940027475357056\n",
            "Val loss: 0.599686535505148, Val f1: 0.6840816736221313\n",
            "Val loss: 0.595964138848441, Val f1: 0.6764629483222961\n",
            "Val loss: 0.5925025018778715, Val f1: 0.6713838577270508\n",
            "\n",
            "starting Epoch 4\n",
            "Training...\n",
            "Train loss: 0.5725754289066091\n",
            "Train loss: 0.5656195481618246\n",
            "Train loss: 0.5612376871017309\n",
            "Train loss: 0.5594104511274708\n",
            "Train loss: 0.5573541830325949\n",
            "\n",
            "Evaluating on train...\n",
            "Val loss: 0.5550401701646692, Val f1: 0.7383978366851807\n",
            "Val loss: 0.5492340974185778, Val f1: 0.7266539931297302\n",
            "Val loss: 0.546361631498887, Val f1: 0.7219398617744446\n",
            "Val loss: 0.5450560433401478, Val f1: 0.7197291254997253\n",
            "Val loss: 0.5441256347058834, Val f1: 0.7188993692398071\n",
            "\n",
            "Evaluating on test...\n",
            "Val loss: 0.6370197832584381, Val f1: 0.7703342437744141\n",
            "Val loss: 0.5998785460696501, Val f1: 0.7272286415100098\n",
            "Val loss: 0.5870231894346384, Val f1: 0.7168107032775879\n",
            "Val loss: 0.5831550172397069, Val f1: 0.7096230387687683\n",
            "Val loss: 0.5794801563024521, Val f1: 0.7057042717933655\n",
            "\n",
            "starting Epoch 5\n",
            "Training...\n",
            "Train loss: 0.5566681623458862\n",
            "Train loss: 0.5480127714682317\n",
            "Train loss: 0.5448196278168604\n",
            "Train loss: 0.5430463496729624\n",
            "Train loss: 0.5410250867235249\n",
            "\n",
            "Evaluating on train...\n",
            "Val loss: 0.5398699176662108, Val f1: 0.7638253569602966\n",
            "Val loss: 0.5340415139993032, Val f1: 0.7510985136032104\n",
            "Val loss: 0.5307476348601855, Val f1: 0.747894823551178\n",
            "Val loss: 0.5295870557105798, Val f1: 0.7457669973373413\n",
            "Val loss: 0.5297181164396221, Val f1: 0.7440919280052185\n",
            "\n",
            "Evaluating on test...\n",
            "Val loss: 0.6304330080747604, Val f1: 0.7911756038665771\n",
            "Val loss: 0.5933484750635484, Val f1: 0.7485118508338928\n",
            "Val loss: 0.5798556437859168, Val f1: 0.7381589412689209\n",
            "Val loss: 0.5760099053382873, Val f1: 0.7311294674873352\n",
            "Val loss: 0.5721814375032078, Val f1: 0.7270846366882324\n",
            "\n",
            "starting Epoch 6\n",
            "Training...\n",
            "Train loss: 0.5442808235392851\n",
            "Train loss: 0.53461126745611\n",
            "Train loss: 0.5307407980928054\n",
            "Train loss: 0.5283069960076174\n",
            "Train loss: 0.5264554554703592\n",
            "\n",
            "Evaluating on train...\n",
            "Val loss: 0.5245348583249485, Val f1: 0.7652096152305603\n",
            "Val loss: 0.5183748533760292, Val f1: 0.7535094022750854\n",
            "Val loss: 0.5144069080169384, Val f1: 0.7515307664871216\n",
            "Val loss: 0.5129514278696595, Val f1: 0.7492460608482361\n",
            "Val loss: 0.5129672432767933, Val f1: 0.7474219799041748\n",
            "\n",
            "Evaluating on test...\n",
            "Val loss: 0.6161515712738037, Val f1: 0.7917600870132446\n",
            "Val loss: 0.5810478329658508, Val f1: 0.7481496930122375\n",
            "Val loss: 0.5679854590159196, Val f1: 0.7380108833312988\n",
            "Val loss: 0.5643708654812404, Val f1: 0.7306076288223267\n",
            "Val loss: 0.5608161823316054, Val f1: 0.7261675000190735\n",
            "\n",
            "starting Epoch 7\n",
            "Training...\n",
            "Train loss: 0.5244822879047955\n",
            "Train loss: 0.5165561169817827\n",
            "Train loss: 0.5130405036302713\n",
            "Train loss: 0.5116823866641779\n",
            "Train loss: 0.5108601673581135\n",
            "\n",
            "Evaluating on train...\n",
            "Val loss: 0.5118565804818097, Val f1: 0.7659449577331543\n",
            "Val loss: 0.5031172041443811, Val f1: 0.7557513117790222\n",
            "Val loss: 0.5005999551369593, Val f1: 0.751594066619873\n",
            "Val loss: 0.5002685279297314, Val f1: 0.7493153810501099\n",
            "Val loss: 0.4989853429383245, Val f1: 0.748217761516571\n",
            "\n",
            "Evaluating on test...\n",
            "Val loss: 0.6062729358673096, Val f1: 0.786532998085022\n",
            "Val loss: 0.5726507095729604, Val f1: 0.7437039613723755\n",
            "Val loss: 0.5598936401880704, Val f1: 0.7323464155197144\n",
            "Val loss: 0.556556715284075, Val f1: 0.7263377904891968\n",
            "Val loss: 0.5531703477556055, Val f1: 0.7219473719596863\n",
            "\n",
            "starting Epoch 8\n",
            "Training...\n",
            "Train loss: 0.5141531649757834\n",
            "Train loss: 0.5050158872120623\n",
            "Train loss: 0.5026778805141265\n",
            "Train loss: 0.4994488491428842\n",
            "Train loss: 0.49693045242764483\n",
            "\n",
            "Evaluating on train...\n",
            "Val loss: 0.5033107540186714, Val f1: 0.7905679941177368\n",
            "Val loss: 0.492785157068916, Val f1: 0.7806626558303833\n",
            "Val loss: 0.4907498826774267, Val f1: 0.7777934074401855\n",
            "Val loss: 0.48900319432183137, Val f1: 0.775285542011261\n",
            "Val loss: 0.4878949397939375, Val f1: 0.7747060060501099\n",
            "\n",
            "Evaluating on test...\n",
            "Val loss: 0.6036576479673386, Val f1: 0.8134682178497314\n",
            "Val loss: 0.5705382052589866, Val f1: 0.7690751552581787\n",
            "Val loss: 0.5574181698835813, Val f1: 0.7580248117446899\n",
            "Val loss: 0.5534596528325763, Val f1: 0.7510148286819458\n",
            "Val loss: 0.5496637780557979, Val f1: 0.7467881441116333\n",
            "\n",
            "starting Epoch 9\n",
            "Training...\n",
            "Train loss: 0.4949273563483182\n",
            "Train loss: 0.4884295727031818\n",
            "Train loss: 0.4859901832846495\n",
            "Train loss: 0.48669349332507567\n",
            "Train loss: 0.48626131675709255\n",
            "\n",
            "Evaluating on train...\n",
            "Val loss: 0.4804493557004368, Val f1: 0.795183002948761\n",
            "Val loss: 0.47622472738874133, Val f1: 0.7817007303237915\n",
            "Val loss: 0.47394448346816576, Val f1: 0.7756143808364868\n",
            "Val loss: 0.4732214598346957, Val f1: 0.7732861042022705\n",
            "Val loss: 0.47292738416414154, Val f1: 0.7718075513839722\n",
            "\n",
            "Evaluating on test...\n",
            "Val loss: 0.5916189774870872, Val f1: 0.8065162301063538\n",
            "Val loss: 0.5595989087048698, Val f1: 0.7616912722587585\n",
            "Val loss: 0.5470031110139993, Val f1: 0.7493559122085571\n",
            "Val loss: 0.5436238697596959, Val f1: 0.7422394156455994\n",
            "Val loss: 0.5401751114563509, Val f1: 0.7383344769477844\n",
            "\n",
            "starting Epoch 10\n",
            "Training...\n",
            "Train loss: 0.4863336603431141\n",
            "Train loss: 0.4780158119789068\n",
            "Train loss: 0.4759423059339707\n",
            "Train loss: 0.4736419926873214\n",
            "Train loss: 0.4726758871612878\n",
            "\n",
            "Evaluating on train...\n",
            "Val loss: 0.4717267707866781, Val f1: 0.8064169883728027\n",
            "Val loss: 0.4670168524203093, Val f1: 0.7944763898849487\n",
            "Val loss: 0.4636905411115059, Val f1: 0.7903279662132263\n",
            "Val loss: 0.4622012533301072, Val f1: 0.7887495756149292\n",
            "Val loss: 0.4616997519443775, Val f1: 0.7874147891998291\n",
            "\n",
            "Evaluating on test...\n",
            "Val loss: 0.5885869413614273, Val f1: 0.8169353008270264\n",
            "Val loss: 0.5566274804227492, Val f1: 0.7718387246131897\n",
            "Val loss: 0.543862997339322, Val f1: 0.7626561522483826\n",
            "Val loss: 0.5403323113918305, Val f1: 0.7556157112121582\n",
            "Val loss: 0.5366191085089337, Val f1: 0.7515683770179749\n",
            "\n",
            "starting Epoch 11\n",
            "Training...\n",
            "Train loss: 0.47682179685901194\n",
            "Train loss: 0.46778220542963\n",
            "Train loss: 0.4649497903883457\n",
            "Train loss: 0.46411438339905775\n",
            "Train loss: 0.4621480900323254\n",
            "\n",
            "Evaluating on train...\n",
            "Val loss: 0.45997992157936096, Val f1: 0.8154600858688354\n",
            "Val loss: 0.455129559489264, Val f1: 0.8019877076148987\n",
            "Val loss: 0.4525655350432946, Val f1: 0.7975503206253052\n",
            "Val loss: 0.45182484216827284, Val f1: 0.7946211695671082\n",
            "Val loss: 0.4512265483880865, Val f1: 0.7935746908187866\n",
            "\n",
            "Evaluating on test...\n",
            "Val loss: 0.5826338566839695, Val f1: 0.8211550712585449\n",
            "Val loss: 0.5520580410957336, Val f1: 0.7753846645355225\n",
            "Val loss: 0.5396611873920147, Val f1: 0.7646073698997498\n",
            "Val loss: 0.5358367119516645, Val f1: 0.7575582265853882\n",
            "Val loss: 0.5323183319785378, Val f1: 0.7531036138534546\n",
            "\n",
            "starting Epoch 12\n",
            "Training...\n",
            "Train loss: 0.4658340881852543\n",
            "Train loss: 0.4567653338114421\n",
            "Train loss: 0.4547319910847224\n",
            "Train loss: 0.4532141383174512\n",
            "Train loss: 0.45164402428714706\n",
            "\n",
            "Evaluating on train...\n",
            "Val loss: 0.4519457229796578, Val f1: 0.8143569827079773\n",
            "Val loss: 0.4452569108942281, Val f1: 0.8038814663887024\n",
            "Val loss: 0.4421412810110129, Val f1: 0.8000662922859192\n",
            "Val loss: 0.441125330521906, Val f1: 0.7978371977806091\n",
            "Val loss: 0.4400873088288581, Val f1: 0.7968697547912598\n",
            "\n",
            "Evaluating on test...\n",
            "Val loss: 0.5786239057779312, Val f1: 0.8232914209365845\n",
            "Val loss: 0.5488313173546511, Val f1: 0.775198757648468\n",
            "Val loss: 0.536247479227873, Val f1: 0.7639923095703125\n",
            "Val loss: 0.5327389410563877, Val f1: 0.7571746110916138\n",
            "Val loss: 0.5292948924682357, Val f1: 0.7526038885116577\n",
            "\n",
            "starting Epoch 13\n",
            "Training...\n",
            "Train loss: 0.45315394769696626\n",
            "Train loss: 0.4480548976124197\n",
            "Train loss: 0.4455506827395696\n",
            "Train loss: 0.4440560141484514\n",
            "Train loss: 0.44238286422586987\n",
            "\n",
            "Evaluating on train...\n",
            "Val loss: 0.43902138313826394, Val f1: 0.8254696130752563\n",
            "Val loss: 0.43417916911235754, Val f1: 0.8121299147605896\n",
            "Val loss: 0.43297181794276607, Val f1: 0.8083141446113586\n",
            "Val loss: 0.431285850650115, Val f1: 0.8062326908111572\n",
            "Val loss: 0.430729679848956, Val f1: 0.8049871325492859\n",
            "\n",
            "Evaluating on test...\n",
            "Val loss: 0.577293049544096, Val f1: 0.8280795216560364\n",
            "Val loss: 0.54799483628834, Val f1: 0.7806606888771057\n",
            "Val loss: 0.5350493616782702, Val f1: 0.7698063254356384\n",
            "Val loss: 0.5313578971794674, Val f1: 0.7629764080047607\n",
            "Val loss: 0.5275836912068453, Val f1: 0.759531557559967\n",
            "\n",
            "starting Epoch 14\n",
            "Training...\n",
            "Train loss: 0.44477419116917777\n",
            "Train loss: 0.4384973260803499\n",
            "Train loss: 0.4338075120288592\n",
            "Train loss: 0.43316339267243587\n",
            "Train loss: 0.4330648248908163\n",
            "\n",
            "Evaluating on train...\n",
            "Val loss: 0.43280229235396667, Val f1: 0.8296011090278625\n",
            "Val loss: 0.42626976059830707, Val f1: 0.8172832131385803\n",
            "Val loss: 0.4229647090228704, Val f1: 0.8153501152992249\n",
            "Val loss: 0.42249475280157955, Val f1: 0.8133650422096252\n",
            "Val loss: 0.42143796007523593, Val f1: 0.811802327632904\n",
            "\n",
            "Evaluating on test...\n",
            "Val loss: 0.5739248991012573, Val f1: 0.8329033851623535\n",
            "Val loss: 0.5454766645151026, Val f1: 0.7827040553092957\n",
            "Val loss: 0.5325731612168826, Val f1: 0.7718419432640076\n",
            "Val loss: 0.5287237925188882, Val f1: 0.765285313129425\n",
            "Val loss: 0.5250038531693545, Val f1: 0.7616519927978516\n",
            "\n",
            "starting Epoch 15\n",
            "Training...\n",
            "Train loss: 0.43454868565587434\n",
            "Train loss: 0.4274050088032432\n",
            "Train loss: 0.4264838718450986\n",
            "Train loss: 0.4250620970194288\n",
            "Train loss: 0.42464555131978005\n",
            "\n",
            "Evaluating on train...\n",
            "Val loss: 0.4262865869437947, Val f1: 0.8277101516723633\n",
            "Val loss: 0.41868923237358313, Val f1: 0.8184126019477844\n",
            "Val loss: 0.4151585801289632, Val f1: 0.8144108057022095\n",
            "Val loss: 0.4144739617975496, Val f1: 0.8116622567176819\n",
            "Val loss: 0.4139369962544277, Val f1: 0.8105113506317139\n",
            "\n",
            "Evaluating on test...\n",
            "Val loss: 0.571399912238121, Val f1: 0.8282884955406189\n",
            "Val loss: 0.5436762325903949, Val f1: 0.7776296734809875\n",
            "Val loss: 0.531338183925702, Val f1: 0.7669628262519836\n",
            "Val loss: 0.5279126967702593, Val f1: 0.7590091824531555\n",
            "Val loss: 0.5241825919259678, Val f1: 0.7552850246429443\n",
            "\n",
            "starting Epoch 16\n",
            "Training...\n",
            "Train loss: 0.4273262584910673\n",
            "Train loss: 0.4183109782744145\n",
            "Train loss: 0.41554464858311874\n",
            "Train loss: 0.415122360419884\n",
            "Train loss: 0.4143456588873918\n",
            "\n",
            "Evaluating on train...\n",
            "Val loss: 0.4212155140498105, Val f1: 0.8438869118690491\n",
            "Val loss: 0.4124025801817576, Val f1: 0.8336528539657593\n",
            "Val loss: 0.40984902387628186, Val f1: 0.8302280306816101\n",
            "Val loss: 0.40952863603187123, Val f1: 0.8273696303367615\n",
            "Val loss: 0.4089976915682869, Val f1: 0.8264685273170471\n",
            "\n",
            "Evaluating on test...\n",
            "Val loss: 0.5771849378943443, Val f1: 0.8418776988983154\n",
            "Val loss: 0.5489966816761914, Val f1: 0.7933751940727234\n",
            "Val loss: 0.5359845837721458, Val f1: 0.7832814455032349\n",
            "Val loss: 0.5321029671600886, Val f1: 0.7764665484428406\n",
            "Val loss: 0.5281078354878859, Val f1: 0.7724242210388184\n",
            "\n",
            "starting Epoch 17\n",
            "Training...\n",
            "Train loss: 0.42250677504960227\n",
            "Train loss: 0.41445689097694727\n",
            "Train loss: 0.4087086460338189\n",
            "Train loss: 0.40737891090001993\n",
            "Train loss: 0.40691485058987276\n",
            "\n",
            "Evaluating on train...\n",
            "Val loss: 0.4131938709932215, Val f1: 0.8467212319374084\n",
            "Val loss: 0.4047168493270874, Val f1: 0.8383085131645203\n",
            "Val loss: 0.4030557062763434, Val f1: 0.8338116407394409\n",
            "Val loss: 0.40260186598455305, Val f1: 0.8313760161399841\n",
            "Val loss: 0.4008929189936868, Val f1: 0.8305128812789917\n",
            "\n",
            "Evaluating on test...\n",
            "Val loss: 0.5776924267411232, Val f1: 0.8457938432693481\n",
            "Val loss: 0.5504592166227453, Val f1: 0.7971761226654053\n",
            "Val loss: 0.53689794586255, Val f1: 0.7859079837799072\n",
            "Val loss: 0.5325591317244939, Val f1: 0.7792339324951172\n",
            "Val loss: 0.5284407186237249, Val f1: 0.7757165431976318\n",
            "\n",
            "starting Epoch 18\n",
            "Training...\n",
            "Train loss: 0.40664089514928703\n",
            "Train loss: 0.4013446167759273\n",
            "Train loss: 0.4018705513041753\n",
            "Train loss: 0.40007015655366635\n",
            "Train loss: 0.3992171239578861\n",
            "\n",
            "Evaluating on train...\n",
            "Val loss: 0.3941345504101585, Val f1: 0.8512173295021057\n",
            "Val loss: 0.390853238278541, Val f1: 0.8359612226486206\n",
            "Val loss: 0.3890931715185826, Val f1: 0.8312426805496216\n",
            "Val loss: 0.38784958625868926, Val f1: 0.8291047811508179\n",
            "Val loss: 0.3879307285807599, Val f1: 0.8274751901626587\n",
            "\n",
            "Evaluating on test...\n",
            "Val loss: 0.5702896192669868, Val f1: 0.8343595862388611\n",
            "Val loss: 0.5442415475845337, Val f1: 0.784931480884552\n",
            "Val loss: 0.5312725913066131, Val f1: 0.7734271287918091\n",
            "Val loss: 0.5276996706213269, Val f1: 0.7661457657814026\n",
            "Val loss: 0.523776425556703, Val f1: 0.7624059319496155\n",
            "\n",
            "starting Epoch 19\n",
            "Training...\n",
            "Train loss: 0.4050099016988979\n",
            "Train loss: 0.3963416827761609\n",
            "Train loss: 0.39393934779442275\n",
            "Train loss: 0.3919414241108105\n",
            "Train loss: 0.39097020098532753\n",
            "\n",
            "Evaluating on train...\n",
            "Val loss: 0.3854161124019062, Val f1: 0.856972873210907\n",
            "Val loss: 0.38122098860533343, Val f1: 0.8440298438072205\n",
            "Val loss: 0.38219000313144463, Val f1: 0.8376631140708923\n",
            "Val loss: 0.3802165271138116, Val f1: 0.8363536596298218\n",
            "Val loss: 0.37986994731700285, Val f1: 0.8351600170135498\n",
            "\n",
            "Evaluating on test...\n",
            "Val loss: 0.5692580714821815, Val f1: 0.8394112586975098\n",
            "Val loss: 0.5432211125598234, Val f1: 0.7898189425468445\n",
            "Val loss: 0.5300020334812311, Val f1: 0.7787953615188599\n",
            "Val loss: 0.5263525102819715, Val f1: 0.7716946005821228\n",
            "Val loss: 0.5226170312274586, Val f1: 0.7677888870239258\n"
          ]
        }
      ]
    },
    {
      "cell_type": "code",
      "metadata": {
        "colab": {
          "base_uri": "https://localhost:8080/",
          "height": 295
        },
        "id": "KckoiVccOtxk",
        "outputId": "6d6eca1b-6a1f-47f5-9324-e1b554879d9e"
      },
      "source": [
        "import matplotlib.pyplot as plt\n",
        "plt.plot(losses)\n",
        "plt.plot(losses_eval)\n",
        "plt.title('BCE loss value')\n",
        "plt.ylabel('BCE loss')\n",
        "plt.xlabel('epoch')\n",
        "plt.legend(['train', 'val'], loc='upper right')\n",
        "plt.show()"
      ],
      "execution_count": null,
      "outputs": [
        {
          "output_type": "display_data",
          "data": {
            "image/png": "[encoded data removed]",
            "text/plain": [
              "<Figure size 432x288 with 1 Axes>"
            ]
          },
          "metadata": {
            "needs_background": "light"
          }
        }
      ]
    },
    {
      "cell_type": "code",
      "metadata": {
        "colab": {
          "base_uri": "https://localhost:8080/",
          "height": 295
        },
        "id": "OMifwObVO2gJ",
        "outputId": "2ecfe08d-ea13-4271-a16d-a155cd77aae3"
      },
      "source": [
        "plt.plot(f1s)\n",
        "plt.plot(f1s_eval)\n",
        "plt.title('f1 value')\n",
        "plt.ylabel('f1 value')\n",
        "plt.xlabel('epoch')\n",
        "plt.legend(['train', 'val'], loc='upper right')\n",
        "plt.show()"
      ],
      "execution_count": null,
      "outputs": [
        {
          "output_type": "display_data",
          "data": {
            "image/png": "[encoded data removed]",
            "text/plain": [
              "<Figure size 432x288 with 1 Axes>"
            ]
          },
          "metadata": {
            "needs_background": "light"
          }
        }
      ]
    },
    {
      "cell_type": "code",
      "metadata": {
        "id": "WX69xPGtbb72",
        "colab": {
          "base_uri": "https://localhost:8080/"
        },
        "outputId": "f5d39047-2ed5-40e5-92e2-910b34fec26b"
      },
      "source": [
        "print(max(f1s_eval), np.array(f1s_eval).argmax())"
      ],
      "execution_count": null,
      "outputs": [
        {
          "output_type": "stream",
          "name": "stdout",
          "text": [
            "tensor(0.7585, device='cuda:0') 17\n"
          ]
        }
      ]
    },
    {
      "cell_type": "code",
      "metadata": {
        "colab": {
          "base_uri": "https://localhost:8080/"
        },
        "id": "HJzp3SCAMBrH",
        "outputId": "61f51d20-3e3f-4b68-88aa-6232f402bf68"
      },
      "source": [
        "fp, fn, tp, tn, metr = predict(model, val_iterator)"
      ],
      "execution_count": null,
      "outputs": [
        {
          "output_type": "stream",
          "name": "stderr",
          "text": [
            "45it [01:25,  1.91s/it]\n"
          ]
        }
      ]
    },
    {
      "cell_type": "code",
      "metadata": {
        "colab": {
          "base_uri": "https://localhost:8080/"
        },
        "id": "MNPO9saXQRnN",
        "outputId": "3b7c83f1-b888-432a-d1b9-eda2d483458f"
      },
      "source": [
        "metr"
      ],
      "execution_count": null,
      "outputs": [
        {
          "output_type": "execute_result",
          "data": {
            "text/plain": [
              "{'precision': 0.7576965669988925,\n",
              " 'recall': 0.7447318007662835,\n",
              " 'f1-score': 0.7511582460531805}"
            ]
          },
          "metadata": {},
          "execution_count": 103
        }
      ]
    },
    {
      "cell_type": "code",
      "metadata": {
        "colab": {
          "base_uri": "https://localhost:8080/"
        },
        "id": "os2uU6SFQWEc",
        "outputId": "a4de35cf-3940-4188-b625-25497df7d487"
      },
      "source": [
        "print(len(fp), len(fn), len(tp), len(tn))\n",
        "# большой разницы между tp и tn нет, чуть больше fn, чем fp"
      ],
      "execution_count": null,
      "outputs": [
        {
          "output_type": "stream",
          "name": "stdout",
          "text": [
            "5470 5863 17105 16929\n"
          ]
        }
      ]
    },
    {
      "cell_type": "code",
      "metadata": {
        "colab": {
          "base_uri": "https://localhost:8080/"
        },
        "id": "V65VBoHcQw0B",
        "outputId": "b7f6d78f-33b6-4ce6-d94a-067da9775232"
      },
      "source": [
        "fp[:20]\n",
        "#не всегда понимает иронию ('за минуту набежало четыре хороших человека которые тоже не видели этот великий сериал')\n",
        "#слово \"ужасный\" не удается  негативным (поможет ли лемматизация?)\n",
        "#вообще кажется, что он недооценивает негативность многих слов, с положительными все получше"
      ],
      "execution_count": null,
      "outputs": [
        {
          "output_type": "execute_result",
          "data": {
            "text/plain": [
              "['как же беркуты домой поедут USER еще три полицейских автобуса в киеве URL URL',\n",
              " 'USER ну ладн не расстраивайся х что завтра делать планируешь',\n",
              " 'rt USER USER снов с',\n",
              " 'эх единственный номер который я помнил на придется забыть',\n",
              " 'USER в другой раз будь осторожнее',\n",
              " 'хочется стоять в толпе и кричать ура новому а вместо него по улице проходит дядя в под руки не болят от',\n",
              " 'за минуту набежало четыре хороших человека которые тоже не видели этот великий сериал',\n",
              " 'блять как же надоело жить от пятницы до пятницы от субботы до субботы заебало если честно URL',\n",
              " 'USER а с кем с мамой а дальше чтоо на боковую так неинтересно',\n",
              " 'USER ааа ну тогда молчу ты меня уделал',\n",
              " 'театр слишком ужасен у всех актеров из роли в роль одни и те же интонации и манеры игры',\n",
              " 'USER вернуться в феврале и стать еще лучше посмотрим я все еще не могу найти замену по',\n",
              " 'USER от такой коленки гематома на пол будет',\n",
              " 'бедные парни ваши 15 16 ти летние девочки сами не знают чего хотят от одного к другому набивают себе цену в какой раз столкнулся',\n",
              " 'USER USER USER USER или нужно подождать',\n",
              " 'обожемой с этим дитем можно фух первые шишки',\n",
              " 'USER да не получается я свой номер несколько раз использовал',\n",
              " 'как дела ребята URL',\n",
              " 'rt USER в треке новом который к стати в субботу столько души столько эмоций в него хули толку говорить сами все по',\n",
              " 'rt USER таможенники на украли у государства 14 млн URL мошенники чо']"
            ]
          },
          "metadata": {},
          "execution_count": 105
        }
      ]
    },
    {
      "cell_type": "code",
      "metadata": {
        "colab": {
          "base_uri": "https://localhost:8080/"
        },
        "id": "NuSAwh5-SN7G",
        "outputId": "518e9fb2-7623-40c5-be74-ef5a69939c31"
      },
      "source": [
        "fn[:20]\n",
        "#какие-то проблемы с изначальной разметкой, почти все предложения я бы тоже отнесла к негативным  "
      ],
      "execution_count": null,
      "outputs": [
        {
          "output_type": "execute_result",
          "data": {
            "text/plain": [
              "['посмотрел ну и хрень но джоли нравится',\n",
              " 'увидела маленьких подружек они за руку и болтали',\n",
              " 'задал учит 3 стиха и я рассказала 1 стих 2 раза и вот тебе две 5 ки',\n",
              " 'USER 1 тоже все время туда жму надо кнопку наклейку сделать',\n",
              " 'USER а от меня нет mtvstars 3 second to mars',\n",
              " 'USER зачем ты зубы',\n",
              " 'USER пак я до тебя доберусь в след году а пока',\n",
              " 'ну дальше по улице живет педофил которого вроде совсем не трогают ff follow',\n",
              " 'USER ахаххахаха а я как то не очень люблю',\n",
              " 'в горде пиздец как заметает я ебу нахуй жестко такая погода с братиком нам по душе',\n",
              " 'rt USER а вы еще спрашиваете почему я ничего не пишу',\n",
              " 'о этот огроменный ааааа 1 метр и 5 кг жесть больше половины меня',\n",
              " 'rt USER есть какая почта в погонять',\n",
              " 'rt USER вчера захватил настолько что я всю ночь его читал оторваться не мог теперь блин мне это вылазит боком и я ве',\n",
              " 'афиша город пишет про моих одногруппников пишет что они тупые ебланы грубо говоря',\n",
              " 'lt lt неужели окажется',\n",
              " 'USER я же тебе написала что пар не будет',\n",
              " 'для меня ощущение праздников приходит не с елками и украшениями а с снег я ненормальный',\n",
              " 'USER ложусь спать на работу рано вставать',\n",
              " 'ну вот тот самый компромисс я в первой ну что ж буду в субботу до 6 вечера сидеть в шараге URL']"
            ]
          },
          "metadata": {},
          "execution_count": 106
        }
      ]
    },
    {
      "cell_type": "markdown",
      "metadata": {
        "id": "_HOMxEkc5sP_"
      },
      "source": [
        "Улучшение в самом конце"
      ]
    },
    {
      "cell_type": "markdown",
      "metadata": {
        "id": "NXFqFEcw-glX"
      },
      "source": [
        "## Модель с предобученными эмбеддингами"
      ]
    },
    {
      "cell_type": "code",
      "metadata": {
        "id": "472xkO9b_HUx"
      },
      "source": [
        "from gensim.models import FastText\n",
        "\n",
        "ft = FastText(window=5, min_count=2, sentences=tweets_data['prep_text'])\n",
        "weights = np.zeros((len(word2id), 100))\n",
        "count = 0\n",
        "for word, i in word2id.items():\n",
        "    if word == 'PAD':\n",
        "        continue   \n",
        "    try:\n",
        "        weights[i] = ft.wv[word]    \n",
        "    except KeyError:\n",
        "      count += 1\n",
        "      weights[i] = np.random.normal(0,0.1,100)"
      ],
      "execution_count": 17,
      "outputs": []
    },
    {
      "cell_type": "code",
      "metadata": {
        "id": "wCW-Q94w-sMZ"
      },
      "source": [
        "class FCNN(nn.Module):\n",
        "    \n",
        "    def __init__(self, vocab_size, embedding_dim):\n",
        "        super().__init__()\n",
        "        self.embedding = nn.Embedding(vocab_size, embedding_dim)\n",
        "        self.embedding.from_pretrained(torch.tensor(weights), freeze=True)\n",
        "        self.bigrams = nn.Conv1d(in_channels=embedding_dim, out_channels=100, kernel_size=2, padding='same')\n",
        "        self.trigrams = nn.Conv1d(in_channels=embedding_dim, out_channels=100, kernel_size=3, padding='same')\n",
        "        self.grams = nn.Conv1d(in_channels=200, out_channels=80, kernel_size=2, padding='same')\n",
        "        self.pooling = nn.MaxPool1d(kernel_size=2, stride=2)\n",
        "        self.relu = nn.ReLU()\n",
        "        self.hidden = nn.Linear(in_features=80, out_features=1)\n",
        "        self.out = nn.Sigmoid()\n",
        "\n",
        "    def forward(self, word):\n",
        "\n",
        "        embedded = self.embedding(word)\n",
        "        embedded = embedded.transpose(1,2)\n",
        "        feature_map_bigrams = self.pooling(self.relu(self.bigrams(embedded)))\n",
        "        feature_map_trigrams = self.pooling(self.relu(self.trigrams(embedded)))\n",
        "        concat = torch.cat((feature_map_bigrams, feature_map_trigrams), 1)\n",
        "        feature_map_grams = self.pooling(self.relu(self.grams(concat)))\n",
        "        pooling3 = feature_map_grams.max(2)[0]\n",
        "        logits = self.hidden(pooling3) \n",
        "        logits = self.out(logits)      \n",
        "        return logits"
      ],
      "execution_count": null,
      "outputs": []
    },
    {
      "cell_type": "code",
      "metadata": {
        "colab": {
          "base_uri": "https://localhost:8080/"
        },
        "id": "cwHt3iXxyj8U",
        "outputId": "37f4e24b-6e50-40ac-ded1-0699afe19490"
      },
      "source": [
        "model = FCNN(len(word2id), 300)\n",
        "optimizer = optim.Adam(model.parameters(), lr=0.001)\n",
        "criterion = nn.BCELoss()  \n",
        "\n",
        "model = model.to(DEVICE)\n",
        "criterion = criterion.to(DEVICE)\n",
        "\n",
        "losses = []\n",
        "losses_eval = []\n",
        "f1s = []\n",
        "f1s_eval = []\n",
        "\n",
        "for i in range(5):\n",
        "    print(f'\\nstarting Epoch {i}')\n",
        "    print('Training...')\n",
        "    epoch_loss = train(model, train_iterator, optimizer, criterion)\n",
        "    losses.append(epoch_loss)\n",
        "    print('\\nEvaluating on train...')\n",
        "    f1_on_train,_ = evaluate(model, train_iterator, criterion)\n",
        "    f1s.append(f1_on_train)\n",
        "    print('\\nEvaluating on test...')\n",
        "    f1_on_test, epoch_loss_on_test = evaluate(model, val_iterator, criterion)\n",
        "    losses_eval.append(epoch_loss_on_test)\n",
        "    f1s_eval.append(f1_on_test)\n",
        "\n",
        "print(max(f1s_eval), np.array(f1s_eval).argmax())"
      ],
      "execution_count": null,
      "outputs": [
        {
          "output_type": "stream",
          "name": "stdout",
          "text": [
            "\n",
            "starting Epoch 0\n",
            "Training...\n",
            "Train loss: 0.6430420139256645\n",
            "Train loss: 0.6023857368939165\n",
            "Train loss: 0.581617993231003\n",
            "Train loss: 0.5672408085075213\n",
            "Train loss: 0.5551946459487936\n",
            "\n",
            "Evaluating on train...\n",
            "Val loss: 0.47664835610810447, Val f1: 0.7949100136756897\n",
            "Val loss: 0.4700301682603532, Val f1: 0.7846121191978455\n",
            "Val loss: 0.4686089908847442, Val f1: 0.78104168176651\n",
            "Val loss: 0.4680680295975088, Val f1: 0.7786738872528076\n",
            "Val loss: 0.4674306881838831, Val f1: 0.7778294086456299\n",
            "\n",
            "Evaluating on test...\n",
            "Val loss: 0.5624428875744343, Val f1: 0.8300518989562988\n",
            "Val loss: 0.531057910007589, Val f1: 0.7821490168571472\n",
            "Val loss: 0.5201458185911179, Val f1: 0.7709435820579529\n",
            "Val loss: 0.5154277861118317, Val f1: 0.7647826671600342\n",
            "Val loss: 0.5114186656745997, Val f1: 0.7606927156448364\n",
            "\n",
            "starting Epoch 1\n",
            "Training...\n",
            "Train loss: 0.48044052720069885\n",
            "Train loss: 0.4692219919052677\n",
            "Train loss: 0.46328807135040945\n",
            "Train loss: 0.45893549254472304\n",
            "Train loss: 0.45630135892451495\n",
            "\n",
            "Evaluating on train...\n",
            "Val loss: 0.40690090989365296, Val f1: 0.8531942963600159\n",
            "Val loss: 0.3943430643150772, Val f1: 0.8452206254005432\n",
            "Val loss: 0.39177710620256573, Val f1: 0.8409380912780762\n",
            "Val loss: 0.3907260673938038, Val f1: 0.8391076326370239\n",
            "Val loss: 0.38992828627427417, Val f1: 0.8377140164375305\n",
            "\n",
            "Evaluating on test...\n",
            "Val loss: 0.5282933227717876, Val f1: 0.8663472533226013\n",
            "Val loss: 0.5033080209704006, Val f1: 0.8108205199241638\n",
            "Val loss: 0.49305449770047116, Val f1: 0.7983492016792297\n",
            "Val loss: 0.48774189949035646, Val f1: 0.7926692962646484\n",
            "Val loss: 0.48445395651188766, Val f1: 0.7880217432975769\n",
            "\n",
            "starting Epoch 2\n",
            "Training...\n",
            "Train loss: 0.39164028360563163\n",
            "Train loss: 0.3873432317505712\n",
            "Train loss: 0.38611031295015263\n",
            "Train loss: 0.38702538931112496\n",
            "Train loss: 0.38745947284945126\n",
            "\n",
            "Evaluating on train...\n",
            "Val loss: 0.32762820317464714, Val f1: 0.8965688943862915\n",
            "Val loss: 0.3216947118441264, Val f1: 0.8826742768287659\n",
            "Val loss: 0.31906027834002787, Val f1: 0.8786526322364807\n",
            "Val loss: 0.3183337947447523, Val f1: 0.8766613602638245\n",
            "Val loss: 0.31750198787656325, Val f1: 0.8756785988807678\n",
            "\n",
            "Evaluating on test...\n",
            "Val loss: 0.5263775512576103, Val f1: 0.8648895621299744\n",
            "Val loss: 0.5018334125771242, Val f1: 0.8139045834541321\n",
            "Val loss: 0.49008390651299405, Val f1: 0.8009389042854309\n",
            "Val loss: 0.48496248381478446, Val f1: 0.7954472303390503\n",
            "Val loss: 0.4819138679992069, Val f1: 0.7921965718269348\n",
            "\n",
            "starting Epoch 3\n",
            "Training...\n",
            "Train loss: 0.32679595929734845\n",
            "Train loss: 0.32239727567935333\n",
            "Train loss: 0.3243463956392728\n",
            "Train loss: 0.3241930451753328\n",
            "Train loss: 0.32552908412341414\n",
            "\n",
            "Evaluating on train...\n",
            "Val loss: 0.25630201618461046, Val f1: 0.93046635389328\n",
            "Val loss: 0.2541741188885509, Val f1: 0.9178577065467834\n",
            "Val loss: 0.2530992955255967, Val f1: 0.9128273725509644\n",
            "Val loss: 0.25325991288363503, Val f1: 0.9100477695465088\n",
            "Val loss: 0.25232557524209737, Val f1: 0.9089787006378174\n",
            "\n",
            "Evaluating on test...\n",
            "Val loss: 0.5429013594985008, Val f1: 0.8595591187477112\n",
            "Val loss: 0.52100929442574, Val f1: 0.8073016405105591\n",
            "Val loss: 0.5076322624316583, Val f1: 0.796747088432312\n",
            "Val loss: 0.5024686387607029, Val f1: 0.7911182045936584\n",
            "Val loss: 0.4999954111196778, Val f1: 0.7871921062469482\n",
            "\n",
            "starting Epoch 4\n",
            "Training...\n",
            "Train loss: 0.25492702599833994\n",
            "Train loss: 0.2507144072349521\n",
            "Train loss: 0.25307200834728205\n",
            "Train loss: 0.25584709923044385\n",
            "Train loss: 0.25890342351691475\n",
            "\n",
            "Evaluating on train...\n",
            "Val loss: 0.21418883344706366, Val f1: 0.9505271911621094\n",
            "Val loss: 0.21368742334669916, Val f1: 0.9349445104598999\n",
            "Val loss: 0.21328720794274256, Val f1: 0.9301761984825134\n",
            "Val loss: 0.21119568137813816, Val f1: 0.9288637638092041\n",
            "Val loss: 0.21067931734282394, Val f1: 0.9278056025505066\n",
            "\n",
            "Evaluating on test...\n",
            "Val loss: 0.6289355233311653, Val f1: 0.8758885860443115\n",
            "Val loss: 0.6036087064182057, Val f1: 0.8225798606872559\n",
            "Val loss: 0.5874060667478122, Val f1: 0.810833215713501\n",
            "Val loss: 0.5805986166000366, Val f1: 0.8049413561820984\n",
            "Val loss: 0.5766061679883436, Val f1: 0.8005592226982117\n",
            "tensor(0.7828, device='cuda:0') 4\n"
          ]
        }
      ]
    },
    {
      "cell_type": "code",
      "metadata": {
        "colab": {
          "base_uri": "https://localhost:8080/"
        },
        "id": "vfFoD0oJ0NBv",
        "outputId": "97791d3e-c5e4-4529-ac5a-75e1005bc55d"
      },
      "source": [
        "fp, fn, tp, tn, metr = predict(model, val_iterator)\n",
        "metr"
      ],
      "execution_count": null,
      "outputs": [
        {
          "output_type": "stream",
          "name": "stderr",
          "text": [
            "45it [01:28,  1.97s/it]\n"
          ]
        },
        {
          "output_type": "execute_result",
          "data": {
            "text/plain": [
              "{'precision': 0.7285928143712574,\n",
              " 'recall': 0.8476140717520028,\n",
              " 'f1-score': 0.7836097246820157}"
            ]
          },
          "metadata": {},
          "execution_count": 150
        }
      ]
    },
    {
      "cell_type": "markdown",
      "metadata": {
        "id": "ywA1O6tM48xG"
      },
      "source": [
        "## Датасет с символами и словами"
      ]
    },
    {
      "cell_type": "code",
      "metadata": {
        "id": "3RFNA8Sd19d5"
      },
      "source": [
        "class SymTweetsDataset(Dataset):\n",
        "\n",
        "    def __init__(self, dataset, word2id, symbol2id, DEVICE):\n",
        "        self.dataset = dataset['prep_text'].values\n",
        "        self.word2id = word2id\n",
        "        self.sym2id = symbol2id\n",
        "        self.length = dataset.shape[0]\n",
        "        self.target = dataset['tone'].values\n",
        "        self.device = DEVICE\n",
        "\n",
        "    def __len__(self):\n",
        "        return self.length\n",
        "\n",
        "    def __getitem__(self, index): \n",
        "        syms = list(self.dataset[index])\n",
        "        words = word_tokenize(self.dataset[index])\n",
        "        w_ids = torch.LongTensor([self.word2id[word] for word in words if word in self.word2id])\n",
        "        s_ids = torch.LongTensor([self.sym2id[sym] for sym in syms if sym in self.sym2id])\n",
        "        y = [self.target[index]]\n",
        "        return w_ids, s_ids, y\n",
        "\n",
        "    def collate_fn(self, batch):\n",
        "      wids, sids, y = list(zip(*batch))\n",
        "      padded_wids = pad_sequence(wids, batch_first=True).to(self.device)\n",
        "      padded_sids = pad_sequence(sids, batch_first=True).to(self.device)\n",
        "      y = torch.Tensor(y).to(self.device)\n",
        "      return padded_wids, padded_sids, y"
      ],
      "execution_count": 12,
      "outputs": []
    },
    {
      "cell_type": "code",
      "metadata": {
        "id": "_Nkz6lHu5IVw"
      },
      "source": [
        "train_dataset = SymTweetsDataset(train_data, word2id, symbol2id, DEVICE)\n",
        "train_sampler = RandomSampler(train_dataset)\n",
        "train_iterator = DataLoader(train_dataset, collate_fn = train_dataset.collate_fn, sampler=train_sampler, batch_size=1024)\n",
        "val_dataset = SymTweetsDataset(val_data, word2id, symbol2id, DEVICE)\n",
        "val_sampler = SequentialSampler(val_dataset)\n",
        "val_iterator = DataLoader(val_dataset, collate_fn = val_dataset.collate_fn, sampler=val_sampler, batch_size=1024)"
      ],
      "execution_count": 13,
      "outputs": []
    },
    {
      "cell_type": "markdown",
      "metadata": {
        "id": "ceKKv3nx8J37"
      },
      "source": [
        "## Модель с символами"
      ]
    },
    {
      "cell_type": "code",
      "metadata": {
        "id": "E_-dInf38Q_2"
      },
      "source": [
        "class SCNN(nn.Module):\n",
        "    \n",
        "    def __init__(self, word_vocab_size, sym_vocab_size, embedding_dim):\n",
        "        super().__init__()          \n",
        "        self.wembedding = nn.Embedding(word_vocab_size, embedding_dim)\n",
        "        self.wembedding.from_pretrained(torch.tensor(weights), freeze=True)\n",
        "        self.sembedding = nn.Embedding(sym_vocab_size, embedding_dim)\n",
        "        self.bigrams = nn.Conv1d(in_channels=embedding_dim, out_channels=100, kernel_size=2, padding='same')\n",
        "        self.trigrams = nn.Conv1d(in_channels=embedding_dim, out_channels=80, kernel_size=3, padding='same')\n",
        "        self.pooling = nn.MaxPool1d(kernel_size=2, stride=2)\n",
        "        self.emb2h = nn.Linear(100, 10)\n",
        "        self.h2out = nn.Linear(190, 1)  \n",
        "        self.relu = nn.ReLU()\n",
        "        self.act2 = nn.Sigmoid() \n",
        "        \n",
        "        \n",
        "    def forward(self, words, syms):\n",
        "        \n",
        "        embedded = self.wembedding(words)\n",
        "        mean_emb = torch.mean(embedded, dim=1)\n",
        "        word_emb = self.emb2h(mean_emb)\n",
        "        sym_emb = self.sembedding(syms).transpose(1,2)\n",
        "        feature_map_bigrams = self.pooling(self.relu(self.bigrams(sym_emb)))\n",
        "        feature_map_trigrams = self.pooling(self.relu(self.trigrams(sym_emb)))\n",
        "        pooling1 = feature_map_bigrams.max(2)[0] \n",
        "        pooling2 = feature_map_trigrams.max(2)[0]\n",
        "        concat = torch.cat((pooling1, pooling2), 1)\n",
        "        concat = torch.cat((concat, word_emb), 1)\n",
        "        out = self.h2out(concat)\n",
        "        proba = self.act2(out)\n",
        "        \n",
        "        return proba"
      ],
      "execution_count": 27,
      "outputs": []
    },
    {
      "cell_type": "code",
      "metadata": {
        "id": "eddmE93w71WU"
      },
      "source": [
        "def strain(model, iterator, optimizer, criterion):\n",
        "    epoch_loss = 0\n",
        "\n",
        "    model.train()\n",
        "\n",
        "    for i, (ws, sms, ys) in enumerate(iterator):\n",
        "        optimizer.zero_grad()\n",
        "        preds = model(ws, sms)\n",
        "        loss = criterion(preds, ys)\n",
        "        loss.backward() \n",
        "        optimizer.step()\n",
        "        epoch_loss += loss.item()\n",
        "        if not (i + 1) % int(len(iterator)/5):\n",
        "            print(f'Train loss: {epoch_loss/i}')      \n",
        "    return  epoch_loss / len(iterator)\n",
        "\n",
        "def sevaluate(model, iterator, criterion):\n",
        "    epoch_loss = 0\n",
        "    epoch_metric = 0\n",
        "    model.eval() \n",
        "    with torch.no_grad():\n",
        "        for i, (wids, sids, ys) in enumerate(iterator):   \n",
        "            preds = model(wids, sids)\n",
        "            loss = criterion(preds, ys)\n",
        "            epoch_loss += loss.item()\n",
        "            batch_metric = f1(preds.round().long(), ys.long(), ignore_index=0)\n",
        "            epoch_metric += batch_metric\n",
        "\n",
        "            if not (i + 1) % int(len(iterator)/5):\n",
        "              print(f'Val loss: {epoch_loss/i}, Val f1: {epoch_metric/i}')\n",
        "        \n",
        "    return epoch_metric / len(iterator), epoch_loss / len(iterator)\n",
        "\n",
        "\n",
        "def spredict(model, iterator):\n",
        "    model.eval()\n",
        "    fp = []\n",
        "    fn = []\n",
        "    tp = [] \n",
        "    tn = []\n",
        "    with torch.no_grad():\n",
        "        for i, (words, syms, ys) in enumerate(iterator):   \n",
        "            preds = model(words, syms)\n",
        "            for pred, gold, word in zip(preds, ys, words):\n",
        "              text = ' '.join([id2word[int(w)] for w in word if w !=0])\n",
        "              if round(pred.item()) > gold:\n",
        "                fp.append(text)\n",
        "              elif round(pred.item()) < gold:\n",
        "                fn.append(text)\n",
        "              elif round(pred.item()) == gold == 1:\n",
        "                tp.append(text)\n",
        "              elif round(pred.item()) == gold == 0:\n",
        "                tn.append(text)\n",
        "    pr = len(tp) / (len(tp) + len(fp))\n",
        "    rc = len(tp) / (len(tp) + len(fn))\n",
        "    f1sc = 2*pr*rc / (pr + rc) \n",
        "    return fp, fn, tp, tn, {'precision': pr, 'recall': rc, 'f1-score': f1sc}"
      ],
      "execution_count": 37,
      "outputs": []
    },
    {
      "cell_type": "code",
      "metadata": {
        "colab": {
          "base_uri": "https://localhost:8080/"
        },
        "id": "8u8n5spu35_N",
        "outputId": "c7061819-194b-4aa8-90f0-74d9c3a39261"
      },
      "source": [
        "model = SCNN(len(word2id), len(symbol2id), 100)\n",
        "optimizer = optim.Adam(model.parameters(), lr=0.005)\n",
        "criterion = nn.BCELoss()  \n",
        "model = model.to(DEVICE)\n",
        "criterion = criterion.to(DEVICE)\n",
        "\n",
        "losses = []\n",
        "losses_eval = []\n",
        "f1s = []\n",
        "f1s_eval = []\n",
        "\n",
        "for i in range(5):\n",
        "    print(f'\\nstarting Epoch {i}')\n",
        "    print('Training...')\n",
        "    epoch_loss = strain(model, train_iterator, optimizer, criterion)\n",
        "    losses.append(epoch_loss)\n",
        "    print('\\nEvaluating on train...')\n",
        "    f1_on_train,_ = sevaluate(model, train_iterator, criterion)\n",
        "    f1s.append(f1_on_train)\n",
        "    print('\\nEvaluating on test...')\n",
        "    f1_on_test, epoch_loss_on_test = sevaluate(model, val_iterator, criterion)\n",
        "    losses_eval.append(epoch_loss_on_test)\n",
        "    f1s_eval.append(f1_on_test)"
      ],
      "execution_count": 30,
      "outputs": [
        {
          "output_type": "stream",
          "name": "stdout",
          "text": [
            "\n",
            "starting Epoch 0\n",
            "Training...\n",
            "Train loss: 0.7433311939239502\n",
            "Train loss: 0.6594492896743442\n",
            "Train loss: 0.6238732085778163\n",
            "Train loss: 0.599554007001918\n",
            "Train loss: 0.5790315561596004\n",
            "\n",
            "Evaluating on train...\n",
            "Val loss: 0.5048245340585709, Val f1: 0.8093041777610779\n",
            "Val loss: 0.49336633302163385, Val f1: 0.8009685277938843\n",
            "Val loss: 0.49068238500219125, Val f1: 0.7968689203262329\n",
            "Val loss: 0.48987250533892956, Val f1: 0.794594943523407\n",
            "Val loss: 0.4888004884980191, Val f1: 0.7933446168899536\n",
            "\n",
            "Evaluating on test...\n",
            "Val loss: 0.5699881017208099, Val f1: 0.8776243329048157\n",
            "Val loss: 0.5395218870219063, Val f1: 0.8237985968589783\n",
            "Val loss: 0.5313879595353053, Val f1: 0.8052682280540466\n",
            "Val loss: 0.5286881770406451, Val f1: 0.7959586977958679\n",
            "Val loss: 0.5242205519567836, Val f1: 0.7918329238891602\n",
            "\n",
            "starting Epoch 1\n",
            "Training...\n",
            "Train loss: 0.4769461707157247\n",
            "Train loss: 0.46487372897673346\n",
            "Train loss: 0.4571418621792243\n",
            "Train loss: 0.4525961189818897\n",
            "Train loss: 0.4503116633357673\n",
            "\n",
            "Evaluating on train...\n",
            "Val loss: 0.39776711691828337, Val f1: 0.8500177264213562\n",
            "Val loss: 0.39325874439184216, Val f1: 0.8379949927330017\n",
            "Val loss: 0.3936592137011198, Val f1: 0.8325353860855103\n",
            "Val loss: 0.39256810863241015, Val f1: 0.8304316401481628\n",
            "Val loss: 0.3925089503841839, Val f1: 0.8283339738845825\n",
            "\n",
            "Evaluating on test...\n",
            "Val loss: 0.5139600858092308, Val f1: 0.8776939511299133\n",
            "Val loss: 0.48606934617547426, Val f1: 0.8265646696090698\n",
            "Val loss: 0.4779237566085962, Val f1: 0.8081904649734497\n",
            "Val loss: 0.4755646892956325, Val f1: 0.7983992099761963\n",
            "Val loss: 0.4714944301681085, Val f1: 0.7926910519599915\n",
            "\n",
            "starting Epoch 2\n",
            "Training...\n",
            "Train loss: 0.40457534264115724\n",
            "Train loss: 0.3987172371235447\n",
            "Train loss: 0.39710395811842036\n",
            "Train loss: 0.3963693873487788\n",
            "Train loss: 0.39703893421710224\n",
            "\n",
            "Evaluating on train...\n",
            "Val loss: 0.3882729674086851, Val f1: 0.8678824305534363\n",
            "Val loss: 0.38566927028738934, Val f1: 0.8532969355583191\n",
            "Val loss: 0.381340804294898, Val f1: 0.8501546382904053\n",
            "Val loss: 0.38027106000365113, Val f1: 0.8477603197097778\n",
            "Val loss: 0.3787822000596715, Val f1: 0.847308337688446\n",
            "\n",
            "Evaluating on test...\n",
            "Val loss: 0.5544988550245762, Val f1: 0.8912650942802429\n",
            "Val loss: 0.5214585889788235, Val f1: 0.839343786239624\n",
            "Val loss: 0.5126785681797907, Val f1: 0.8208468556404114\n",
            "Val loss: 0.5110467238085611, Val f1: 0.8113776445388794\n",
            "Val loss: 0.506225551393899, Val f1: 0.8066403269767761\n",
            "\n",
            "starting Epoch 3\n",
            "Training...\n",
            "Train loss: 0.37265917658805847\n",
            "Train loss: 0.36490992575451947\n",
            "Train loss: 0.36274751419058215\n",
            "Train loss: 0.36302428387051866\n",
            "Train loss: 0.3633449725035963\n",
            "\n",
            "Evaluating on train...\n",
            "Val loss: 0.34139682615504546, Val f1: 0.8730049729347229\n",
            "Val loss: 0.3374262167059857, Val f1: 0.8600344657897949\n",
            "Val loss: 0.3351687826216221, Val f1: 0.856377899646759\n",
            "Val loss: 0.3336610669712369, Val f1: 0.8548570275306702\n",
            "Val loss: 0.3326780081822954, Val f1: 0.8533438444137573\n",
            "\n",
            "Evaluating on test...\n",
            "Val loss: 0.55512585490942, Val f1: 0.8493649959564209\n",
            "Val loss: 0.522337019443512, Val f1: 0.8033579587936401\n",
            "Val loss: 0.512668075469824, Val f1: 0.7872713208198547\n",
            "Val loss: 0.5097113047327314, Val f1: 0.77888023853302\n",
            "Val loss: 0.5063829543915662, Val f1: 0.77463299036026\n",
            "\n",
            "starting Epoch 4\n",
            "Training...\n",
            "Train loss: 0.33188881768899803\n",
            "Train loss: 0.3325818414273469\n",
            "Train loss: 0.3357237846805499\n",
            "Train loss: 0.33774610088883544\n",
            "Train loss: 0.3404596216719726\n",
            "\n",
            "Evaluating on train...\n",
            "Val loss: 0.30871430915944714, Val f1: 0.8977622389793396\n",
            "Val loss: 0.3061436254909073, Val f1: 0.8845549821853638\n",
            "Val loss: 0.3055744870350911, Val f1: 0.8791632652282715\n",
            "Val loss: 0.30493374694165565, Val f1: 0.8772243857383728\n",
            "Val loss: 0.3042544205298369, Val f1: 0.876295268535614\n",
            "\n",
            "Evaluating on test...\n",
            "Val loss: 0.5626065507531166, Val f1: 0.8649476170539856\n",
            "Val loss: 0.5289268879329457, Val f1: 0.8163493871688843\n",
            "Val loss: 0.5198466628789902, Val f1: 0.7991507053375244\n",
            "Val loss: 0.5171514826161521, Val f1: 0.7919585704803467\n",
            "Val loss: 0.514515754851428, Val f1: 0.7875169515609741\n"
          ]
        }
      ]
    },
    {
      "cell_type": "code",
      "metadata": {
        "id": "bNxMWODU4yFt",
        "colab": {
          "base_uri": "https://localhost:8080/"
        },
        "outputId": "ff2b4cc4-fe59-4d6b-f791-ad7f410e33b0"
      },
      "source": [
        "fp, fn, tp, tn, metr = spredict(model, val_iterator)\n",
        "metr"
      ],
      "execution_count": 38,
      "outputs": [
        {
          "output_type": "execute_result",
          "data": {
            "text/plain": [
              "{'precision': 0.7899903665305748,\n",
              " 'recall': 0.7521072629602131,\n",
              " 'f1-score': 0.7705834974046893}"
            ]
          },
          "metadata": {},
          "execution_count": 38
        }
      ]
    },
    {
      "cell_type": "code",
      "metadata": {
        "colab": {
          "base_uri": "https://localhost:8080/"
        },
        "id": "-f0OYDBZqpMp",
        "outputId": "fbffb586-954b-4813-a4df-3c1a4f3e2b60"
      },
      "source": [
        "print(len(fp), len(fn), len(tp), len(tn))"
      ],
      "execution_count": 39,
      "outputs": [
        {
          "output_type": "stream",
          "name": "stdout",
          "text": [
            "4578 5676 17221 17892\n"
          ]
        }
      ]
    },
    {
      "cell_type": "code",
      "metadata": {
        "colab": {
          "base_uri": "https://localhost:8080/"
        },
        "id": "TYu7CxBaq3SZ",
        "outputId": "e8f921e7-1867-4be9-da46-74b2940440ac"
      },
      "source": [
        "fp[:20]\n",
        "# не всегда справляется с конфликтами пол. vs отриц. слов (убью vs добрые, адский vs радует)\n",
        "# в некоторых предложениях нет никаких специфичных слов, которые могут помочь, и периодически не хватает контекста, чтобы самому понять окраску\n",
        "# но есть ошибки и со словами \"жалко, боюсь\", то есть негативными"
      ],
      "execution_count": 40,
      "outputs": [
        {
          "output_type": "execute_result",
          "data": {
            "text/plain": [
              "['USER стаса друг очень просит таню в принципе она мешать не будет но все равно',\n",
              " 'прохождение the walking dead season 2 девочку жалко 4 URL',\n",
              " 'rt USER я думаю у кое кого есть маленький секрет teamfollowback',\n",
              " 'USER вася ааа как давно я его не видела',\n",
              " 'USER USER какой то тогда если бы я это увидела спокойно не смогла бы уйти от туда',\n",
              " 'они сейчас съедят все сушки как дальше принимать задачки',\n",
              " 'USER USER USER а у нас в украине 2 уже забыл сколько недель восток а в крыму уже цветут деревья и все печально',\n",
              " 'на работе мы внезапно решили заменить сервер на котором домена и прочие ad',\n",
              " 'USER 8 6 в пяти минутах до школы и вечно опаздываю',\n",
              " 'сегодня просто адский день хоть по конституции отчиталась одно радует',\n",
              " 'лиз ты ушла из 62 da URL',\n",
              " 'я бы предложила встретиться в любое удобное время для тебя но ты слишком занятой',\n",
              " 'USER я вас сейчас убью но эти добрые люди барда и смауга',\n",
              " 'USER пиздец как проверь веки руки',\n",
              " 'USER я завтра просто я была сегодня занята с и',\n",
              " 'USER я тоже глик ловатик и люблю джонасов любимые братики почему то я уверен ты умеешь петь ты просто меня не слышал лал',\n",
              " 'USER никогда не сделаем потомучто',\n",
              " 'USER тому уже скоро первый юбилей отмечать будем',\n",
              " 'USER для того чтобы понять мне надо уйму материала перечитать а мозг уже пухнет да еще и на экзамене боюсь в ступор впасть',\n",
              " 'я думал что елка в искусственная ну ладно пока']"
            ]
          },
          "metadata": {},
          "execution_count": 40
        }
      ]
    },
    {
      "cell_type": "code",
      "metadata": {
        "colab": {
          "base_uri": "https://localhost:8080/"
        },
        "id": "KXJgKMSiq6HL",
        "outputId": "653d4d64-65d0-4cbd-88bc-46a54717c547"
      },
      "source": [
        "fn[:20]\n",
        "# все еще сохраняется проблема с разметкой\n",
        "# периодически влияют негативно окрашенные слова, которые в данном контексте не имеют негативных коннотаций (расплачусь, мат, жалоба)"
      ],
      "execution_count": 43,
      "outputs": [
        {
          "output_type": "execute_result",
          "data": {
            "text/plain": [
              "['USER с мамой что то случилось обычно мы ее наряжаем прям под нг',\n",
              " 'кристина меня и заботиться на фитнес приглашает вот так вот',\n",
              " 'скоро по геометрии отличницей стану три 5 за последние контрольные',\n",
              " 'USER я не удивлюсь если ты напишешь им жалобу что тебе смс не пришло',\n",
              " 'USER вы как никогда владислав',\n",
              " 'каждый день иди к цели будто и нет',\n",
              " 'нет я решил сделать перерыв и не есть мясного вообще какое то время сосиски ветчина и т д на следующей неделе',\n",
              " 'кто на пацаны из slipknot вродь называются ахуеть шутка',\n",
              " 'думала что я дома одна но нет сестра проснулась',\n",
              " 'бля надо искать платье на нг а мне так лееень',\n",
              " 'USER один мой друг меня на один пункт в этом списке',\n",
              " 'да 3 вечер сериал надо какой нибудь найти и смотреть',\n",
              " 'USER там много плюсов 1 обновление т е когда загрузилась лента тебя не выкидывает в ее верх а остаешься где закончил читать',\n",
              " 'пошла гулять с лучшей подругой все прохожие убегают в нарнию и думают что мы ахаха это про меня и',\n",
              " 'ой ой ой ой ой вы серьезно gta san andreas на моем ipad я сейчас расплачусь от ностальгии URL',\n",
              " 'USER вот если честно то не знаю где то пт',\n",
              " 'USER ретвит в японских так после своего ретвита пишут чтобы его прокомментировать',\n",
              " 'USER а может он потому что летит не из а в люк',\n",
              " 'а у нас в пб теперь поиграть URL',\n",
              " 'гримм жжет видимо каждая серия будет про какую то из сказок в начале серии 2е в чей то дом и']"
            ]
          },
          "metadata": {},
          "execution_count": 43
        }
      ]
    },
    {
      "cell_type": "markdown",
      "metadata": {
        "id": "I4sH_ZhVy6oW"
      },
      "source": [
        "## Улучшение моделей: добавление пунктуации"
      ]
    },
    {
      "cell_type": "code",
      "metadata": {
        "colab": {
          "base_uri": "https://localhost:8080/"
        },
        "id": "de2XdrnAuTfg",
        "outputId": "676f0637-a031-4f4e-f33b-f23448a3073a"
      },
      "source": [
        "tweets_data['prep_text'] = [text.lower() for text in tweets_data['text']]\n",
        "train_data, val_data = train_test_split(tweets_data, test_size=0.2)\n",
        "word_vocab = Counter()\n",
        "for text in tweets_data['prep_text']:\n",
        "    word_vocab.update(word_tokenize(text))\n",
        "print('всего уникальных символов:', len(word_vocab))\n",
        "\n",
        "filtered_word_vocab = set()\n",
        "\n",
        "for word in word_vocab:\n",
        "    if word_vocab[word] > 2:\n",
        "        filtered_word_vocab.add(word)\n",
        "print('уникальных символов, втретившихся больше 5 раз:', len(filtered_word_vocab))\n",
        "\n",
        "word2id = {'PAD':0}\n",
        "\n",
        "for word in filtered_word_vocab:\n",
        "    word2id[word] = len(word2id)\n",
        "\n",
        "id2word = {i:word for word, i in word2id.items()}\n",
        "\n",
        "sym_vocab = Counter()\n",
        "for symbol in tweets_data['prep_text']:\n",
        "    sym_vocab.update(list(symbol))\n",
        "print('всего уникальных символов:', len(sym_vocab))\n",
        "\n",
        "filtered_sym_vocab = set()\n",
        "\n",
        "for symbol in sym_vocab:\n",
        "    if sym_vocab[symbol] > 5:\n",
        "        filtered_sym_vocab.add(symbol)\n",
        "print('уникальных символов, втретившихся больше 5 раз:', len(filtered_sym_vocab))\n",
        "\n",
        "symbol2id = {'PAD':0}\n",
        "\n",
        "for symbol in filtered_sym_vocab:\n",
        "    symbol2id[symbol] = len(symbol2id)\n",
        "\n",
        "id2symbol = {i:symbol for symbol, i in symbol2id.items()}"
      ],
      "execution_count": 45,
      "outputs": [
        {
          "output_type": "stream",
          "name": "stdout",
          "text": [
            "всего уникальных символов: 323972\n",
            "уникальных символов, втретившихся больше 5 раз: 65696\n",
            "всего уникальных символов: 385\n",
            "уникальных символов, втретившихся больше 5 раз: 169\n"
          ]
        }
      ]
    },
    {
      "cell_type": "code",
      "metadata": {
        "id": "V-rKeoMHttvd"
      },
      "source": [
        "train_dataset = SymTweetsDataset(train_data, word2id, symbol2id, DEVICE)\n",
        "train_sampler = RandomSampler(train_dataset)\n",
        "train_iterator = DataLoader(train_dataset, collate_fn = train_dataset.collate_fn, sampler=train_sampler, batch_size=1024)\n",
        "val_dataset = SymTweetsDataset(val_data, word2id, symbol2id, DEVICE)\n",
        "val_sampler = SequentialSampler(val_dataset)\n",
        "val_iterator = DataLoader(val_dataset, collate_fn = val_dataset.collate_fn, sampler=val_sampler, batch_size=1024)"
      ],
      "execution_count": 46,
      "outputs": []
    },
    {
      "cell_type": "code",
      "metadata": {
        "colab": {
          "base_uri": "https://localhost:8080/"
        },
        "id": "6SnpwMcWulGH",
        "outputId": "a53b5dad-0b21-4c10-987e-4e180b71e65d"
      },
      "source": [
        "model = SCNN(len(word2id), len(symbol2id), 100)\n",
        "optimizer = optim.Adam(model.parameters(), lr=0.005)\n",
        "criterion = nn.BCELoss()  \n",
        "model = model.to(DEVICE)\n",
        "criterion = criterion.to(DEVICE)\n",
        "\n",
        "losses = []\n",
        "losses_eval = []\n",
        "f1s = []\n",
        "f1s_eval = []\n",
        "\n",
        "for i in range(1):\n",
        "    print(f'\\nstarting Epoch {i}')\n",
        "    print('Training...')\n",
        "    epoch_loss = strain(model, train_iterator, optimizer, criterion)\n",
        "    losses.append(epoch_loss)\n",
        "    print('\\nEvaluating on train...')\n",
        "    f1_on_train,_ = sevaluate(model, train_iterator, criterion)\n",
        "    f1s.append(f1_on_train)\n",
        "    print('\\nEvaluating on test...')\n",
        "    f1_on_test, epoch_loss_on_test = sevaluate(model, val_iterator, criterion)\n",
        "    losses_eval.append(epoch_loss_on_test)\n",
        "    f1s_eval.append(f1_on_test)"
      ],
      "execution_count": 48,
      "outputs": [
        {
          "output_type": "stream",
          "name": "stdout",
          "text": [
            "\n",
            "starting Epoch 0\n",
            "Training...\n",
            "Train loss: 0.21863990953630386\n",
            "Train loss: 0.11201766492340012\n",
            "Train loss: 0.07545812473892091\n",
            "Train loss: 0.05695359065137107\n",
            "Train loss: 0.04567639956544501\n",
            "\n",
            "Evaluating on train...\n",
            "Val loss: 0.0010686312384410378, Val f1: 1.029268741607666\n",
            "Val loss: 0.0008765000363211215, Val f1: 1.0144083499908447\n",
            "Val loss: 0.0008614762751116919, Val f1: 1.0095295906066895\n",
            "Val loss: 0.000859570981375203, Val f1: 1.0070953369140625\n",
            "Val loss: 0.0009108060196807459, Val f1: 1.0056346654891968\n",
            "\n",
            "Evaluating on test...\n",
            "Val loss: 0.0010821388823387679, Val f1: 1.1248828172683716\n",
            "Val loss: 0.0009137498461367452, Val f1: 1.0587109327316284\n",
            "Val loss: 0.0008506488677364989, Val f1: 1.0383878946304321\n",
            "Val loss: 0.000836358210238229, Val f1: 1.028489112854004\n",
            "Val loss: 0.0008160135079048235, Val f1: 1.0226397514343262\n"
          ]
        }
      ]
    },
    {
      "cell_type": "code",
      "metadata": {
        "colab": {
          "base_uri": "https://localhost:8080/"
        },
        "id": "W9ESpqY0utVh",
        "outputId": "8ed76549-fc66-4f35-d8ff-037cf4dbba6a"
      },
      "source": [
        "fp, fn, tp, tn, metr = spredict(model, val_iterator)\n",
        "metr"
      ],
      "execution_count": 49,
      "outputs": [
        {
          "output_type": "execute_result",
          "data": {
            "text/plain": [
              "{'precision': 0.9998262606958259,\n",
              " 'recall': 1.0,\n",
              " 'f1-score': 0.9999131228009209}"
            ]
          },
          "metadata": {},
          "execution_count": 49
        }
      ]
    },
    {
      "cell_type": "code",
      "metadata": {
        "colab": {
          "base_uri": "https://localhost:8080/"
        },
        "id": "Q95yYZHDxhNV",
        "outputId": "e0e99081-218f-4399-b6a3-fbdf676e6be8"
      },
      "source": [
        "print(len(fp), len(fn), len(tp), len(tn))"
      ],
      "execution_count": 50,
      "outputs": [
        {
          "output_type": "stream",
          "name": "stdout",
          "text": [
            "4 0 23019 22344\n"
          ]
        }
      ]
    },
    {
      "cell_type": "code",
      "metadata": {
        "colab": {
          "base_uri": "https://localhost:8080/"
        },
        "id": "8nfr_R5WxoxE",
        "outputId": "0ee18766-9266-4ff8-c4c8-6c3992327f3a"
      },
      "source": [
        "fp\n",
        "# Непонятные твиты, которые еще и непонятно почему негативные\n",
        "# Да здравствуют смайлики!"
      ],
      "execution_count": 52,
      "outputs": [
        {
          "output_type": "execute_result",
          "data": {
            "text/plain": [
              "['то чувство , когда твой лайк 6666 о_о http :',\n",
              " \"заза , сайхан , `` ажил '' ээ , хэх… : -/ # баас # : p\",\n",
              " 'rt @ palmjuliefrost : 4 000 * -- -- -* посвящение : @ @ @ @ @ imapotato_ouo я вас люблю',\n",
              " 'мама : - , ты не проспал я : - я еще не ложился : |']"
            ]
          },
          "metadata": {},
          "execution_count": 52
        }
      ]
    },
    {
      "cell_type": "code",
      "metadata": {
        "colab": {
          "base_uri": "https://localhost:8080/"
        },
        "id": "DpG69wOkrncc",
        "outputId": "0e8ff817-11e3-4eac-8be9-e3500feec70f"
      },
      "source": [
        "#Улучшение 1 модели\n",
        "train_dataset = TweetsDataset(train_data, word2id, DEVICE)\n",
        "train_sampler = RandomSampler(train_dataset)\n",
        "train_iterator = DataLoader(train_dataset, collate_fn = train_dataset.collate_fn, sampler=train_sampler, batch_size=1024)\n",
        "val_dataset = TweetsDataset(val_data, word2id, DEVICE)\n",
        "val_sampler = SequentialSampler(val_dataset)\n",
        "val_iterator = DataLoader(val_dataset, collate_fn = val_dataset.collate_fn, sampler=val_sampler, batch_size=1024)\n",
        "\n",
        "model = CNN(len(word2id), 100)\n",
        "optimizer = optim.Adam(model.parameters(), lr=0.001)\n",
        "criterion = nn.BCELoss()  \n",
        "\n",
        "model = model.to(DEVICE)\n",
        "criterion = criterion.to(DEVICE)\n",
        "\n",
        "losses = []\n",
        "losses_eval = []\n",
        "f1s = []\n",
        "f1s_eval = []\n",
        "\n",
        "for i in range(1):\n",
        "    print(f'\\nstarting Epoch {i}')\n",
        "    print('Training...')\n",
        "    epoch_loss = train(model, train_iterator, optimizer, criterion)\n",
        "    losses.append(epoch_loss)\n",
        "    print('\\nEvaluating on train...')\n",
        "    f1_on_train,_ = evaluate(model, train_iterator, criterion)\n",
        "    f1s.append(f1_on_train)\n",
        "    print('\\nEvaluating on test...')\n",
        "    f1_on_test, epoch_loss_on_test = evaluate(model, val_iterator, criterion)\n",
        "    losses_eval.append(epoch_loss_on_test)\n",
        "    f1s_eval.append(f1_on_test)"
      ],
      "execution_count": 58,
      "outputs": [
        {
          "output_type": "stream",
          "name": "stdout",
          "text": [
            "\n",
            "starting Epoch 0\n",
            "Training...\n",
            "Train loss: 0.18916034758748376\n",
            "Train loss: 0.10254128946774248\n",
            "Train loss: 0.07170929650041777\n",
            "Train loss: 0.05557144834432188\n",
            "Train loss: 0.045980331604368985\n",
            "\n",
            "Evaluating on train...\n",
            "Val loss: 0.005724139415713794, Val f1: 1.027681589126587\n",
            "Val loss: 0.005513945418963398, Val f1: 1.0127688646316528\n",
            "Val loss: 0.005470135612995364, Val f1: 1.007906436920166\n",
            "Val loss: 0.005322808749042451, Val f1: 1.0055369138717651\n",
            "Val loss: 0.0052769365044706765, Val f1: 1.0040948390960693\n",
            "\n",
            "Evaluating on test...\n",
            "Val loss: 0.00860236119478941, Val f1: 1.1219595670700073\n",
            "Val loss: 0.006826780640574939, Val f1: 1.056486964225769\n",
            "Val loss: 0.006650491017633333, Val f1: 1.0362749099731445\n",
            "Val loss: 0.006798500388062426, Val f1: 1.0263086557388306\n",
            "Val loss: 0.006975630663377656, Val f1: 1.0204250812530518\n"
          ]
        }
      ]
    },
    {
      "cell_type": "code",
      "metadata": {
        "colab": {
          "base_uri": "https://localhost:8080/"
        },
        "id": "erKIwlfdmj71",
        "outputId": "46ab162c-d4e3-49a5-9c6a-480a0a542adf"
      },
      "source": [
        "fp, fn, tp, tn, metr = predict(model, val_iterator)\n",
        "print(metr)\n",
        "print(len(fp), len(fn), len(tp), len(tn))"
      ],
      "execution_count": 66,
      "outputs": [
        {
          "output_type": "stream",
          "name": "stdout",
          "text": [
            "{'precision': 0.9986073635651492, 'recall': 0.9968287067205353, 'f1-score': 0.997717242428854}\n",
            "32 73 22946 22316\n"
          ]
        }
      ]
    },
    {
      "cell_type": "code",
      "metadata": {
        "colab": {
          "base_uri": "https://localhost:8080/"
        },
        "id": "gbhKSR0Rmst5",
        "outputId": "227238b0-6f91-47dd-9e20-be1502606782"
      },
      "source": [
        "fp\n",
        "#опять разметка вызывает вопросы\n",
        "# иногда обманки-позитивные слова (1 пр.)"
      ],
      "execution_count": 63,
      "outputs": [
        {
          "output_type": "execute_result",
          "data": {
            "text/plain": [
              "['@ veeetch всё отлично , если не считать того что я заболела и у меня голос пропадает ( ихихих слышал бы ты меня : d',\n",
              " 'rt @ tao_oppa : я нашел свою папку с оо http :',\n",
              " 'внезапно вспомнила , что мне сегодня снился о_о там и другие , но его прям хорошо помню :3',\n",
              " 'rt @ : @ seo_optimizator вот где можно заработать в интернете https :',\n",
              " '@ , охренеть ! у меня вообще слов нет ! o_o а мы тут радуемся 6 : -|',\n",
              " '@ samo_obayaniye это ты так думаешь , а слог думает иначе',\n",
              " '@ mihaylenko_o знакомо многим , у кого есть младшие твари тот нам надо .',\n",
              " '# rt но мы остались в больнице с пятницы по воскресенье o_o # ff # follow',\n",
              " 'разговор на работе : с : я за праздники набрала 6 кг ! л : а я 3,5 я : а я 1. c , л : o_o fuck yeah !',\n",
              " '@ можно ставить галочку в : /',\n",
              " 'ничего не купила себе из одежды ( вместо этого везу ковер и кучу себе в общагу : d',\n",
              " '( лазерный hp цвет : black ресурс : стр',\n",
              " 'rt @ radio_of_moon : модные достаточно оригинальная и стильная обувь http :',\n",
              " '@ blo_odred моде попробовать записать разговор и в ?',\n",
              " '@ sherlock_go_on я даже фильм из-за них не могу посмотреть d :',\n",
              " '( например , можно проводить соревнования используя при стрельбе лежа для стрельбы из положения стоя и т',\n",
              " 'пересматривал десятого доктора и увидел ... капальди ! o_o интересно , как сценаристы это : / # докторкто',\n",
              " '@ simonenko_os я тоже тебе это обещаю :',\n",
              " 'rt @ angelino_ochka : холод , иди нахуй . снег , иди нахуй . зима , иди нахуй .',\n",
              " 'rt @ do_or_pie_ : @ спасибо с : : # срождествомтвиттерский',\n",
              " 'rt @ palmjuliefrost : 4 000 * -- -- -* посвящение : @ @ @ @ @ imapotato_ouo я вас люблю',\n",
              " '@ loscut1958 @ ivanandhispike @ cio_optimal @ ssukat статистика ваша , : 146 % за путина !',\n",
              " '@ trubadur33 @ cio_optimal а это уже не наши деньги . вы что считаете живет на налоги населения ? нет это качает и бросает нам кость',\n",
              " '@ да я тоже еле уговорила её дать мне поносить на 5 мин азахха',\n",
              " 'а : да давай скажем ей ... ж : что ? а : куда сергей смотрел весь день ... ж : o_o , не надо мне говорить ... ж : вот же суки ...',\n",
              " 'rt @ mamo_oru : любимые мужские имена : александр . # эгоизм .',\n",
              " 'rt @ lavrovalove : @ sveta_o_o эта девочка самая лучшая ❤ люблю',\n",
              " '@ panfilenko_olga легко и просто , я так тоже делаю ; d',\n",
              " '@ elenamikhailova @ cio_optimal свои же и режут из-за денег .',\n",
              " 'rt @ horanso_on : найл : рок ме гарри : меня штырит зейн : о , драчка лиам : ска , почему ты мне сказал , что джинсы надо черные луи : все норм http : …',\n",
              " 'rt @ : @ to_over_kill потому что зебры крутые .',\n",
              " '@ o_o что это там за фотки , и я такие хочу ; d']"
            ]
          },
          "metadata": {},
          "execution_count": 63
        }
      ]
    },
    {
      "cell_type": "code",
      "metadata": {
        "colab": {
          "base_uri": "https://localhost:8080/"
        },
        "id": "r2N6-wvZmvd3",
        "outputId": "47ab8c0e-89f0-429a-fc28-2a1ddb6a341b"
      },
      "source": [
        "fn[:20]\n",
        "# возможно, считает ^_^ и большое кол-во ! негативным\n",
        "# хотя попалось достаточно много примеров со словами с очень ярко-выраженным позитивным окрасом"
      ],
      "execution_count": 65,
      "outputs": [
        {
          "output_type": "execute_result",
          "data": {
            "text/plain": [
              "['rt @ : @ love_niall99 не боись , всегда и всюду с тобой : *удачи , лю типя ! ! !',\n",
              " '@ : . сегодня фильм в дк есть ? да ?',\n",
              " 'rt @ : @ с рождения тебя ! ! успехов во всех начинаниях , здоровья , оставайся http : //…',\n",
              " 'у любимой моей глазки http :',\n",
              " 'rt @ : @ im_your_maniac : dddd',\n",
              " 'rt @ : наверное , стоит дать им минутку побыть вдвоём , перед операцией . *^_^* # teamfollowback',\n",
              " 'украсили комнату и нарядили ёлочку =^_^= http :',\n",
              " '@ lirvana_ @ fucking_chaw @ killjoy_greenka @ 666_idiot @ deatbeatholiday @ fuck_time01 ну гоу гоу : вы там охранников не , а то',\n",
              " 'rt @ : @ ты всегда лапочка',\n",
              " '@ адрес адрес адрес ! ! ты сказал мне адрес ! ! ! а теперь будь осторожнее ! ! :',\n",
              " 'думаю стоит поздравить одну из самых @ с днем рождения:3 желаю не заболеть в и пошире глотку',\n",
              " 'круто , зато на химию не ходила : не нравится мне этот предмет',\n",
              " '@ @ khatsevich_ann ^_^ надежда , рб , г. минск , ул . , , кв . , индекс .',\n",
              " ') @ область http :',\n",
              " '@ я сказала свои нет : половина левые вообще были',\n",
              " 'после школы зашли с аней в я накормила нас и :',\n",
              " 'сдала теорию ! ! ! ! с первого ! ! ! ! ! кто тут самый умный ? ! ? ! ?',\n",
              " '@ god_of_cuteness @ enot_boris за всех нас с : за эту прекрасную встречу : *****',\n",
              " '# / , ходи по чаще в рубашке , она тебе',\n",
              " '@ что ты делаешь , любовь моя ? тоже безумно скучаю :']"
            ]
          },
          "metadata": {},
          "execution_count": 65
        }
      ]
    },
    {
      "cell_type": "code",
      "metadata": {
        "id": "ANt4oPpKx59O"
      },
      "source": [
        ""
      ],
      "execution_count": null,
      "outputs": []
    }
  ]
}