{
  "cells": [
    {
      "cell_type": "code",
      "execution_count": 2,
      "metadata": {
        "colab": {
          "base_uri": "https://localhost:8080/"
        },
        "id": "Y98GLxJxNife",
        "outputId": "18959ccd-bed9-43f6-d893-c3b01b59a49e"
      },
      "outputs": [
        {
          "output_type": "stream",
          "name": "stdout",
          "text": [
            "[nltk_data] Downloading package punkt to /root/nltk_data...\n",
            "[nltk_data]   Unzipping tokenizers/punkt.zip.\n"
          ]
        },
        {
          "output_type": "execute_result",
          "data": {
            "text/plain": [
              "True"
            ]
          },
          "metadata": {},
          "execution_count": 2
        }
      ],
      "source": [
        "import pandas as pd\n",
        "import gensim\n",
        "import torch\n",
        "import torch.nn as nn\n",
        "import nltk\n",
        "from nltk import word_tokenize\n",
        "from collections import Counter\n",
        "from torch.utils.data import Dataset, DataLoader, RandomSampler, SequentialSampler\n",
        "from torch.nn.utils.rnn import pad_sequence, pad_packed_sequence\n",
        "import torch.optim as optim\n",
        "from sklearn.model_selection import train_test_split\n",
        "from tqdm import tqdm\n",
        "import seaborn as sns\n",
        "import torch.nn.functional as F\n",
        "import numpy as np\n",
        "from torchmetrics.functional import f1\n",
        "\n",
        "nltk.download('punkt')"
      ]
    },
    {
      "cell_type": "code",
      "source": [
        "!wget https://s3.amazonaws.com/dl4j-distribution/GoogleNews-vectors-negative300.bin.gz\n",
        "!gunzip GoogleNews-vectors-negative300.bin.gz"
      ],
      "metadata": {
        "colab": {
          "base_uri": "https://localhost:8080/"
        },
        "id": "68hRRtNHOAEg",
        "outputId": "3104d70a-b6b8-4713-ee14-bee275936f12"
      },
      "execution_count": 3,
      "outputs": [
        {
          "output_type": "stream",
          "name": "stdout",
          "text": [
            "--2021-12-29 17:12:51--  https://s3.amazonaws.com/dl4j-distribution/GoogleNews-vectors-negative300.bin.gz\n",
            "Resolving s3.amazonaws.com (s3.amazonaws.com)... 52.216.228.75\n",
            "Connecting to s3.amazonaws.com (s3.amazonaws.com)|52.216.228.75|:443... connected.\n",
            "HTTP request sent, awaiting response... 200 OK\n",
            "Length: 1647046227 (1.5G) [application/x-gzip]\n",
            "Saving to: ‘GoogleNews-vectors-negative300.bin.gz’\n",
            "\n",
            "GoogleNews-vectors- 100%[===================>]   1.53G  16.2MB/s    in 1m 41s  \n",
            "\n",
            "2021-12-29 17:14:32 (15.6 MB/s) - ‘GoogleNews-vectors-negative300.bin.gz’ saved [1647046227/1647046227]\n",
            "\n"
          ]
        }
      ]
    },
    {
      "cell_type": "code",
      "source": [
        "DEVICE = torch.device('cuda') if torch.cuda.is_available() else torch.device('cpu')"
      ],
      "metadata": {
        "id": "trXkuqUjSZ2R"
      },
      "execution_count": 4,
      "outputs": []
    },
    {
      "cell_type": "code",
      "execution_count": 6,
      "metadata": {
        "id": "HjhmNkJqNifh"
      },
      "outputs": [],
      "source": [
        "df = pd.read_csv('Fake.csv')"
      ]
    },
    {
      "cell_type": "markdown",
      "source": [
        "Препроцессинг - в статье только приведение к нижнему регистру + паддинг, я добавила очистку от пунктуации, поскольку у нас не задача оценки тональности, и смайлики и прочее вряд ли сможет многое сказать о теме. И еще немного изменила паддинг (в оригинале паддилось до максимальной длины текста в трейне, но у нас макс. длина около 7800, а большая часть текстов длиной не превышает 512, поэтому буду обрезать и паддить до нее)"
      ],
      "metadata": {
        "id": "52AXLhvWuwK6"
      }
    },
    {
      "cell_type": "code",
      "source": [
        "def preprocess_text(text):\n",
        "    tokens = word_tokenize(text.lower())\n",
        "    tokens = [token for token in tokens if token.isalpha()]\n",
        "    return tokens\n",
        "\n",
        "ls = []\n",
        "cat_mapper = {cat: n for n, cat in enumerate(df.subject.unique())}\n",
        "df.subject = df.subject.map(cat_mapper)\n",
        "train_data, val_data = train_test_split(df, test_size=0.2, stratify=df.subject.values)\n",
        "word_vocab = Counter()\n",
        "for text in tqdm(df['text']):\n",
        "    text = preprocess_text(text)\n",
        "    word_vocab.update(text)\n",
        "    #ls.append(len(text))\n",
        "    \n",
        "word2id = {'PAD':0}\n",
        "\n",
        "for word in word_vocab:\n",
        "    word2id[word] = len(word2id)\n",
        "id2word = {i:word for word, i in word2id.items()}"
      ],
      "metadata": {
        "id": "cIKodiSPQ8jO",
        "colab": {
          "base_uri": "https://localhost:8080/"
        },
        "outputId": "582c6813-1dda-46b9-d49c-6c6a072a3801"
      },
      "execution_count": 7,
      "outputs": [
        {
          "output_type": "stream",
          "name": "stderr",
          "text": [
            "100%|██████████| 23481/23481 [01:13<00:00, 317.80it/s]\n"
          ]
        }
      ]
    },
    {
      "cell_type": "code",
      "source": [
        "cat_mapper"
      ],
      "metadata": {
        "colab": {
          "base_uri": "https://localhost:8080/"
        },
        "id": "oG6vPZayW9He",
        "outputId": "a4a5f62b-8018-4af3-febe-af777b7bb989"
      },
      "execution_count": 10,
      "outputs": [
        {
          "output_type": "execute_result",
          "data": {
            "text/plain": [
              "{'Government News': 2,\n",
              " 'Middle-east': 5,\n",
              " 'News': 0,\n",
              " 'US_News': 4,\n",
              " 'left-news': 3,\n",
              " 'politics': 1}"
            ]
          },
          "metadata": {},
          "execution_count": 10
        }
      ]
    },
    {
      "cell_type": "code",
      "source": [
        "sns_plot = sns.distplot(ls)\n",
        "fig = sns_plot.get_figure()"
      ],
      "metadata": {
        "colab": {
          "base_uri": "https://localhost:8080/",
          "height": 319
        },
        "outputId": "4df4e2e7-0243-4de3-f393-52ca09e0544b",
        "id": "57kxpOjyOCSK"
      },
      "execution_count": null,
      "outputs": [
        {
          "output_type": "stream",
          "name": "stderr",
          "text": [
            "/usr/local/lib/python3.7/dist-packages/seaborn/distributions.py:2619: FutureWarning: `distplot` is a deprecated function and will be removed in a future version. Please adapt your code to use either `displot` (a figure-level function with similar flexibility) or `histplot` (an axes-level function for histograms).\n",
            "  warnings.warn(msg, FutureWarning)\n"
          ]
        },
        {
          "output_type": "display_data",
          "data": {
            "image/png": "[encoded data removed]",
            "text/plain": [
              "<Figure size 432x288 with 1 Axes>"
            ]
          },
          "metadata": {
            "needs_background": "light"
          }
        }
      ]
    },
    {
      "cell_type": "code",
      "source": [
        "print(len(ls), max(ls))\n",
        "print(len([l for l in ls if l <= 256]))\n",
        "print(len([l for l in ls if l <= 512]))\n",
        "print(len([l for l in ls if l <= 1024]))"
      ],
      "metadata": {
        "colab": {
          "base_uri": "https://localhost:8080/"
        },
        "id": "u8DoTgO1cr2l",
        "outputId": "cdd20707-047e-4973-b5ab-66c7903a5c64"
      },
      "execution_count": null,
      "outputs": [
        {
          "output_type": "stream",
          "name": "stdout",
          "text": [
            "23481 7815\n",
            "6753\n",
            "18325\n",
            "22567\n"
          ]
        }
      ]
    },
    {
      "cell_type": "code",
      "source": [
        "class NewsDataset(Dataset):\n",
        "\n",
        "    def __init__(self, dataset, word2id, DEVICE):\n",
        "        self.dataset = dataset['text'].values\n",
        "        self.word2id = word2id\n",
        "        self.length = dataset.shape[0]\n",
        "        self.target = dataset['subject'].values\n",
        "        self.device = DEVICE\n",
        "\n",
        "    def __len__(self):\n",
        "        return self.length\n",
        "\n",
        "    def __getitem__(self, index): \n",
        "        words = preprocess_text(self.dataset[index])\n",
        "        ids = [self.word2id[word] for word in words if word in self.word2id][:512]\n",
        "        ids = F.pad(torch.LongTensor(ids), pad=(0, 512 - len(ids)))\n",
        "        y = [self.target[index]]\n",
        "        return ids, y\n",
        "\n",
        "    def collate_fn(self, batch):\n",
        "      ids, y = list(zip(*batch))\n",
        "      padded_ids = torch.LongTensor(len(ids), 512)\n",
        "      for i, id in enumerate(ids):\n",
        "          padded_ids[i] = id\n",
        "      y = torch.LongTensor(y).to(self.device)\n",
        "      return padded_ids.to(self.device), y"
      ],
      "metadata": {
        "id": "FouWPEXWSm94"
      },
      "execution_count": 91,
      "outputs": []
    },
    {
      "cell_type": "code",
      "source": [
        "train_dataset = NewsDataset(train_data, word2id, DEVICE)\n",
        "train_sampler = RandomSampler(train_dataset)\n",
        "train_iterator = DataLoader(train_dataset, collate_fn = train_dataset.collate_fn, sampler=train_sampler, batch_size=64)\n",
        "val_dataset = NewsDataset(val_data, word2id, DEVICE)\n",
        "val_sampler = SequentialSampler(val_dataset)\n",
        "val_iterator = DataLoader(val_dataset, collate_fn = val_dataset.collate_fn, sampler=val_sampler, batch_size=64)"
      ],
      "metadata": {
        "id": "Fe_JNRd3TNLe"
      },
      "execution_count": 92,
      "outputs": []
    },
    {
      "cell_type": "code",
      "execution_count": 35,
      "metadata": {
        "colab": {
          "base_uri": "https://localhost:8080/"
        },
        "id": "KVPNXxRQNifh",
        "outputId": "99e83332-e8b9-4f9d-ed29-5877ca6fb653"
      },
      "outputs": [
        {
          "output_type": "stream",
          "name": "stderr",
          "text": [
            "/usr/local/lib/python3.7/dist-packages/ipykernel_launcher.py:6: DeprecationWarning: Call to deprecated `wv` (Attribute will be removed in 4.0.0, use self instead).\n",
            "  \n"
          ]
        }
      ],
      "source": [
        "w2v = gensim.models.KeyedVectors.load_word2vec_format('GoogleNews-vectors-negative300.bin', binary=True)\n",
        "weights = np.zeros((len(word2id), 300))\n",
        "count = 0\n",
        "for word, i in word2id.items():\n",
        "    try:\n",
        "        weights[i] = w2v.wv[word]    \n",
        "    except KeyError:\n",
        "        count += 1\n",
        "        weights[i] = np.random.normal(-0.25,0.25,300)"
      ]
    },
    {
      "cell_type": "code",
      "execution_count": 96,
      "metadata": {
        "id": "Mu7nYb4_Nifi"
      },
      "outputs": [],
      "source": [
        "class CLSTM(nn.Module):\n",
        "    \n",
        "    def __init__(self, vocab_size, cnn_n=[3], cnn_oc=[150], lstm_dim=150, dp_l=0, dp_p=0.1):\n",
        "        super().__init__()\n",
        "        self.embedding = nn.Embedding(vocab_size, 300)\n",
        "        self.embedding.from_pretrained(torch.tensor(weights), freeze=False)\n",
        "        self.cnn_n = cnn_n\n",
        "        if 2 in cnn_n:\n",
        "            self.bigrams = nn.Conv1d(in_channels=300, out_channels=cnn_oc[cnn_n.index(2)], kernel_size=2, padding='valid')\n",
        "        if 3 in cnn_n:\n",
        "            self.trigrams = nn.Conv1d(in_channels=300, out_channels=cnn_oc[cnn_n.index(3)], kernel_size=3, padding='valid')\n",
        "        if 4 in cnn_n:\n",
        "            self.qgrams = nn.Conv1d(in_channels=300, out_channels=cnn_oc[cnn_n.index(4)], kernel_size=4, padding='valid')\n",
        "        self.relu = nn.ReLU()\n",
        "        self.lstm = nn.LSTM(input_size=sum(cnn_oc), hidden_size=lstm_dim, num_layers=1, batch_first=True)\n",
        "        self.dp_l = dp_l\n",
        "        if dp_l !=0:\n",
        "            self.dp = nn.Dropout(p=dp_p)\n",
        "        self.linear = nn.Linear(lstm_dim, 6)\n",
        "\n",
        "    def forward(self, n):\n",
        "        embedded = self.embedding(n)\n",
        "        if self.dp_l == 1:\n",
        "            embedded = self.dp(embedded)\n",
        "        embedded = embedded.transpose(1,2)\n",
        "        feature_map_ngrams = []\n",
        "        if 2 in self.cnn_n:\n",
        "            feature_map_ngrams.append(self.relu(self.bigrams(embedded))[:,:,:511 - max(self.cnn_n)])\n",
        "        if 3 in self.cnn_n:\n",
        "            feature_map_ngrams.append(self.relu(self.trigrams(embedded))[:,:,:511 - max(self.cnn_n)])\n",
        "        if 4 in self.cnn_n:\n",
        "            feature_map_ngrams.append(self.relu(self.qgrams(embedded))[:,:,:511 - max(self.cnn_n)])\n",
        "        if len(self.cnn_n) > 1:\n",
        "            feature_map_ngrams = torch.cat(feature_map_ngrams, 1)\n",
        "        else:\n",
        "            feature_map_ngrams = feature_map_ngrams[0]\n",
        "        out, (ht, ct) = self.lstm(feature_map_ngrams.transpose(1,2))\n",
        "        if self.dp_l == 2:\n",
        "            out = self.dp(ht[-1])\n",
        "        out = self.linear(ht[-1])\n",
        "        return out"
      ]
    },
    {
      "cell_type": "code",
      "execution_count": 122,
      "metadata": {
        "id": "kKszpkP5Nifl"
      },
      "outputs": [],
      "source": [
        "def train(model, iterator, optimizer, criterion):\n",
        "    epoch_loss = 0\n",
        "\n",
        "    model.train()\n",
        "\n",
        "    for i, (texts, ys) in enumerate(iterator):\n",
        "        optimizer.zero_grad()\n",
        "        preds = model(texts)\n",
        "        loss = criterion(preds, ys.squeeze())\n",
        "        loss.backward()\n",
        "        optimizer.step()\n",
        "        epoch_loss += loss.item()\n",
        "        if not (i + 1) % int(len(iterator)/5):\n",
        "            print(f'Train loss: {epoch_loss/i}')      \n",
        "    return  epoch_loss / len(iterator)\n",
        "\n",
        "def evaluate(model, iterator, criterion):\n",
        "    epoch_loss = 0\n",
        "    epoch_metric = 0\n",
        "    model.eval() \n",
        "    with torch.no_grad():\n",
        "        for i, (texts, ys) in enumerate(iterator):   \n",
        "            preds = model(texts)\n",
        "            loss = criterion(preds,ys.squeeze())\n",
        "            epoch_loss += loss.item()\n",
        "            batch_metric = f1(preds, ys.squeeze(), ignore_index=0)\n",
        "            epoch_metric += batch_metric\n",
        "\n",
        "            if not (i + 1) % int(len(iterator)/5):\n",
        "              print(f'Val loss: {epoch_loss/i}, Val f1: {epoch_metric/i}')\n",
        "        \n",
        "    return epoch_metric / len(iterator), epoch_loss / len(iterator)"
      ]
    },
    {
      "cell_type": "code",
      "source": [
        "def get_results(epochs, train_iterator, val_iterator, ps, wd=0):\n",
        "\n",
        "    model = CLSTM(len(word2id), **ps).to(DEVICE)\n",
        "    criterion = nn.CrossEntropyLoss().to(DEVICE)\n",
        "    optimizer = optim.RMSprop(model.parameters(), weight_decay=wd)\n",
        "\n",
        "    losses = []\n",
        "    losses_eval = []\n",
        "    f1s = []\n",
        "    f1s_eval = []\n",
        "    for i in tqdm(range(epochs)):\n",
        "        print(f\"\\nParameters: cnn_n={ps['cnn_n']}, cnn_oc={ps['cnn_oc']}, lstm_dim={ps['lstm_dim']}, dp_l={ps['dp_l']}, dp_p={ps['dp_p']}, wd={wd}\")\n",
        "        print(f'\\nstarting Epoch {i}')\n",
        "        print('Training...')\n",
        "        epoch_loss = train(model, train_iterator, optimizer, criterion)\n",
        "        losses.append(epoch_loss)\n",
        "        print('\\nEvaluating on train...')\n",
        "        f1_on_train,_ = evaluate(model, train_iterator, criterion)\n",
        "        f1s.append(f1_on_train)\n",
        "        print('\\nEvaluating on test...')\n",
        "        f1_on_test, epoch_loss_on_test = evaluate(model, val_iterator, criterion)\n",
        "        losses_eval.append(epoch_loss_on_test)\n",
        "        f1s_eval.append(f1_on_test)\n",
        "    return [losses, losses_eval, f1s, f1s_eval, ps, wd]"
      ],
      "metadata": {
        "id": "0OrTy7PmsOaE"
      },
      "execution_count": 124,
      "outputs": []
    },
    {
      "cell_type": "markdown",
      "source": [
        "### Эксперименты\n",
        "\n",
        "Dropout\n",
        "\n",
        "1) dp_p = 0.5 - слишком большой"
      ],
      "metadata": {
        "id": "Y69CW2uiwnJ1"
      }
    },
    {
      "cell_type": "code",
      "source": [
        "epochs = 2\n",
        "ps = {'cnn_n': [3], 'cnn_oc':[150], 'lstm_dim':150, 'dp_l':1, 'dp_p':0.5}\n",
        "res = []\n",
        "res.append(get_results(2, train_iterator, val_iterator, ps, wd=0))"
      ],
      "metadata": {
        "colab": {
          "base_uri": "https://localhost:8080/"
        },
        "id": "TZIeP4uotgd9",
        "outputId": "39cafdf6-2012-4c0b-87db-6520869b8721"
      },
      "execution_count": 125,
      "outputs": [
        {
          "output_type": "stream",
          "name": "stderr",
          "text": [
            "\r  0%|          | 0/2 [00:00<?, ?it/s]"
          ]
        },
        {
          "output_type": "stream",
          "name": "stdout",
          "text": [
            "\n",
            "Parameters: cnn_n=[3], cnn_oc=[150], lstm_dim=150, dp_l=1, dp_p=0.5, wd=0\n",
            "\n",
            "starting Epoch 0\n",
            "Training...\n",
            "Train loss: 1.8231793391077142\n",
            "Train loss: 1.6641193472820779\n",
            "Train loss: 1.6130632175875537\n",
            "Train loss: 1.593395657353587\n",
            "Train loss: 1.5747657832802373\n",
            "\n",
            "Evaluating on train...\n",
            "Val loss: 1.5584880845588551, Val f1: 0.0008996851393021643\n",
            "Val loss: 1.5411185824352762, Val f1: 0.000786936841905117\n",
            "Val loss: 1.5328051141231736, Val f1: 0.0007983629475347698\n",
            "Val loss: 1.5361631375886662, Val f1: 0.0008199083968065679\n",
            "Val loss: 1.5386751560191383, Val f1: 0.0008423975668847561\n",
            "\n",
            "Evaluating on test...\n",
            "Val loss: 1.6881263256072998, Val f1: 0.0037523454520851374\n",
            "Val loss: 1.59821946532638, Val f1: 0.0018066847696900368\n",
            "Val loss: 1.5804642962246407, Val f1: 0.003773264354094863\n",
            "Val loss: 1.561386589570479, Val f1: 0.0028127969708293676\n",
            "Val loss: 1.556981995485831, Val f1: 0.0022420845925807953\n"
          ]
        },
        {
          "output_type": "stream",
          "name": "stderr",
          "text": [
            "\r 50%|█████     | 1/2 [03:47<03:47, 227.29s/it]"
          ]
        },
        {
          "output_type": "stream",
          "name": "stdout",
          "text": [
            "\n",
            "Parameters: cnn_n=[3], cnn_oc=[150], lstm_dim=150, dp_l=1, dp_p=0.5, wd=0\n",
            "\n",
            "starting Epoch 1\n",
            "Training...\n",
            "Train loss: 1.5413716257664196\n",
            "Train loss: 1.5220178904740707\n",
            "Train loss: 1.521001260404642\n",
            "Train loss: 1.5148339968223077\n",
            "Train loss: 1.5195495063458346\n",
            "\n",
            "Evaluating on train...\n",
            "Val loss: 1.5541581166417975, Val f1: 0.0\n",
            "Val loss: 1.538400241603022, Val f1: 0.0\n",
            "Val loss: 1.534130353459044, Val f1: 0.0\n",
            "Val loss: 1.5312199159102007, Val f1: 0.0\n",
            "Val loss: 1.5254703677649317, Val f1: 0.0\n",
            "\n",
            "Evaluating on test...\n",
            "Val loss: 1.665473195222708, Val f1: 0.0\n",
            "Val loss: 1.5781878851078175, Val f1: 0.0\n",
            "Val loss: 1.5614723984788104, Val f1: 0.0\n",
            "Val loss: 1.547856348211115, Val f1: 0.0\n",
            "Val loss: 1.5445563758628955, Val f1: 0.0\n"
          ]
        },
        {
          "output_type": "stream",
          "name": "stderr",
          "text": [
            "100%|██████████| 2/2 [07:27<00:00, 223.66s/it]\n"
          ]
        }
      ]
    },
    {
      "cell_type": "markdown",
      "source": [
        "2) Без дропаута наилучший размер фильтра - 2 (если мы берем только 1)."
      ],
      "metadata": {
        "id": "NvSAx-4u0E-a"
      }
    },
    {
      "cell_type": "code",
      "source": [
        "from itertools import product\n",
        "params = list(product(*[[[2], [3], [4]], [[150]], [150], [0], [0]]))\n",
        "for p in params:\n",
        "    ps = {'cnn_n': p[0], 'cnn_oc':p[1], 'lstm_dim':p[2], 'dp_l':p[3], 'dp_p':p[4]}\n",
        "    res.append(get_results(2, train_iterator, val_iterator, ps, wd=0))"
      ],
      "metadata": {
        "colab": {
          "base_uri": "https://localhost:8080/"
        },
        "id": "4NUDHWQBwgp1",
        "outputId": "28e0e8f1-694c-48c8-af98-af595964532a"
      },
      "execution_count": 128,
      "outputs": [
        {
          "metadata": {
            "tags": null
          },
          "name": "stderr",
          "output_type": "stream",
          "text": [
            "\r  0%|          | 0/2 [00:00<?, ?it/s]"
          ]
        },
        {
          "metadata": {
            "tags": null
          },
          "name": "stdout",
          "output_type": "stream",
          "text": [
            "\n",
            "Parameters: cnn_n=[2], cnn_oc=[150], lstm_dim=150, dp_l=0, dp_p=0, wd=0\n",
            "\n",
            "starting Epoch 0\n",
            "Training...\n",
            "Train loss: 1.6204347673215365\n",
            "Train loss: 1.4307504622832588\n",
            "Train loss: 1.3494238440011967\n",
            "Train loss: 1.3005870882566872\n",
            "Train loss: 1.2634515015724208\n",
            "\n",
            "Evaluating on train...\n",
            "Val loss: 1.1571627321996187, Val f1: 0.44730624556541443\n",
            "Val loss: 1.1634878272595612, Val f1: 0.4409838914871216\n",
            "Val loss: 1.1697335015831656, Val f1: 0.43651482462882996\n",
            "Val loss: 1.1695432851324865, Val f1: 0.4370649456977844\n",
            "Val loss: 1.1705301581369552, Val f1: 0.436114102602005\n",
            "\n",
            "Evaluating on test...\n",
            "Val loss: 1.276118516921997, Val f1: 0.4792642295360565\n",
            "Val loss: 1.225641617068538, Val f1: 0.45965734124183655\n",
            "Val loss: 1.2141798691051762, Val f1: 0.4461507797241211\n",
            "Val loss: 1.2000760089267384, Val f1: 0.4447583258152008\n",
            "Val loss: 1.1947462316872417, Val f1: 0.4359973967075348\n"
          ]
        },
        {
          "metadata": {
            "tags": null
          },
          "name": "stderr",
          "output_type": "stream",
          "text": [
            "\r 50%|█████     | 1/2 [03:50<03:50, 230.17s/it]"
          ]
        },
        {
          "metadata": {
            "tags": null
          },
          "name": "stdout",
          "output_type": "stream",
          "text": [
            "\n",
            "Parameters: cnn_n=[2], cnn_oc=[150], lstm_dim=150, dp_l=0, dp_p=0, wd=0\n",
            "\n",
            "starting Epoch 1\n",
            "Training...\n",
            "Train loss: 1.136707395838018\n",
            "Train loss: 1.1044035217036372\n",
            "Train loss: 1.0963394817589336\n",
            "Train loss: 1.0880088380404882\n",
            "Train loss: 1.0840885131829339\n",
            "\n",
            "Evaluating on train...\n",
            "Val loss: 1.1702074826809399, Val f1: 0.41323551535606384\n",
            "Val loss: 1.1402857288070347, Val f1: 0.4184524714946747\n",
            "Val loss: 1.1285957559684798, Val f1: 0.42537400126457214\n",
            "Val loss: 1.1207973257803814, Val f1: 0.42713502049446106\n",
            "Val loss: 1.1222960282774532, Val f1: 0.4241015911102295\n",
            "\n",
            "Evaluating on test...\n",
            "Val loss: 1.2449905092899616, Val f1: 0.48826950788497925\n",
            "Val loss: 1.185607428903933, Val f1: 0.45434412360191345\n",
            "Val loss: 1.1737534723630765, Val f1: 0.43727248907089233\n",
            "Val loss: 1.165165254202756, Val f1: 0.4304657280445099\n",
            "Val loss: 1.1625471391539643, Val f1: 0.4219287037849426\n"
          ]
        },
        {
          "metadata": {
            "tags": null
          },
          "name": "stderr",
          "output_type": "stream",
          "text": [
            "100%|██████████| 2/2 [07:08<00:00, 214.48s/it]\n",
            "  0%|          | 0/2 [00:00<?, ?it/s]"
          ]
        },
        {
          "metadata": {
            "tags": null
          },
          "name": "stdout",
          "output_type": "stream",
          "text": [
            "\n",
            "Parameters: cnn_n=[3], cnn_oc=[150], lstm_dim=150, dp_l=0, dp_p=0, wd=0\n",
            "\n",
            "starting Epoch 0\n",
            "Training...\n",
            "Train loss: 1.783151243862353\n",
            "Train loss: 1.6402744749318\n",
            "Train loss: 1.5981140846461919\n",
            "Train loss: 1.5743401205384886\n",
            "Train loss: 1.5569198148060834\n",
            "\n",
            "Evaluating on train...\n",
            "Val loss: 1.5117364034318088, Val f1: 0.0\n",
            "Val loss: 1.504624585483385, Val f1: 0.0004830917459912598\n",
            "Val loss: 1.490907930225306, Val f1: 0.00032113035558722913\n",
            "Val loss: 1.487953724799218, Val f1: 0.00024050023057498038\n",
            "Val loss: 1.4833947890357575, Val f1: 0.00019223375420551747\n",
            "\n",
            "Evaluating on test...\n",
            "Val loss: 1.6210755018087535, Val f1: 0.0\n",
            "Val loss: 1.5397642100298847, Val f1: 0.0018518517026677728\n",
            "Val loss: 1.523275901631611, Val f1: 0.0012195120798423886\n",
            "Val loss: 1.504959039254622, Val f1: 0.0009090907988138497\n",
            "Val loss: 1.5014228250669397, Val f1: 0.0007246376480907202\n"
          ]
        },
        {
          "metadata": {
            "tags": null
          },
          "name": "stderr",
          "output_type": "stream",
          "text": [
            "\r 50%|█████     | 1/2 [03:26<03:26, 206.75s/it]"
          ]
        },
        {
          "metadata": {
            "tags": null
          },
          "name": "stdout",
          "output_type": "stream",
          "text": [
            "\n",
            "Parameters: cnn_n=[3], cnn_oc=[150], lstm_dim=150, dp_l=0, dp_p=0, wd=0\n",
            "\n",
            "starting Epoch 1\n",
            "Training...\n",
            "Train loss: 1.5234233329170628\n",
            "Train loss: 1.50968512452167\n",
            "Train loss: 1.5098171337491515\n",
            "Train loss: 1.5042574658538357\n",
            "Train loss: 1.4992981406644141\n",
            "\n",
            "Evaluating on train...\n",
            "Val loss: 1.8845572178823906, Val f1: 0.3677920997142792\n",
            "Val loss: 1.8714682040007218, Val f1: 0.3639366924762726\n",
            "Val loss: 1.8620321075351252, Val f1: 0.3634633719921112\n",
            "Val loss: 1.8590424850389555, Val f1: 0.36378660798072815\n",
            "Val loss: 1.8625789653883673, Val f1: 0.36166277527809143\n",
            "\n",
            "Evaluating on test...\n",
            "Val loss: 1.9703253507614136, Val f1: 0.40397459268569946\n",
            "Val loss: 1.9021951269220423, Val f1: 0.38608163595199585\n",
            "Val loss: 1.9000613776648916, Val f1: 0.37423545122146606\n",
            "Val loss: 1.8734228112480857, Val f1: 0.3723181486129761\n",
            "Val loss: 1.8841901378355164, Val f1: 0.36380335688591003\n"
          ]
        },
        {
          "metadata": {
            "tags": null
          },
          "name": "stderr",
          "output_type": "stream",
          "text": [
            "100%|██████████| 2/2 [06:46<00:00, 203.47s/it]\n",
            "  0%|          | 0/2 [00:00<?, ?it/s]"
          ]
        },
        {
          "metadata": {
            "tags": null
          },
          "name": "stdout",
          "output_type": "stream",
          "text": [
            "\n",
            "Parameters: cnn_n=[4], cnn_oc=[150], lstm_dim=150, dp_l=0, dp_p=0, wd=0\n",
            "\n",
            "starting Epoch 0\n",
            "Training...\n",
            "Train loss: 1.7435541299351476\n",
            "Train loss: 1.6224083216293999\n",
            "Train loss: 1.572988622450415\n",
            "Train loss: 1.5510893136391908\n",
            "Train loss: 1.5416235932016868\n",
            "\n",
            "Evaluating on train...\n",
            "Val loss: 1.5865635244469893, Val f1: 0.370564728975296\n",
            "Val loss: 1.5817232100859933, Val f1: 0.3628492057323456\n",
            "Val loss: 1.5762792198644209, Val f1: 0.3632850646972656\n",
            "Val loss: 1.573692452339899, Val f1: 0.36020609736442566\n",
            "Val loss: 1.5723402029915252, Val f1: 0.36076247692108154\n",
            "\n",
            "Evaluating on test...\n",
            "Val loss: 1.6828917173238902, Val f1: 0.40397459268569946\n",
            "Val loss: 1.622062572726497, Val f1: 0.38608163595199585\n",
            "Val loss: 1.6066750491537698, Val f1: 0.37423545122146606\n",
            "Val loss: 1.5926725084131415, Val f1: 0.3723181486129761\n",
            "Val loss: 1.5937307122824849, Val f1: 0.36380335688591003\n"
          ]
        },
        {
          "metadata": {
            "tags": null
          },
          "name": "stderr",
          "output_type": "stream",
          "text": [
            "\r 50%|█████     | 1/2 [03:36<03:36, 216.45s/it]"
          ]
        },
        {
          "output_type": "stream",
          "name": "stdout",
          "text": [
            "\n",
            "Parameters: cnn_n=[4], cnn_oc=[150], lstm_dim=150, dp_l=0, dp_p=0, wd=0\n",
            "\n",
            "starting Epoch 1\n",
            "Training...\n",
            "Train loss: 1.4979146405270225\n",
            "Train loss: 1.5064280582510907\n",
            "Train loss: 1.5046119855318456\n",
            "Train loss: 1.4989593921801745\n",
            "Train loss: 1.4932330879785611\n",
            "\n",
            "Evaluating on train...\n",
            "Val loss: 1.5163015670943678, Val f1: 0.06286787241697311\n",
            "Val loss: 1.5077804959338643, Val f1: 0.06238861382007599\n",
            "Val loss: 1.5015716883488472, Val f1: 0.06039377301931381\n",
            "Val loss: 1.4997474048044774, Val f1: 0.06187602877616882\n",
            "Val loss: 1.4973584029913773, Val f1: 0.06356290727853775\n",
            "\n",
            "Evaluating on test...\n",
            "Val loss: 1.6028246329380915, Val f1: 0.07255629450082779\n",
            "Val loss: 1.543387527819033, Val f1: 0.06897188723087311\n",
            "Val loss: 1.5316799297565367, Val f1: 0.07033832371234894\n",
            "Val loss: 1.5183872504667801, Val f1: 0.06902037560939789\n",
            "Val loss: 1.5172853348911672, Val f1: 0.06750103831291199\n"
          ]
        },
        {
          "output_type": "stream",
          "name": "stderr",
          "text": [
            "100%|██████████| 2/2 [07:13<00:00, 216.55s/it]\n"
          ]
        }
      ]
    },
    {
      "cell_type": "code",
      "source": [
        "#смотрим на наилучший f1 для каждого набора параметров, потому что модель после 1 эпохи результат может быть лучше, чем после 2\n",
        "print(max(res, key=lambda x: max(x[3]))[-2])"
      ],
      "metadata": {
        "colab": {
          "base_uri": "https://localhost:8080/"
        },
        "id": "xn8vLi6O3PzH",
        "outputId": "42104069-46b0-4225-ab7c-5d12584b6476"
      },
      "execution_count": 130,
      "outputs": [
        {
          "output_type": "stream",
          "name": "stdout",
          "text": [
            "{'cnn_n': [2], 'cnn_oc': [150], 'lstm_dim': 150, 'dp_l': 0, 'dp_p': 0}\n"
          ]
        }
      ]
    },
    {
      "cell_type": "markdown",
      "source": [
        "Добавим дропаут 0.2 для фильтра размера 2 и посмотрим, к какому слою лучше его добавить (или лучше вообще не добавлять)"
      ],
      "metadata": {
        "id": "b3WYKtYX55Z-"
      }
    },
    {
      "cell_type": "code",
      "source": [
        "params = list(product(*[[[2]], [[150]], [150], [1, 2], [0.2]]))\n",
        "for p in params:\n",
        "    ps = {'cnn_n': p[0], 'cnn_oc':p[1], 'lstm_dim':p[2], 'dp_l':p[3], 'dp_p':p[4]}\n",
        "    res.append(get_results(2, train_iterator, val_iterator, ps, wd=0))"
      ],
      "metadata": {
        "colab": {
          "base_uri": "https://localhost:8080/"
        },
        "id": "UmLVAV-D4avu",
        "outputId": "0608d01e-5043-4b5a-b0b6-fb9689ca5a61"
      },
      "execution_count": 131,
      "outputs": [
        {
          "output_type": "stream",
          "name": "stderr",
          "text": [
            "\r  0%|          | 0/2 [00:00<?, ?it/s]"
          ]
        },
        {
          "output_type": "stream",
          "name": "stdout",
          "text": [
            "\n",
            "Parameters: cnn_n=[2], cnn_oc=[150], lstm_dim=150, dp_l=1, dp_p=0.2, wd=0\n",
            "\n",
            "starting Epoch 0\n",
            "Training...\n",
            "Train loss: 1.7611762410716008\n",
            "Train loss: 1.6265043787334277\n",
            "Train loss: 1.5965843069760097\n",
            "Train loss: 1.5682155420253803\n",
            "Train loss: 1.5559816046982076\n",
            "\n",
            "Evaluating on train...\n",
            "Val loss: 1.678742998524716, Val f1: 0.36492517590522766\n",
            "Val loss: 1.6630892929823502, Val f1: 0.36542031168937683\n",
            "Val loss: 1.6640241297683276, Val f1: 0.36316436529159546\n",
            "Val loss: 1.6649450698456207, Val f1: 0.3618893623352051\n",
            "Val loss: 1.6631632936042073, Val f1: 0.3615424335002899\n",
            "\n",
            "Evaluating on test...\n",
            "Val loss: 1.7971448348118708, Val f1: 0.40397459268569946\n",
            "Val loss: 1.71622305004685, Val f1: 0.38608163595199585\n",
            "Val loss: 1.701114660356103, Val f1: 0.37423545122146606\n",
            "Val loss: 1.6852057521993464, Val f1: 0.3723181486129761\n",
            "Val loss: 1.6856595018635625, Val f1: 0.36380335688591003\n"
          ]
        },
        {
          "output_type": "stream",
          "name": "stderr",
          "text": [
            "\r 50%|█████     | 1/2 [03:49<03:49, 229.51s/it]"
          ]
        },
        {
          "output_type": "stream",
          "name": "stdout",
          "text": [
            "\n",
            "Parameters: cnn_n=[2], cnn_oc=[150], lstm_dim=150, dp_l=1, dp_p=0.2, wd=0\n",
            "\n",
            "starting Epoch 1\n",
            "Training...\n",
            "Train loss: 1.5308623125678615\n",
            "Train loss: 1.5246384019437043\n",
            "Train loss: 1.5192750609679029\n",
            "Train loss: 1.507455243176712\n",
            "Train loss: 1.5075171975528492\n",
            "\n",
            "Evaluating on train...\n",
            "Val loss: 1.514417566751179, Val f1: 0.3607430160045624\n",
            "Val loss: 1.4955831081970878, Val f1: 0.3630949556827545\n",
            "Val loss: 1.4874246630365449, Val f1: 0.3662201166152954\n",
            "Val loss: 1.4876768774800486, Val f1: 0.3625134825706482\n",
            "Val loss: 1.4879205024778637, Val f1: 0.36003273725509644\n",
            "\n",
            "Evaluating on test...\n",
            "Val loss: 1.6062140556482167, Val f1: 0.40416419506073\n",
            "Val loss: 1.535367418218542, Val f1: 0.38505756855010986\n",
            "Val loss: 1.5224152628968401, Val f1: 0.37239423394203186\n",
            "Val loss: 1.5075644167986784, Val f1: 0.36989179253578186\n",
            "Val loss: 1.505488257477249, Val f1: 0.361837238073349\n"
          ]
        },
        {
          "output_type": "stream",
          "name": "stderr",
          "text": [
            "100%|██████████| 2/2 [07:24<00:00, 222.22s/it]\n",
            "  0%|          | 0/2 [00:00<?, ?it/s]"
          ]
        },
        {
          "output_type": "stream",
          "name": "stdout",
          "text": [
            "\n",
            "Parameters: cnn_n=[2], cnn_oc=[150], lstm_dim=150, dp_l=2, dp_p=0.2, wd=0\n",
            "\n",
            "starting Epoch 0\n",
            "Training...\n",
            "Train loss: 1.7804337070699323\n",
            "Train loss: 1.6261687237283458\n",
            "Train loss: 1.5854739033417895\n",
            "Train loss: 1.5694492167724676\n",
            "Train loss: 1.5577265869787407\n",
            "\n",
            "Evaluating on train...\n",
            "Val loss: 1.5606246642899095, Val f1: 0.3743458390235901\n",
            "Val loss: 1.5461840049080227, Val f1: 0.3602447807788849\n",
            "Val loss: 1.5383370818430289, Val f1: 0.359679251909256\n",
            "Val loss: 1.5377224136740615, Val f1: 0.35815373063087463\n",
            "Val loss: 1.530683663889611, Val f1: 0.36168065667152405\n",
            "\n",
            "Evaluating on test...\n",
            "Val loss: 1.643444611476018, Val f1: 0.40307503938674927\n",
            "Val loss: 1.5696045645961054, Val f1: 0.3850324749946594\n",
            "Val loss: 1.5656444939171397, Val f1: 0.3731420338153839\n",
            "Val loss: 1.544298687848178, Val f1: 0.3715030550956726\n",
            "Val loss: 1.5487075197523918, Val f1: 0.3631536364555359\n"
          ]
        },
        {
          "output_type": "stream",
          "name": "stderr",
          "text": [
            "\r 50%|█████     | 1/2 [03:27<03:27, 207.16s/it]"
          ]
        },
        {
          "output_type": "stream",
          "name": "stdout",
          "text": [
            "\n",
            "Parameters: cnn_n=[2], cnn_oc=[150], lstm_dim=150, dp_l=2, dp_p=0.2, wd=0\n",
            "\n",
            "starting Epoch 1\n",
            "Training...\n",
            "Train loss: 1.5159961549859298\n",
            "Train loss: 1.5200906743174014\n",
            "Train loss: 1.512688124110933\n",
            "Train loss: 1.5067447945153043\n",
            "Train loss: 1.498604822736298\n",
            "\n",
            "Evaluating on train...\n",
            "Val loss: 1.530654788017273, Val f1: 0.348596453666687\n",
            "Val loss: 1.5170829845511395, Val f1: 0.34907129406929016\n",
            "Val loss: 1.5101936855757168, Val f1: 0.3511876165866852\n",
            "Val loss: 1.5086731337881707, Val f1: 0.35204648971557617\n",
            "Val loss: 1.5087646530573755, Val f1: 0.3488583266735077\n",
            "\n",
            "Evaluating on test...\n",
            "Val loss: 1.630091016109173, Val f1: 0.4030924141407013\n",
            "Val loss: 1.5622203924037792, Val f1: 0.3755277097225189\n",
            "Val loss: 1.5489345818031124, Val f1: 0.35987862944602966\n",
            "Val loss: 1.5322901075536555, Val f1: 0.35528236627578735\n",
            "Val loss: 1.5307380202887715, Val f1: 0.34522905945777893\n"
          ]
        },
        {
          "output_type": "stream",
          "name": "stderr",
          "text": [
            "100%|██████████| 2/2 [06:55<00:00, 207.55s/it]\n"
          ]
        }
      ]
    },
    {
      "cell_type": "markdown",
      "source": [
        "Лучше без дропаута"
      ],
      "metadata": {
        "id": "KCVCkaxy9gTO"
      }
    },
    {
      "cell_type": "code",
      "source": [
        "print(max(res, key=lambda x: max(x[3]))[-2])"
      ],
      "metadata": {
        "colab": {
          "base_uri": "https://localhost:8080/"
        },
        "id": "wh7ccawQ6S11",
        "outputId": "786b3c0f-0b47-4f61-d2d4-92ac4b6d2728"
      },
      "execution_count": 132,
      "outputs": [
        {
          "output_type": "stream",
          "name": "stdout",
          "text": [
            "{'cnn_n': [2], 'cnn_oc': [150], 'lstm_dim': 150, 'dp_l': 0, 'dp_p': 0}\n"
          ]
        }
      ]
    },
    {
      "cell_type": "markdown",
      "source": [
        "Посмотрим, что будет, если вместо дропаута добавить l2-регуляризацию"
      ],
      "metadata": {
        "id": "LzSysvjk8VRd"
      }
    },
    {
      "cell_type": "code",
      "source": [
        "from itertools import product\n",
        "params = list(product(*[[[2]], [[150]], [150], [0], [0]]))\n",
        "for p in params:\n",
        "    ps = {'cnn_n': p[0], 'cnn_oc':p[1], 'lstm_dim':p[2], 'dp_l':p[3], 'dp_p':p[4]}\n",
        "    res.append(get_results(2, train_iterator, val_iterator, ps, wd=0.001))\n",
        "print(max(res, key=lambda x: max(x[3]))[-2])"
      ],
      "metadata": {
        "colab": {
          "base_uri": "https://localhost:8080/"
        },
        "id": "59knTx6u6brm",
        "outputId": "e479f7f7-40f2-4ba6-c144-83319af99d89"
      },
      "execution_count": 133,
      "outputs": [
        {
          "metadata": {
            "tags": null
          },
          "name": "stderr",
          "output_type": "stream",
          "text": [
            "\r  0%|          | 0/2 [00:00<?, ?it/s]"
          ]
        },
        {
          "metadata": {
            "tags": null
          },
          "name": "stdout",
          "output_type": "stream",
          "text": [
            "\n",
            "Parameters: cnn_n=[2], cnn_oc=[150], lstm_dim=150, dp_l=0, dp_p=0, wd=0.001\n",
            "\n",
            "starting Epoch 0\n",
            "Training...\n",
            "Train loss: 1.6701966001276385\n",
            "Train loss: 1.4578872302304144\n",
            "Train loss: 1.3081127577434386\n",
            "Train loss: 1.2429859067970541\n",
            "Train loss: 1.202455156402192\n",
            "\n",
            "Evaluating on train...\n",
            "Val loss: 1.409546084571303, Val f1: 0.06628016382455826\n",
            "Val loss: 1.3973092991372813, Val f1: 0.06377993524074554\n",
            "Val loss: 1.3976048155327063, Val f1: 0.06289569288492203\n",
            "Val loss: 1.3946934365606927, Val f1: 0.06287463754415512\n",
            "Val loss: 1.3933884025032546, Val f1: 0.06397398561239243\n",
            "\n",
            "Evaluating on test...\n",
            "Val loss: 1.5180768874975352, Val f1: 0.05214604362845421\n",
            "Val loss: 1.4457019920702334, Val f1: 0.06966851651668549\n",
            "Val loss: 1.4289297970329844, Val f1: 0.07257040590047836\n",
            "Val loss: 1.4160482428290628, Val f1: 0.06884511560201645\n",
            "Val loss: 1.4127609021421792, Val f1: 0.06519079208374023\n"
          ]
        },
        {
          "metadata": {
            "tags": null
          },
          "name": "stderr",
          "output_type": "stream",
          "text": [
            "\r 50%|█████     | 1/2 [03:40<03:40, 220.82s/it]"
          ]
        },
        {
          "output_type": "stream",
          "name": "stdout",
          "text": [
            "\n",
            "Parameters: cnn_n=[2], cnn_oc=[150], lstm_dim=150, dp_l=0, dp_p=0, wd=0.001\n",
            "\n",
            "starting Epoch 1\n",
            "Training...\n",
            "Train loss: 1.0914855860827262\n",
            "Train loss: 1.0453127207963362\n",
            "Train loss: 1.0236635015189992\n",
            "Train loss: 1.0074428162533484\n",
            "Train loss: 1.0048687604471886\n",
            "\n",
            "Evaluating on train...\n",
            "Val loss: 0.9322593368982014, Val f1: 0.45608171820640564\n",
            "Val loss: 0.9573889079301253, Val f1: 0.43504032492637634\n",
            "Val loss: 0.9531459077934309, Val f1: 0.4324910640716553\n",
            "Val loss: 0.9542001003310794, Val f1: 0.4339636266231537\n",
            "Val loss: 0.954907574043142, Val f1: 0.434422105550766\n",
            "\n",
            "Evaluating on test...\n",
            "Val loss: 1.054551784808819, Val f1: 0.4950578510761261\n",
            "Val loss: 1.01061350107193, Val f1: 0.4662399888038635\n",
            "Val loss: 1.004414373781623, Val f1: 0.44722551107406616\n",
            "Val loss: 0.9913714668967507, Val f1: 0.44063645601272583\n",
            "Val loss: 0.9867152934489043, Val f1: 0.4310884475708008\n"
          ]
        },
        {
          "output_type": "stream",
          "name": "stderr",
          "text": [
            "100%|██████████| 2/2 [07:10<00:00, 215.30s/it]"
          ]
        },
        {
          "output_type": "stream",
          "name": "stdout",
          "text": [
            "{'cnn_n': [2], 'cnn_oc': [150], 'lstm_dim': 150, 'dp_l': 0, 'dp_p': 0}\n"
          ]
        },
        {
          "output_type": "stream",
          "name": "stderr",
          "text": [
            "\n"
          ]
        }
      ]
    },
    {
      "cell_type": "code",
      "source": [
        "print(max(res, key=lambda x: max(x[3]))[-1])"
      ],
      "metadata": {
        "colab": {
          "base_uri": "https://localhost:8080/"
        },
        "id": "-v03UpMP_JCG",
        "outputId": "10159e8b-8010-44e8-c579-0295f92da3c0"
      },
      "execution_count": 135,
      "outputs": [
        {
          "output_type": "stream",
          "name": "stdout",
          "text": [
            "0\n"
          ]
        }
      ]
    },
    {
      "cell_type": "markdown",
      "source": [
        "Лучше без нее.\n",
        "Теперь посмотрим, что будет, если взять фильтры разной длины"
      ],
      "metadata": {
        "id": "3tdf3N6O9wse"
      }
    },
    {
      "cell_type": "code",
      "source": [
        "from itertools import product\n",
        "params = list(product(*[[[2, 3, 4]], [[300, 150, 150]], [150], [0], [0]]))\n",
        "for p in params:\n",
        "    ps = {'cnn_n': p[0], 'cnn_oc':p[1], 'lstm_dim':p[2], 'dp_l':p[3], 'dp_p':p[4]}\n",
        "    res.append(get_results(2, train_iterator, val_iterator, ps, wd=0))\n",
        "print(max(res, key=lambda x: max(x[3]))[-2])"
      ],
      "metadata": {
        "colab": {
          "base_uri": "https://localhost:8080/"
        },
        "id": "jK9CJTQ6814U",
        "outputId": "b12269bd-1369-4fa8-c70b-a8188298716e"
      },
      "execution_count": 136,
      "outputs": [
        {
          "output_type": "stream",
          "name": "stderr",
          "text": [
            "\r  0%|          | 0/2 [00:00<?, ?it/s]"
          ]
        },
        {
          "output_type": "stream",
          "name": "stdout",
          "text": [
            "\n",
            "Parameters: cnn_n=[2, 3, 4], cnn_oc=[300, 150, 150], lstm_dim=150, dp_l=0, dp_p=0, wd=0\n",
            "\n",
            "starting Epoch 0\n",
            "Training...\n",
            "Train loss: 1.7714566536117018\n",
            "Train loss: 1.6326789990715358\n",
            "Train loss: 1.578915651823055\n",
            "Train loss: 1.5571203959452642\n",
            "Train loss: 1.5487697875210984\n",
            "\n",
            "Evaluating on train...\n",
            "Val loss: 1.4756701745485004, Val f1: 0.04752263054251671\n",
            "Val loss: 1.4633225980012312, Val f1: 0.04569309949874878\n",
            "Val loss: 1.4652783064483907, Val f1: 0.04531539976596832\n",
            "Val loss: 1.4641246589231285, Val f1: 0.04654628038406372\n",
            "Val loss: 1.4609148605472075, Val f1: 0.04742711782455444\n",
            "\n",
            "Evaluating on test...\n",
            "Val loss: 1.5789182552924523, Val f1: 0.0346103198826313\n",
            "Val loss: 1.508352447439123, Val f1: 0.0473824217915535\n",
            "Val loss: 1.4962498996315934, Val f1: 0.05701269581913948\n",
            "Val loss: 1.4777686140754007, Val f1: 0.05819550156593323\n",
            "Val loss: 1.4775391989859983, Val f1: 0.05619310960173607\n"
          ]
        },
        {
          "output_type": "stream",
          "name": "stderr",
          "text": [
            "\r 50%|█████     | 1/2 [04:28<04:28, 268.24s/it]"
          ]
        },
        {
          "output_type": "stream",
          "name": "stdout",
          "text": [
            "\n",
            "Parameters: cnn_n=[2, 3, 4], cnn_oc=[300, 150, 150], lstm_dim=150, dp_l=0, dp_p=0, wd=0\n",
            "\n",
            "starting Epoch 1\n",
            "Training...\n",
            "Train loss: 1.5409216608917504\n",
            "Train loss: 1.5243809088416722\n",
            "Train loss: 1.5100436872140521\n",
            "Train loss: 1.5009611839855903\n",
            "Train loss: 1.494821298493646\n",
            "\n",
            "Evaluating on train...\n",
            "Val loss: 1.48775739627972, Val f1: 0.3553099036216736\n",
            "Val loss: 1.4737987134767616, Val f1: 0.3521776497364044\n",
            "Val loss: 1.4691219116221963, Val f1: 0.3465982973575592\n",
            "Val loss: 1.4697357085876135, Val f1: 0.3442956209182739\n",
            "Val loss: 1.4676336417148683, Val f1: 0.3494608998298645\n",
            "\n",
            "Evaluating on test...\n",
            "Val loss: 1.5735998887282152, Val f1: 0.39856719970703125\n",
            "Val loss: 1.5054659446080525, Val f1: 0.3725178837776184\n",
            "Val loss: 1.4981483366431259, Val f1: 0.3597758114337921\n",
            "Val loss: 1.4826057715849443, Val f1: 0.35674336552619934\n",
            "Val loss: 1.485050298165584, Val f1: 0.3469614088535309\n"
          ]
        },
        {
          "output_type": "stream",
          "name": "stderr",
          "text": [
            "100%|██████████| 2/2 [08:40<00:00, 260.44s/it]"
          ]
        },
        {
          "output_type": "stream",
          "name": "stdout",
          "text": [
            "{'cnn_n': [2], 'cnn_oc': [150], 'lstm_dim': 150, 'dp_l': 0, 'dp_p': 0}\n"
          ]
        },
        {
          "output_type": "stream",
          "name": "stderr",
          "text": [
            "\n"
          ]
        }
      ]
    },
    {
      "cell_type": "markdown",
      "source": [
        "### Итоги\n",
        "\n",
        "Параметры по мере убывания:"
      ],
      "metadata": {
        "id": "dVmYT1Na_1dw"
      }
    },
    {
      "cell_type": "code",
      "source": [
        "print(('\\n').join([str((e[-2], e[-1], e[3])) for e in sorted(res, reverse=True, key=lambda x: max(x[3]))]))"
      ],
      "metadata": {
        "colab": {
          "base_uri": "https://localhost:8080/"
        },
        "id": "C_khNPQY-cMU",
        "outputId": "3ae30d2d-4c54-4160-f9d3-67b7053ece0a"
      },
      "execution_count": 141,
      "outputs": [
        {
          "output_type": "stream",
          "name": "stdout",
          "text": [
            "({'cnn_n': [2], 'cnn_oc': [150], 'lstm_dim': 150, 'dp_l': 0, 'dp_p': 0}, 0, [tensor(0.4314, device='cuda:0'), tensor(0.4189, device='cuda:0')])\n",
            "({'cnn_n': [2], 'cnn_oc': [150], 'lstm_dim': 150, 'dp_l': 0, 'dp_p': 0}, 0.001, [tensor(0.0642, device='cuda:0'), tensor(0.4273, device='cuda:0')])\n",
            "({'cnn_n': [3], 'cnn_oc': [150], 'lstm_dim': 150, 'dp_l': 0, 'dp_p': 0}, 0, [tensor(0.0007, device='cuda:0'), tensor(0.3597, device='cuda:0')])\n",
            "({'cnn_n': [4], 'cnn_oc': [150], 'lstm_dim': 150, 'dp_l': 0, 'dp_p': 0}, 0, [tensor(0.3597, device='cuda:0'), tensor(0.0647, device='cuda:0')])\n",
            "({'cnn_n': [2], 'cnn_oc': [150], 'lstm_dim': 150, 'dp_l': 1, 'dp_p': 0.2}, 0, [tensor(0.3597, device='cuda:0'), tensor(0.3578, device='cuda:0')])\n",
            "({'cnn_n': [2], 'cnn_oc': [150], 'lstm_dim': 150, 'dp_l': 2, 'dp_p': 0.2}, 0, [tensor(0.3591, device='cuda:0'), tensor(0.3414, device='cuda:0')])\n",
            "({'cnn_n': [2, 3, 4], 'cnn_oc': [300, 150, 150], 'lstm_dim': 150, 'dp_l': 0, 'dp_p': 0}, 0, [tensor(0.0544, device='cuda:0'), tensor(0.3426, device='cuda:0')])\n",
            "({'cnn_n': [3], 'cnn_oc': [150], 'lstm_dim': 150, 'dp_l': 1, 'dp_p': 0.5}, 0, [tensor(0.0021, device='cuda:0'), tensor(0., device='cuda:0')])\n"
          ]
        }
      ]
    },
    {
      "cell_type": "markdown",
      "source": [
        "Вероятно, результаты не такие большие, поскольку слишком мало эпох, и из-за этого же не понадобились регуляризация и дропауты (хотя видно, что даже так в некоторых случаях модель переобучилась, возможно, стоит просто еще уменьшить dp и wd). Но с заданным количеством эпох лучше всего брать только 1 фильтр, размером 2 без дропаутов и регуляризации"
      ],
      "metadata": {
        "id": "g39dqLVeAfAH"
      }
    }
  ],
  "metadata": {
    "kernelspec": {
      "display_name": "Python 3",
      "language": "python",
      "name": "python3"
    },
    "language_info": {
      "codemirror_mode": {
        "name": "ipython",
        "version": 3
      },
      "file_extension": ".py",
      "mimetype": "text/x-python",
      "name": "python",
      "nbconvert_exporter": "python",
      "pygments_lexer": "ipython3",
      "version": "3.7.4"
    },
    "colab": {
      "name": "HW3_nn",
      "provenance": [],
      "collapsed_sections": []
    },
    "accelerator": "GPU"
  },
  "nbformat": 4,
  "nbformat_minor": 0
}